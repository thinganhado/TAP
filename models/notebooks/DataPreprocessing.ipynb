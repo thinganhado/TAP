{
 "cells": [
  {
   "cell_type": "markdown",
   "id": "abf98cd4-3f38-45da-bbeb-51e7a637712b",
   "metadata": {},
   "source": [
    "<h3><strong>STEP 1: Load Data from Folders</strong></h3>"
   ]
  },
  {
   "cell_type": "code",
   "execution_count": 3,
   "id": "d8a5c91a-c6a8-40ee-b824-05bfae936e05",
   "metadata": {},
   "outputs": [
    {
     "name": "stdout",
     "output_type": "stream",
     "text": [
      "Found folds: ['fold=0', 'fold=1', 'fold=2', 'fold=3', 'fold=4']\n",
      "Found 73 parquet files in fold=0\n",
      "Found 73 parquet files in fold=1\n",
      "Found 73 parquet files in fold=2\n",
      "Found 73 parquet files in fold=3\n",
      "Found 73 parquet files in fold=4\n",
      "Full dataset shape: (72573, 6)\n",
      "Unique clients per fold: fold\n",
      "0    14863\n",
      "1    14409\n",
      "2    14396\n",
      "3    14380\n",
      "4    14525\n",
      "Name: client_id, dtype: int64\n",
      "\n",
      "First few rows of the combined data:\n",
      "                                           client_id  \\\n",
      "0  06de3ac7ec8aa94fd0add2fa7013c5c4d38ac65691d178...   \n",
      "1  267a58acd5dd260665bd8d144bd0b885e5ba3d64aa016c...   \n",
      "2  2866a36566d25f8869dc420610728d51c863c0960651b6...   \n",
      "3  3456e212d3612683462b9a1bcfb86f183f27201fd59f53...   \n",
      "4  356a9bfd0393827c772473cdf21a6e6197002207a39f08...   \n",
      "\n",
      "                                          event_time  \\\n",
      "0  [1639659730, 1640075227, 1640075567, 164007819...   \n",
      "1  [1642411914, 1642573705, 1642681494, 164275863...   \n",
      "2  [1640529174, 1641129396, 1641219682, 164165575...   \n",
      "3  [1640594433, 1641116534, 1641207479, 164176325...   \n",
      "4  [1640423512, 1640428224, 1640443348, 164078737...   \n",
      "\n",
      "                                           geohash_4  \\\n",
      "0  [46, 46, 46, 46, 46, 46, 46, 46, 46, 46, 46, 4...   \n",
      "1  [949, 949, 949, 949, 949, 949, 949, 949, 949, ...   \n",
      "2  [151, 151, 151, 151, 151, 151, 6, 151, 151, 13...   \n",
      "3  [3, 3, 3, 1, 1, 96, 96, 134, 96, 3, 96, 28, 3,...   \n",
      "4  [47, 851, 36, 47, 851, 47, 36, 47, 47, 47, 47,...   \n",
      "\n",
      "                                           geohash_5  \\\n",
      "0  [451, 451, 451, 451, 451, 451, 451, 451, 451, ...   \n",
      "1  [5149, 5149, 5149, 5149, 5149, 5149, 5149, 582...   \n",
      "2  [1538, 1538, 1538, 1538, 1538, 1538, 17, 3253,...   \n",
      "3  [147, 35, 147, 63, 83, 558, 558, 10001, 173, 3...   \n",
      "4  [91, 5496, 82, 91, 5496, 422, 529, 91, 2447, 9...   \n",
      "\n",
      "                                           geohash_6  fold  \n",
      "0  [8131, 8131, 8131, 8131, 8131, 8131, 8131, 813...     0  \n",
      "1  [10001, 10001, 10001, 10001, 10001, 10001, 100...     0  \n",
      "2  [10001, 10001, 10001, 10001, 10001, 10001, 562...     0  \n",
      "3  [8750, 5215, 8750, 1700, 897, 2452, 2452, 1000...     0  \n",
      "4  [1741, 10001, 572, 1741, 10001, 3362, 10001, 1...     0  \n",
      "\n",
      "Column names:\n",
      "['client_id', 'event_time', 'geohash_4', 'geohash_5', 'geohash_6', 'fold']\n",
      "Raw data saved to geo_data_raw.pkl\n"
     ]
    }
   ],
   "source": [
    "import pandas as pd\n",
    "import os\n",
    "import glob\n",
    "\n",
    "def load_geo_data(base_path):\n",
    "    \"\"\"\n",
    "    Load geolocation data from all fold directories\n",
    "    \"\"\"\n",
    "    # List all the fold directories\n",
    "    fold_dirs = [f for f in os.listdir(base_path) if f.startswith('fold=')]\n",
    "    print(\"Found folds:\", fold_dirs)\n",
    "    \n",
    "    # Load and combine all data, adding a 'fold' column\n",
    "    all_data_frames = []\n",
    "    \n",
    "    for fold_dir in fold_dirs:\n",
    "        fold_number = int(fold_dir.split('=')[1])  # Extract the fold integer\n",
    "        fold_path = os.path.join(base_path, fold_dir)\n",
    "        \n",
    "        # Find all parquet files with the specific naming pattern in this fold directory\n",
    "        parquet_pattern = os.path.join(fold_path, \"part-*.snappy.parquet\")\n",
    "        parquet_files = glob.glob(parquet_pattern)\n",
    "        print(f\"Found {len(parquet_files)} parquet files in {fold_dir}\")\n",
    "        \n",
    "        # Load all parquet files for this fold\n",
    "        fold_dfs = []\n",
    "        for file_path in parquet_files:\n",
    "            df = pd.read_parquet(file_path)\n",
    "            fold_dfs.append(df)\n",
    "        \n",
    "        # Combine all files for this fold\n",
    "        if fold_dfs:\n",
    "            fold_df = pd.concat(fold_dfs, ignore_index=True)\n",
    "            fold_df['fold'] = fold_number\n",
    "            all_data_frames.append(fold_df)\n",
    "    \n",
    "    # Combine all folds into a single DataFrame\n",
    "    if all_data_frames:\n",
    "        geo_df = pd.concat(all_data_frames, ignore_index=True)\n",
    "        print(f\"Full dataset shape: {geo_df.shape}\")\n",
    "        print(f\"Unique clients per fold: {geo_df.groupby('fold')['client_id'].nunique()}\")\n",
    "        \n",
    "        # Display basic info about the loaded data\n",
    "        print(\"\\nFirst few rows of the combined data:\")\n",
    "        print(geo_df.head())\n",
    "        print(\"\\nColumn names:\")\n",
    "        print(geo_df.columns.tolist())\n",
    "        \n",
    "        return geo_df\n",
    "    else:\n",
    "        print(\"No data found. Please check the file paths.\")\n",
    "        return None\n",
    "\n",
    "# Execute Step 1\n",
    "base_path = r\"C:\\Users\\DANNYS\\Documents\\TAP Code\\mbd_mini_dataset\\ptls\\geo\"\n",
    "geo_df = load_geo_data(base_path)\n",
    "\n",
    "# Save the raw loaded data\n",
    "if geo_df is not None:\n",
    "    geo_df.to_pickle(\"geo_data_raw.pkl\")\n",
    "    print(\"Raw data saved to geo_data_raw.pkl\")"
   ]
  },
  {
   "cell_type": "markdown",
   "id": "4edb33ca-ac48-486b-9fad-b2d6d1b32cbe",
   "metadata": {},
   "source": [
    "<h3><strong>STEP 2: Preprocess Data (Explode Arrays and Convert Timestamps)</strong></h3>"
   ]
  },
  {
   "cell_type": "code",
   "execution_count": 10,
   "id": "eb8a8032-f00b-4f5f-afe1-8ebc0a9d2729",
   "metadata": {},
   "outputs": [
    {
     "name": "stdout",
     "output_type": "stream",
     "text": [
      "Testing corrected explosion on first row...\n",
      "Original row shape: (1, 6)\n",
      "Number of events in this client: 1926\n",
      "Exploded row shape: (1926, 6)\n",
      "\n",
      "Original first row (arrays):\n",
      "client_id     06de3ac7ec8aa94fd0add2fa7013c5c4d38ac65691d178...\n",
      "event_time    [1639659730, 1640075227, 1640075567, 164007819...\n",
      "geohash_6     [8131, 8131, 8131, 8131, 8131, 8131, 8131, 813...\n",
      "fold                                                          0\n",
      "Name: 0, dtype: object\n",
      "\n",
      "Exploded first row (individual events):\n",
      "                                           client_id          event_time  \\\n",
      "0  06de3ac7ec8aa94fd0add2fa7013c5c4d38ac65691d178... 2021-12-16 13:02:10   \n",
      "1  06de3ac7ec8aa94fd0add2fa7013c5c4d38ac65691d178... 2021-12-21 08:27:07   \n",
      "2  06de3ac7ec8aa94fd0add2fa7013c5c4d38ac65691d178... 2021-12-21 08:32:47   \n",
      "3  06de3ac7ec8aa94fd0add2fa7013c5c4d38ac65691d178... 2021-12-21 09:16:32   \n",
      "4  06de3ac7ec8aa94fd0add2fa7013c5c4d38ac65691d178... 2021-12-23 10:27:28   \n",
      "5  06de3ac7ec8aa94fd0add2fa7013c5c4d38ac65691d178... 2021-12-24 07:40:37   \n",
      "6  06de3ac7ec8aa94fd0add2fa7013c5c4d38ac65691d178... 2021-12-25 08:15:15   \n",
      "7  06de3ac7ec8aa94fd0add2fa7013c5c4d38ac65691d178... 2021-12-25 09:02:54   \n",
      "8  06de3ac7ec8aa94fd0add2fa7013c5c4d38ac65691d178... 2021-12-25 09:12:31   \n",
      "9  06de3ac7ec8aa94fd0add2fa7013c5c4d38ac65691d178... 2021-12-26 09:06:16   \n",
      "\n",
      "   geohash_6  fold  \n",
      "0       8131     0  \n",
      "1       8131     0  \n",
      "2       8131     0  \n",
      "3       8131     0  \n",
      "4       8131     0  \n",
      "5       8131     0  \n",
      "6       8131     0  \n",
      "7       8131     0  \n",
      "8       8131     0  \n",
      "9       8131     0  \n",
      "\n",
      "Testing geohash decoding on exploded data...\n",
      "\n",
      "Testing geohash decoding:\n",
      "geohash_6[0]: 8131 -> LatLong(latitude=7.294921875, longitude=-178.41796875)\n",
      "geohash_6[1]: 8131 -> LatLong(latitude=7.294921875, longitude=-178.41796875)\n",
      "geohash_6[2]: 8131 -> LatLong(latitude=7.294921875, longitude=-178.41796875)\n",
      "geohash_6[3]: 8131 -> LatLong(latitude=7.294921875, longitude=-178.41796875)\n",
      "geohash_6[4]: 8131 -> LatLong(latitude=7.294921875, longitude=-178.41796875)\n",
      "\n",
      "Successful decodes in first 20 values: 20/20\n"
     ]
    }
   ],
   "source": [
    "# TEST WITH FIRST ROW ONLY\n",
    "import pandas as pd\n",
    "import numpy as np\n",
    "\n",
    "def test_corrected_explosion(geo_df, row_index=0):\n",
    "    \"\"\"\n",
    "    Test the corrected explosion process on a single row\n",
    "    \"\"\"\n",
    "    print(\"Testing corrected explosion on first row...\")\n",
    "    \n",
    "    # Get the first row\n",
    "    test_row = geo_df.iloc[[row_index]].copy()\n",
    "    print(f\"Original row shape: {test_row.shape}\")\n",
    "    \n",
    "    # Convert the Unix timestamp arrays to datetime arrays\n",
    "    test_row['event_time'] = test_row['event_time'].apply(\n",
    "        lambda x: [pd.to_datetime(ts, unit='s') for ts in x]\n",
    "    )\n",
    "    \n",
    "    # Properly explode all arrays\n",
    "    exploded_rows = []\n",
    "    \n",
    "    for _, row in test_row.iterrows():\n",
    "        # Get the number of events for this client\n",
    "        n_events = len(row['event_time'])\n",
    "        \n",
    "        print(f\"Number of events in this client: {n_events}\")\n",
    "        \n",
    "        # For each event, create a new row with all values\n",
    "        for i in range(n_events):\n",
    "            new_row = {\n",
    "                'client_id': row['client_id'],\n",
    "                'event_time': row['event_time'][i],\n",
    "                'geohash_4': row['geohash_4'][i] if i < len(row['geohash_4']) else None,\n",
    "                'geohash_5': row['geohash_5'][i] if i < len(row['geohash_5']) else None,\n",
    "                'geohash_6': row['geohash_6'][i] if i < len(row['geohash_6']) else None,\n",
    "                'fold': row['fold']\n",
    "            }\n",
    "            exploded_rows.append(new_row)\n",
    "    \n",
    "    # Create a DataFrame from the exploded rows\n",
    "    test_exploded = pd.DataFrame(exploded_rows)\n",
    "    print(f\"Exploded row shape: {test_exploded.shape}\")\n",
    "    \n",
    "    return test_exploded\n",
    "\n",
    "# Load the raw data if needed\n",
    "try:\n",
    "    geo_df\n",
    "except NameError:\n",
    "    geo_df = pd.read_pickle(\"geo_data_raw.pkl\")\n",
    "\n",
    "# Test with the first row\n",
    "test_result = test_corrected_explosion(geo_df, row_index=0)\n",
    "\n",
    "# Display the results\n",
    "print(\"\\nOriginal first row (arrays):\")\n",
    "print(geo_df.iloc[0][['client_id', 'event_time', 'geohash_6', 'fold']])\n",
    "\n",
    "print(\"\\nExploded first row (individual events):\")\n",
    "print(test_result[['client_id', 'event_time', 'geohash_6', 'fold']].head(10))\n",
    "\n",
    "# Test geohash decoding on the exploded data\n",
    "print(\"\\nTesting geohash decoding on exploded data...\")\n",
    "\n",
    "def decode_geohash_value(geohash_val):\n",
    "    \"\"\"\n",
    "    Robust function to decode various geohash formats\n",
    "    \"\"\"\n",
    "    try:\n",
    "        if pd.isna(geohash_val):\n",
    "            return (np.nan, np.nan)\n",
    "            \n",
    "        # Convert to string if it's a number\n",
    "        if isinstance(geohash_val, (int, float, np.integer)):\n",
    "            geohash_str = str(int(geohash_val))\n",
    "        else:\n",
    "            geohash_str = str(geohash_val)\n",
    "            \n",
    "        # Try to decode\n",
    "        return gh.decode(geohash_str)\n",
    "    except Exception as e:\n",
    "        print(f\"Failed to decode '{geohash_val}': {e}\")\n",
    "        return (np.nan, np.nan)\n",
    "\n",
    "# Test decoding on a few values\n",
    "print(\"\\nTesting geohash decoding:\")\n",
    "for i, val in enumerate(test_result['geohash_6'].head(5)):\n",
    "    decoded = decode_geohash_value(val)\n",
    "    print(f\"geohash_6[{i}]: {val} -> {decoded}\")\n",
    "\n",
    "# Check if any values decoded successfully\n",
    "successful_decodes = 0\n",
    "for val in test_result['geohash_6'].head(20):\n",
    "    decoded = decode_geohash_value(val)\n",
    "    if not pd.isna(decoded[0]):\n",
    "        successful_decodes += 1\n",
    "\n",
    "print(f\"\\nSuccessful decodes in first 20 values: {successful_decodes}/20\")"
   ]
  },
  {
   "cell_type": "code",
   "execution_count": 15,
   "id": "321c4433-cc4a-43b3-a3f9-a3bbc244bdd7",
   "metadata": {},
   "outputs": [
    {
     "name": "stdout",
     "output_type": "stream",
     "text": [
      "Processing 72573 rows in 30 batches of size 2500\n",
      "Processing batch 1/30\n",
      "Batch 1 processed and saved to processing_batches\\batch_1_of_30.pkl\n",
      "  Exploded from 2500 to 2466639 rows\n",
      "Processing batch 2/30\n",
      "Batch 2 processed and saved to processing_batches\\batch_2_of_30.pkl\n",
      "  Exploded from 2500 to 2305182 rows\n",
      "Processing batch 3/30\n",
      "Batch 3 processed and saved to processing_batches\\batch_3_of_30.pkl\n",
      "  Exploded from 2500 to 2349150 rows\n",
      "Processing batch 4/30\n",
      "Batch 4 processed and saved to processing_batches\\batch_4_of_30.pkl\n",
      "  Exploded from 2500 to 2294776 rows\n",
      "Processing batch 5/30\n",
      "Batch 5 processed and saved to processing_batches\\batch_5_of_30.pkl\n",
      "  Exploded from 2500 to 2359783 rows\n",
      "Processing batch 6/30\n",
      "Batch 6 processed and saved to processing_batches\\batch_6_of_30.pkl\n",
      "  Exploded from 2500 to 2163929 rows\n",
      "Processing batch 7/30\n",
      "Batch 7 processed and saved to processing_batches\\batch_7_of_30.pkl\n",
      "  Exploded from 2500 to 2434234 rows\n",
      "Processing batch 8/30\n",
      "Batch 8 processed and saved to processing_batches\\batch_8_of_30.pkl\n",
      "  Exploded from 2500 to 2216432 rows\n",
      "Processing batch 9/30\n",
      "Batch 9 processed and saved to processing_batches\\batch_9_of_30.pkl\n",
      "  Exploded from 2500 to 2317909 rows\n",
      "Processing batch 10/30\n",
      "Batch 10 processed and saved to processing_batches\\batch_10_of_30.pkl\n",
      "  Exploded from 2500 to 2221682 rows\n",
      "Processing batch 11/30\n",
      "Batch 11 processed and saved to processing_batches\\batch_11_of_30.pkl\n",
      "  Exploded from 2500 to 2104422 rows\n",
      "Processing batch 12/30\n",
      "Batch 12 processed and saved to processing_batches\\batch_12_of_30.pkl\n",
      "  Exploded from 2500 to 2199878 rows\n",
      "Processing batch 13/30\n",
      "Batch 13 processed and saved to processing_batches\\batch_13_of_30.pkl\n",
      "  Exploded from 2500 to 2355742 rows\n",
      "Processing batch 14/30\n",
      "Batch 14 processed and saved to processing_batches\\batch_14_of_30.pkl\n",
      "  Exploded from 2500 to 2340715 rows\n",
      "Processing batch 15/30\n",
      "Batch 15 processed and saved to processing_batches\\batch_15_of_30.pkl\n",
      "  Exploded from 2500 to 2249402 rows\n",
      "Processing batch 16/30\n",
      "Batch 16 processed and saved to processing_batches\\batch_16_of_30.pkl\n",
      "  Exploded from 2500 to 2265256 rows\n",
      "Processing batch 17/30\n",
      "Batch 17 processed and saved to processing_batches\\batch_17_of_30.pkl\n",
      "  Exploded from 2500 to 2261329 rows\n",
      "Processing batch 18/30\n",
      "Batch 18 processed and saved to processing_batches\\batch_18_of_30.pkl\n",
      "  Exploded from 2500 to 2288120 rows\n",
      "Processing batch 19/30\n",
      "Batch 19 processed and saved to processing_batches\\batch_19_of_30.pkl\n",
      "  Exploded from 2500 to 2372407 rows\n",
      "Processing batch 20/30\n",
      "Batch 20 processed and saved to processing_batches\\batch_20_of_30.pkl\n",
      "  Exploded from 2500 to 2310995 rows\n",
      "Processing batch 21/30\n",
      "Batch 21 processed and saved to processing_batches\\batch_21_of_30.pkl\n",
      "  Exploded from 2500 to 2276695 rows\n",
      "Processing batch 22/30\n",
      "Batch 22 processed and saved to processing_batches\\batch_22_of_30.pkl\n",
      "  Exploded from 2500 to 2195660 rows\n",
      "Processing batch 23/30\n",
      "Batch 23 processed and saved to processing_batches\\batch_23_of_30.pkl\n",
      "  Exploded from 2500 to 2278746 rows\n",
      "Processing batch 24/30\n",
      "Batch 24 processed and saved to processing_batches\\batch_24_of_30.pkl\n",
      "  Exploded from 2500 to 2347037 rows\n",
      "Processing batch 25/30\n",
      "Batch 25 processed and saved to processing_batches\\batch_25_of_30.pkl\n",
      "  Exploded from 2500 to 2281823 rows\n",
      "Processing batch 26/30\n",
      "Batch 26 processed and saved to processing_batches\\batch_26_of_30.pkl\n",
      "  Exploded from 2500 to 2279727 rows\n",
      "Processing batch 27/30\n",
      "Batch 27 processed and saved to processing_batches\\batch_27_of_30.pkl\n",
      "  Exploded from 2500 to 2254691 rows\n",
      "Processing batch 28/30\n",
      "Batch 28 processed and saved to processing_batches\\batch_28_of_30.pkl\n",
      "  Exploded from 2500 to 2287075 rows\n",
      "Processing batch 29/30\n",
      "Batch 29 processed and saved to processing_batches\\batch_29_of_30.pkl\n",
      "  Exploded from 2500 to 2169590 rows\n",
      "Processing batch 30/30\n",
      "Batch 30 processed and saved to processing_batches\\batch_30_of_30.pkl\n",
      "  Exploded from 73 to 46698 rows\n",
      "Combining all batches...\n",
      "Combined dataset shape: (66295724, 6)\n",
      "Combined data saved to geo_data_preprocessed.pkl\n",
      "Step 2 completed successfully!\n"
     ]
    }
   ],
   "source": [
    "import pandas as pd\n",
    "import numpy as np\n",
    "import os\n",
    "import glob\n",
    "\n",
    "# Explode all nested arrays for the entire dataset\n",
    "def preprocess_geo_data_corrected(geo_df, batch_size=2500, output_dir=\"processing_batches\"):\n",
    "    # Create output directory if it doesn't exist\n",
    "    os.makedirs(output_dir, exist_ok=True)\n",
    "    \n",
    "    # Get total number of rows and calculate number of batches\n",
    "    total_rows = len(geo_df)\n",
    "    num_batches = (total_rows + batch_size - 1) // batch_size\n",
    "    print(f\"Processing {total_rows} rows in {num_batches} batches of size {batch_size}\")\n",
    "    \n",
    "    # Process each batch\n",
    "    all_batch_files = []\n",
    "    \n",
    "    for batch_num in range(num_batches):\n",
    "        print(f\"Processing batch {batch_num+1}/{num_batches}\")\n",
    "        \n",
    "        # Get the current batch\n",
    "        start_idx = batch_num * batch_size\n",
    "        end_idx = min((batch_num + 1) * batch_size, total_rows)\n",
    "        batch_df = geo_df.iloc[start_idx:end_idx].copy()\n",
    "        \n",
    "        # Convert the Unix timestamp arrays to datetime arrays\n",
    "        batch_df['event_time'] = batch_df['event_time'].apply(\n",
    "            lambda x: [pd.to_datetime(ts, unit='s') for ts in x]\n",
    "        )\n",
    "        \n",
    "        # Properly explode all arrays\n",
    "        exploded_rows = []\n",
    "        \n",
    "        for _, row in batch_df.iterrows():\n",
    "            # Get the number of events for this client\n",
    "            n_events = len(row['event_time'])\n",
    "            \n",
    "            # For each event, create a new row with all values\n",
    "            for i in range(n_events):\n",
    "                new_row = {\n",
    "                    'client_id': row['client_id'],\n",
    "                    'event_time': row['event_time'][i],\n",
    "                    'geohash_4': row['geohash_4'][i] if i < len(row['geohash_4']) else None,\n",
    "                    'geohash_5': row['geohash_5'][i] if i < len(row['geohash_5']) else None,\n",
    "                    'geohash_6': row['geohash_6'][i] if i < len(row['geohash_6']) else None,\n",
    "                    'fold': row['fold']\n",
    "                }\n",
    "                exploded_rows.append(new_row)\n",
    "        \n",
    "        # Create a DataFrame from the exploded rows for this batch\n",
    "        batch_exploded = pd.DataFrame(exploded_rows)\n",
    "        \n",
    "        # Save this batch to disk\n",
    "        batch_filename = os.path.join(output_dir, f\"batch_{batch_num+1}_of_{num_batches}.pkl\")\n",
    "        batch_exploded.to_pickle(batch_filename)\n",
    "        all_batch_files.append(batch_filename)\n",
    "        \n",
    "        print(f\"Batch {batch_num+1} processed and saved to {batch_filename}\")\n",
    "        print(f\"  Exploded from {len(batch_df)} to {len(batch_exploded)} rows\")\n",
    "        \n",
    "        # Clear memory\n",
    "        del batch_df, batch_exploded, exploded_rows\n",
    "    \n",
    "    # Return the list of batch files for later combination\n",
    "    return all_batch_files\n",
    "\n",
    "# Combine all batch files into a single DataFrame\n",
    "def combine_batches(batch_files, output_file=\"geo_data_preprocessed.pkl\"):\n",
    "    print(\"Combining all batches...\")\n",
    "    \n",
    "    # Load and combine all batches\n",
    "    all_batches = []\n",
    "    for batch_file in batch_files:\n",
    "        batch_df = pd.read_pickle(batch_file)\n",
    "        all_batches.append(batch_df)\n",
    "    \n",
    "    # Combine all batches\n",
    "    geo_df_exploded = pd.concat(all_batches, ignore_index=True)\n",
    "    print(f\"Combined dataset shape: {geo_df_exploded.shape}\")\n",
    "    \n",
    "    # Save the combined dataset\n",
    "    geo_df_exploded.to_pickle(output_file)\n",
    "    print(f\"Combined data saved to {output_file}\")\n",
    "    \n",
    "    return geo_df_exploded\n",
    "\n",
    "# Execute corrected Step 2\n",
    "try:\n",
    "    geo_df\n",
    "except NameError:\n",
    "    # Load the raw data if not already in memory\n",
    "    geo_df = pd.read_pickle(\"geo_data_raw.pkl\")\n",
    "\n",
    "# Process in batches with the corrected method\n",
    "batch_files = preprocess_geo_data_corrected(geo_df, batch_size=2500, output_dir=\"processing_batches\")\n",
    "\n",
    "# Combine all batches\n",
    "geo_df_exploded = combine_batches(batch_files)\n",
    "\n",
    "print(\"Step 2 completed successfully!\")"
   ]
  },
  {
   "cell_type": "markdown",
   "id": "73160ac7-4148-40ca-8233-09084de1da41",
   "metadata": {},
   "source": [
    "<h3><strong>STEP 3: Decode Geohashes and Prepare for Feature Engineering</strong></h3>"
   ]
  },
  {
   "cell_type": "code",
   "execution_count": 17,
   "id": "fe3e80be-e097-41cb-b3fd-1420cca9ad03",
   "metadata": {},
   "outputs": [
    {
     "name": "stdout",
     "output_type": "stream",
     "text": [
      "Successfully loaded processed data with 66295724 rows\n",
      "\n",
      "=== DATASET INFO ===\n",
      "<class 'pandas.core.frame.DataFrame'>\n",
      "RangeIndex: 66295724 entries, 0 to 66295723\n",
      "Data columns (total 6 columns):\n",
      " #   Column      Dtype         \n",
      "---  ------      -----         \n",
      " 0   client_id   object        \n",
      " 1   event_time  datetime64[ns]\n",
      " 2   geohash_4   int32         \n",
      " 3   geohash_5   int32         \n",
      " 4   geohash_6   int32         \n",
      " 5   fold        int64         \n",
      "dtypes: datetime64[ns](1), int32(3), int64(1), object(1)\n",
      "memory usage: 2.2+ GB\n",
      "None\n",
      "\n",
      "=== FIRST 10 ROWS ===\n",
      "                                           client_id          event_time  \\\n",
      "0  06de3ac7ec8aa94fd0add2fa7013c5c4d38ac65691d178... 2021-12-16 13:02:10   \n",
      "1  06de3ac7ec8aa94fd0add2fa7013c5c4d38ac65691d178... 2021-12-21 08:27:07   \n",
      "2  06de3ac7ec8aa94fd0add2fa7013c5c4d38ac65691d178... 2021-12-21 08:32:47   \n",
      "3  06de3ac7ec8aa94fd0add2fa7013c5c4d38ac65691d178... 2021-12-21 09:16:32   \n",
      "4  06de3ac7ec8aa94fd0add2fa7013c5c4d38ac65691d178... 2021-12-23 10:27:28   \n",
      "5  06de3ac7ec8aa94fd0add2fa7013c5c4d38ac65691d178... 2021-12-24 07:40:37   \n",
      "6  06de3ac7ec8aa94fd0add2fa7013c5c4d38ac65691d178... 2021-12-25 08:15:15   \n",
      "7  06de3ac7ec8aa94fd0add2fa7013c5c4d38ac65691d178... 2021-12-25 09:02:54   \n",
      "8  06de3ac7ec8aa94fd0add2fa7013c5c4d38ac65691d178... 2021-12-25 09:12:31   \n",
      "9  06de3ac7ec8aa94fd0add2fa7013c5c4d38ac65691d178... 2021-12-26 09:06:16   \n",
      "\n",
      "   geohash_4  geohash_5  geohash_6  fold  \n",
      "0         46        451       8131     0  \n",
      "1         46        451       8131     0  \n",
      "2         46        451       8131     0  \n",
      "3         46        451       8131     0  \n",
      "4         46        451       8131     0  \n",
      "5         46        451       8131     0  \n",
      "6         46        451       8131     0  \n",
      "7         46        451       8131     0  \n",
      "8         46        451       8131     0  \n",
      "9         46        451       8131     0  \n",
      "\n",
      "=== GEOHASH COLUMNS CHECK ===\n",
      "geohash_4: <class 'numpy.int32'> - Sample: 46\n",
      "  OK: geohash_4 contains individual values\n",
      "geohash_5: <class 'numpy.int32'> - Sample: 451\n",
      "  OK: geohash_5 contains individual values\n",
      "geohash_6: <class 'numpy.int32'> - Sample: 8131\n",
      "  OK: geohash_6 contains individual values\n",
      "\n",
      "=== DATA TYPES ===\n",
      "client_id             object\n",
      "event_time    datetime64[ns]\n",
      "geohash_4              int32\n",
      "geohash_5              int32\n",
      "geohash_6              int32\n",
      "fold                   int64\n",
      "dtype: object\n",
      "\n",
      "=== MISSING VALUES ===\n",
      "client_id     0\n",
      "event_time    0\n",
      "geohash_4     0\n",
      "geohash_5     0\n",
      "geohash_6     0\n",
      "fold          0\n",
      "dtype: int64\n",
      "\n",
      "Data looks good! Proceed to Step 3.\n"
     ]
    }
   ],
   "source": [
    "# Check the processed PKL file before Step 3\n",
    "import pandas as pd\n",
    "import numpy as np\n",
    "\n",
    "def inspect_processed_data(file_path=\"geo_data_preprocessed.pkl\"):\n",
    "    \"\"\"\n",
    "    Inspect the processed data to verify the explosion was done correctly\n",
    "    \"\"\"\n",
    "    try:\n",
    "        # Load the processed data\n",
    "        geo_df_processed = pd.read_pickle(file_path)\n",
    "        print(f\"Successfully loaded processed data with {len(geo_df_processed)} rows\")\n",
    "        \n",
    "        # Display basic information\n",
    "        print(\"\\n=== DATASET INFO ===\")\n",
    "        print(geo_df_processed.info())\n",
    "        \n",
    "        # Display the first few rows\n",
    "        print(\"\\n=== FIRST 10 ROWS ===\")\n",
    "        print(geo_df_processed.head(10))\n",
    "        \n",
    "        # Check if geohash columns are still arrays or individual values\n",
    "        print(\"\\n=== GEOHASH COLUMNS CHECK ===\")\n",
    "        for col in ['geohash_4', 'geohash_5', 'geohash_6']:\n",
    "            sample_value = geo_df_processed[col].iloc[0]\n",
    "            print(f\"{col}: {type(sample_value)} - Sample: {sample_value}\")\n",
    "            \n",
    "            # Check if it's still an array\n",
    "            if isinstance(sample_value, (list, np.ndarray)):\n",
    "                print(f\"  WARNING: {col} still contains arrays!\")\n",
    "            else:\n",
    "                print(f\"  OK: {col} contains individual values\")\n",
    "        \n",
    "        # Check data types\n",
    "        print(\"\\n=== DATA TYPES ===\")\n",
    "        print(geo_df_processed.dtypes)\n",
    "        \n",
    "        # Check for missing values\n",
    "        print(\"\\n=== MISSING VALUES ===\")\n",
    "        print(geo_df_processed.isnull().sum())\n",
    "        \n",
    "        return geo_df_processed\n",
    "        \n",
    "    except FileNotFoundError:\n",
    "        print(f\"File {file_path} not found.\")\n",
    "        return None\n",
    "    except Exception as e:\n",
    "        print(f\"Error loading file: {e}\")\n",
    "        return None\n",
    "\n",
    "# Execute the inspection\n",
    "processed_data = inspect_processed_data(\"geo_data_preprocessed.pkl\")\n",
    "\n",
    "# If the data still has arrays, we need to fix it before proceeding\n",
    "if processed_data is not None:\n",
    "    # Check if any geohash column still contains arrays\n",
    "    has_arrays = False\n",
    "    for col in ['geohash_4', 'geohash_5', 'geohash_6']:\n",
    "        if col in processed_data.columns:\n",
    "            sample = processed_data[col].iloc[0]\n",
    "            if isinstance(sample, (list, np.ndarray)):\n",
    "                has_arrays = True\n",
    "                print(f\"\\nERROR: {col} still contains arrays. Step 2 did not work correctly.\")\n",
    "    \n",
    "    if has_arrays:\n",
    "        print(\"The current data still has arrays in the geohash columns, which cannot be decoded.\")\n",
    "    else:\n",
    "        print(\"\\nData looks good! Proceed to Step 3.\")"
   ]
  },
  {
   "cell_type": "code",
   "execution_count": 18,
   "id": "c09208db-af06-4327-82d7-8a7075b69b69",
   "metadata": {},
   "outputs": [
    {
     "name": "stdout",
     "output_type": "stream",
     "text": [
      "Loaded preprocessed data with 66,295,724 rows\n",
      "STEP 3: Decoding geohashes and preparing data...\n",
      "Processing 66295724 rows in 663 batches of size 100000\n",
      "Processing batch 1/663\n"
     ]
    },
    {
     "name": "stderr",
     "output_type": "stream",
     "text": [
      "Decoding geohashes: 100%|██████████| 100000/100000 [00:00<00:00, 130095.11it/s]\n",
      "Decoding geohashes: 100%|██████████| 100000/100000 [00:00<00:00, 137318.13it/s]\n"
     ]
    },
    {
     "name": "stdout",
     "output_type": "stream",
     "text": [
      "Processing batch 2/663\n"
     ]
    },
    {
     "name": "stderr",
     "output_type": "stream",
     "text": [
      "Decoding geohashes: 100%|██████████| 100000/100000 [00:00<00:00, 146087.67it/s]\n",
      "Decoding geohashes: 100%|██████████| 100000/100000 [00:00<00:00, 176006.37it/s]\n"
     ]
    },
    {
     "name": "stdout",
     "output_type": "stream",
     "text": [
      "Processing batch 3/663\n"
     ]
    },
    {
     "name": "stderr",
     "output_type": "stream",
     "text": [
      "Decoding geohashes: 100%|██████████| 100000/100000 [00:00<00:00, 169057.61it/s]\n",
      "Decoding geohashes: 100%|██████████| 100000/100000 [00:00<00:00, 177562.76it/s]\n"
     ]
    },
    {
     "name": "stdout",
     "output_type": "stream",
     "text": [
      "Processing batch 4/663\n"
     ]
    },
    {
     "name": "stderr",
     "output_type": "stream",
     "text": [
      "Decoding geohashes: 100%|██████████| 100000/100000 [00:00<00:00, 169425.69it/s]\n",
      "Decoding geohashes: 100%|██████████| 100000/100000 [00:00<00:00, 165089.13it/s]\n"
     ]
    },
    {
     "name": "stdout",
     "output_type": "stream",
     "text": [
      "Processing batch 5/663\n"
     ]
    },
    {
     "name": "stderr",
     "output_type": "stream",
     "text": [
      "Decoding geohashes: 100%|██████████| 100000/100000 [00:00<00:00, 181466.65it/s]\n",
      "Decoding geohashes: 100%|██████████| 100000/100000 [00:00<00:00, 180715.28it/s]\n"
     ]
    },
    {
     "name": "stdout",
     "output_type": "stream",
     "text": [
      "Processing batch 6/663\n"
     ]
    },
    {
     "name": "stderr",
     "output_type": "stream",
     "text": [
      "Decoding geohashes: 100%|██████████| 100000/100000 [00:00<00:00, 180799.88it/s]\n",
      "Decoding geohashes: 100%|██████████| 100000/100000 [00:00<00:00, 177304.17it/s]\n"
     ]
    },
    {
     "name": "stdout",
     "output_type": "stream",
     "text": [
      "Processing batch 7/663\n"
     ]
    },
    {
     "name": "stderr",
     "output_type": "stream",
     "text": [
      "Decoding geohashes: 100%|██████████| 100000/100000 [00:00<00:00, 180361.93it/s]\n",
      "Decoding geohashes: 100%|██████████| 100000/100000 [00:00<00:00, 181525.95it/s]\n"
     ]
    },
    {
     "name": "stdout",
     "output_type": "stream",
     "text": [
      "Processing batch 8/663\n"
     ]
    },
    {
     "name": "stderr",
     "output_type": "stream",
     "text": [
      "Decoding geohashes: 100%|██████████| 100000/100000 [00:00<00:00, 177770.54it/s]\n",
      "Decoding geohashes: 100%|██████████| 100000/100000 [00:00<00:00, 177402.26it/s]\n"
     ]
    },
    {
     "name": "stdout",
     "output_type": "stream",
     "text": [
      "Processing batch 9/663\n"
     ]
    },
    {
     "name": "stderr",
     "output_type": "stream",
     "text": [
      "Decoding geohashes: 100%|██████████| 100000/100000 [00:00<00:00, 178686.24it/s]\n",
      "Decoding geohashes: 100%|██████████| 100000/100000 [00:00<00:00, 181207.30it/s]\n"
     ]
    },
    {
     "name": "stdout",
     "output_type": "stream",
     "text": [
      "Processing batch 10/663\n"
     ]
    },
    {
     "name": "stderr",
     "output_type": "stream",
     "text": [
      "Decoding geohashes: 100%|██████████| 100000/100000 [00:00<00:00, 179570.29it/s]\n",
      "Decoding geohashes: 100%|██████████| 100000/100000 [00:00<00:00, 178135.51it/s]\n"
     ]
    },
    {
     "name": "stdout",
     "output_type": "stream",
     "text": [
      "Processing batch 11/663\n"
     ]
    },
    {
     "name": "stderr",
     "output_type": "stream",
     "text": [
      "Decoding geohashes: 100%|██████████| 100000/100000 [00:00<00:00, 181247.40it/s]\n",
      "Decoding geohashes: 100%|██████████| 100000/100000 [00:00<00:00, 178876.60it/s]\n"
     ]
    },
    {
     "name": "stdout",
     "output_type": "stream",
     "text": [
      "Processing batch 12/663\n"
     ]
    },
    {
     "name": "stderr",
     "output_type": "stream",
     "text": [
      "Decoding geohashes: 100%|██████████| 100000/100000 [00:00<00:00, 180025.80it/s]\n",
      "Decoding geohashes: 100%|██████████| 100000/100000 [00:00<00:00, 175462.76it/s]\n"
     ]
    },
    {
     "name": "stdout",
     "output_type": "stream",
     "text": [
      "Processing batch 13/663\n"
     ]
    },
    {
     "name": "stderr",
     "output_type": "stream",
     "text": [
      "Decoding geohashes: 100%|██████████| 100000/100000 [00:00<00:00, 177838.91it/s]\n",
      "Decoding geohashes: 100%|██████████| 100000/100000 [00:00<00:00, 180142.24it/s]\n"
     ]
    },
    {
     "name": "stdout",
     "output_type": "stream",
     "text": [
      "Processing batch 14/663\n"
     ]
    },
    {
     "name": "stderr",
     "output_type": "stream",
     "text": [
      "Decoding geohashes: 100%|██████████| 100000/100000 [00:00<00:00, 178888.12it/s]\n",
      "Decoding geohashes: 100%|██████████| 100000/100000 [00:00<00:00, 168424.64it/s]\n"
     ]
    },
    {
     "name": "stdout",
     "output_type": "stream",
     "text": [
      "Processing batch 15/663\n"
     ]
    },
    {
     "name": "stderr",
     "output_type": "stream",
     "text": [
      "Decoding geohashes: 100%|██████████| 100000/100000 [00:00<00:00, 167720.44it/s]\n",
      "Decoding geohashes: 100%|██████████| 100000/100000 [00:00<00:00, 174009.21it/s]\n"
     ]
    },
    {
     "name": "stdout",
     "output_type": "stream",
     "text": [
      "Processing batch 16/663\n"
     ]
    },
    {
     "name": "stderr",
     "output_type": "stream",
     "text": [
      "Decoding geohashes: 100%|██████████| 100000/100000 [00:00<00:00, 174462.30it/s]\n",
      "Decoding geohashes: 100%|██████████| 100000/100000 [00:00<00:00, 180216.93it/s]\n"
     ]
    },
    {
     "name": "stdout",
     "output_type": "stream",
     "text": [
      "Processing batch 17/663\n"
     ]
    },
    {
     "name": "stderr",
     "output_type": "stream",
     "text": [
      "Decoding geohashes: 100%|██████████| 100000/100000 [00:00<00:00, 171873.61it/s]\n",
      "Decoding geohashes: 100%|██████████| 100000/100000 [00:00<00:00, 178507.76it/s]\n"
     ]
    },
    {
     "name": "stdout",
     "output_type": "stream",
     "text": [
      "Processing batch 18/663\n"
     ]
    },
    {
     "name": "stderr",
     "output_type": "stream",
     "text": [
      "Decoding geohashes: 100%|██████████| 100000/100000 [00:00<00:00, 180302.15it/s]\n",
      "Decoding geohashes: 100%|██████████| 100000/100000 [00:00<00:00, 181494.68it/s]\n"
     ]
    },
    {
     "name": "stdout",
     "output_type": "stream",
     "text": [
      "Processing batch 19/663\n"
     ]
    },
    {
     "name": "stderr",
     "output_type": "stream",
     "text": [
      "Decoding geohashes: 100%|██████████| 100000/100000 [00:00<00:00, 181869.21it/s]\n",
      "Decoding geohashes: 100%|██████████| 100000/100000 [00:00<00:00, 178087.18it/s]\n"
     ]
    },
    {
     "name": "stdout",
     "output_type": "stream",
     "text": [
      "Processing batch 20/663\n"
     ]
    },
    {
     "name": "stderr",
     "output_type": "stream",
     "text": [
      "Decoding geohashes: 100%|██████████| 100000/100000 [00:00<00:00, 178845.94it/s]\n",
      "Decoding geohashes: 100%|██████████| 100000/100000 [00:00<00:00, 172814.69it/s]\n"
     ]
    },
    {
     "name": "stdout",
     "output_type": "stream",
     "text": [
      "Processing batch 21/663\n"
     ]
    },
    {
     "name": "stderr",
     "output_type": "stream",
     "text": [
      "Decoding geohashes: 100%|██████████| 100000/100000 [00:00<00:00, 179664.51it/s]\n",
      "Decoding geohashes: 100%|██████████| 100000/100000 [00:00<00:00, 177664.67it/s]\n"
     ]
    },
    {
     "name": "stdout",
     "output_type": "stream",
     "text": [
      "Processing batch 22/663\n"
     ]
    },
    {
     "name": "stderr",
     "output_type": "stream",
     "text": [
      "Decoding geohashes: 100%|██████████| 100000/100000 [00:00<00:00, 173652.52it/s]\n",
      "Decoding geohashes: 100%|██████████| 100000/100000 [00:00<00:00, 174013.68it/s]\n"
     ]
    },
    {
     "name": "stdout",
     "output_type": "stream",
     "text": [
      "Processing batch 23/663\n"
     ]
    },
    {
     "name": "stderr",
     "output_type": "stream",
     "text": [
      "Decoding geohashes: 100%|██████████| 100000/100000 [00:00<00:00, 176647.72it/s]\n",
      "Decoding geohashes: 100%|██████████| 100000/100000 [00:00<00:00, 179931.81it/s]\n"
     ]
    },
    {
     "name": "stdout",
     "output_type": "stream",
     "text": [
      "Processing batch 24/663\n"
     ]
    },
    {
     "name": "stderr",
     "output_type": "stream",
     "text": [
      "Decoding geohashes: 100%|██████████| 100000/100000 [00:00<00:00, 179921.31it/s]\n",
      "Decoding geohashes: 100%|██████████| 100000/100000 [00:00<00:00, 181544.10it/s]\n"
     ]
    },
    {
     "name": "stdout",
     "output_type": "stream",
     "text": [
      "Processing batch 25/663\n"
     ]
    },
    {
     "name": "stderr",
     "output_type": "stream",
     "text": [
      "Decoding geohashes: 100%|██████████| 100000/100000 [00:00<00:00, 179445.45it/s]\n",
      "Decoding geohashes: 100%|██████████| 100000/100000 [00:00<00:00, 179041.31it/s]\n"
     ]
    },
    {
     "name": "stdout",
     "output_type": "stream",
     "text": [
      "Processing batch 26/663\n"
     ]
    },
    {
     "name": "stderr",
     "output_type": "stream",
     "text": [
      "Decoding geohashes: 100%|██████████| 100000/100000 [00:00<00:00, 179204.24it/s]\n",
      "Decoding geohashes: 100%|██████████| 100000/100000 [00:00<00:00, 171759.94it/s]\n"
     ]
    },
    {
     "name": "stdout",
     "output_type": "stream",
     "text": [
      "Processing batch 27/663\n"
     ]
    },
    {
     "name": "stderr",
     "output_type": "stream",
     "text": [
      "Decoding geohashes: 100%|██████████| 100000/100000 [00:00<00:00, 182486.40it/s]\n",
      "Decoding geohashes: 100%|██████████| 100000/100000 [00:00<00:00, 180131.95it/s]\n"
     ]
    },
    {
     "name": "stdout",
     "output_type": "stream",
     "text": [
      "Processing batch 28/663\n"
     ]
    },
    {
     "name": "stderr",
     "output_type": "stream",
     "text": [
      "Decoding geohashes: 100%|██████████| 100000/100000 [00:00<00:00, 176007.11it/s]\n",
      "Decoding geohashes: 100%|██████████| 100000/100000 [00:00<00:00, 168728.31it/s]\n"
     ]
    },
    {
     "name": "stdout",
     "output_type": "stream",
     "text": [
      "Processing batch 29/663\n"
     ]
    },
    {
     "name": "stderr",
     "output_type": "stream",
     "text": [
      "Decoding geohashes: 100%|██████████| 100000/100000 [00:00<00:00, 150939.62it/s]\n",
      "Decoding geohashes: 100%|██████████| 100000/100000 [00:00<00:00, 173179.95it/s]\n"
     ]
    },
    {
     "name": "stdout",
     "output_type": "stream",
     "text": [
      "Processing batch 30/663\n"
     ]
    },
    {
     "name": "stderr",
     "output_type": "stream",
     "text": [
      "Decoding geohashes: 100%|██████████| 100000/100000 [00:00<00:00, 146869.41it/s]\n",
      "Decoding geohashes: 100%|██████████| 100000/100000 [00:00<00:00, 136192.94it/s]\n"
     ]
    },
    {
     "name": "stdout",
     "output_type": "stream",
     "text": [
      "Processing batch 31/663\n"
     ]
    },
    {
     "name": "stderr",
     "output_type": "stream",
     "text": [
      "Decoding geohashes: 100%|██████████| 100000/100000 [00:00<00:00, 176155.25it/s]\n",
      "Decoding geohashes: 100%|██████████| 100000/100000 [00:00<00:00, 176211.94it/s]\n"
     ]
    },
    {
     "name": "stdout",
     "output_type": "stream",
     "text": [
      "Processing batch 32/663\n"
     ]
    },
    {
     "name": "stderr",
     "output_type": "stream",
     "text": [
      "Decoding geohashes: 100%|██████████| 100000/100000 [00:00<00:00, 179269.04it/s]\n",
      "Decoding geohashes: 100%|██████████| 100000/100000 [00:00<00:00, 171622.97it/s]\n"
     ]
    },
    {
     "name": "stdout",
     "output_type": "stream",
     "text": [
      "Processing batch 33/663\n"
     ]
    },
    {
     "name": "stderr",
     "output_type": "stream",
     "text": [
      "Decoding geohashes: 100%|██████████| 100000/100000 [00:00<00:00, 180005.17it/s]\n",
      "Decoding geohashes: 100%|██████████| 100000/100000 [00:00<00:00, 178821.47it/s]\n"
     ]
    },
    {
     "name": "stdout",
     "output_type": "stream",
     "text": [
      "Processing batch 34/663\n"
     ]
    },
    {
     "name": "stderr",
     "output_type": "stream",
     "text": [
      "Decoding geohashes: 100%|██████████| 100000/100000 [00:00<00:00, 175219.92it/s]\n",
      "Decoding geohashes: 100%|██████████| 100000/100000 [00:00<00:00, 176947.53it/s]\n"
     ]
    },
    {
     "name": "stdout",
     "output_type": "stream",
     "text": [
      "Processing batch 35/663\n"
     ]
    },
    {
     "name": "stderr",
     "output_type": "stream",
     "text": [
      "Decoding geohashes: 100%|██████████| 100000/100000 [00:00<00:00, 155079.98it/s]\n",
      "Decoding geohashes: 100%|██████████| 100000/100000 [00:00<00:00, 160062.34it/s]\n"
     ]
    },
    {
     "name": "stdout",
     "output_type": "stream",
     "text": [
      "Processing batch 36/663\n"
     ]
    },
    {
     "name": "stderr",
     "output_type": "stream",
     "text": [
      "Decoding geohashes: 100%|██████████| 100000/100000 [00:00<00:00, 164049.80it/s]\n",
      "Decoding geohashes: 100%|██████████| 100000/100000 [00:00<00:00, 158916.45it/s]\n"
     ]
    },
    {
     "name": "stdout",
     "output_type": "stream",
     "text": [
      "Processing batch 37/663\n"
     ]
    },
    {
     "name": "stderr",
     "output_type": "stream",
     "text": [
      "Decoding geohashes: 100%|██████████| 100000/100000 [00:00<00:00, 163010.24it/s]\n",
      "Decoding geohashes: 100%|██████████| 100000/100000 [00:00<00:00, 158440.04it/s]\n"
     ]
    },
    {
     "name": "stdout",
     "output_type": "stream",
     "text": [
      "Processing batch 38/663\n"
     ]
    },
    {
     "name": "stderr",
     "output_type": "stream",
     "text": [
      "Decoding geohashes: 100%|██████████| 100000/100000 [00:00<00:00, 158873.11it/s]\n",
      "Decoding geohashes: 100%|██████████| 100000/100000 [00:00<00:00, 168613.81it/s]\n"
     ]
    },
    {
     "name": "stdout",
     "output_type": "stream",
     "text": [
      "Processing batch 39/663\n"
     ]
    },
    {
     "name": "stderr",
     "output_type": "stream",
     "text": [
      "Decoding geohashes: 100%|██████████| 100000/100000 [00:00<00:00, 157104.81it/s]\n",
      "Decoding geohashes: 100%|██████████| 100000/100000 [00:00<00:00, 129112.60it/s]\n"
     ]
    },
    {
     "name": "stdout",
     "output_type": "stream",
     "text": [
      "Processing batch 40/663\n"
     ]
    },
    {
     "name": "stderr",
     "output_type": "stream",
     "text": [
      "Decoding geohashes: 100%|██████████| 100000/100000 [00:00<00:00, 162483.96it/s]\n",
      "Decoding geohashes: 100%|██████████| 100000/100000 [00:00<00:00, 172768.98it/s]\n"
     ]
    },
    {
     "name": "stdout",
     "output_type": "stream",
     "text": [
      "Processing batch 41/663\n"
     ]
    },
    {
     "name": "stderr",
     "output_type": "stream",
     "text": [
      "Decoding geohashes: 100%|██████████| 100000/100000 [00:00<00:00, 130645.08it/s]\n",
      "Decoding geohashes: 100%|██████████| 100000/100000 [00:00<00:00, 135787.43it/s]\n"
     ]
    },
    {
     "name": "stdout",
     "output_type": "stream",
     "text": [
      "Processing batch 42/663\n"
     ]
    },
    {
     "name": "stderr",
     "output_type": "stream",
     "text": [
      "Decoding geohashes: 100%|██████████| 100000/100000 [00:00<00:00, 148671.71it/s]\n",
      "Decoding geohashes: 100%|██████████| 100000/100000 [00:00<00:00, 144622.00it/s]\n"
     ]
    },
    {
     "name": "stdout",
     "output_type": "stream",
     "text": [
      "Processing batch 43/663\n"
     ]
    },
    {
     "name": "stderr",
     "output_type": "stream",
     "text": [
      "Decoding geohashes: 100%|██████████| 100000/100000 [00:00<00:00, 159224.36it/s]\n",
      "Decoding geohashes: 100%|██████████| 100000/100000 [00:00<00:00, 156037.57it/s]\n"
     ]
    },
    {
     "name": "stdout",
     "output_type": "stream",
     "text": [
      "Processing batch 44/663\n"
     ]
    },
    {
     "name": "stderr",
     "output_type": "stream",
     "text": [
      "Decoding geohashes: 100%|██████████| 100000/100000 [00:00<00:00, 141488.37it/s]\n",
      "Decoding geohashes: 100%|██████████| 100000/100000 [00:00<00:00, 154477.91it/s]\n"
     ]
    },
    {
     "name": "stdout",
     "output_type": "stream",
     "text": [
      "Processing batch 45/663\n"
     ]
    },
    {
     "name": "stderr",
     "output_type": "stream",
     "text": [
      "Decoding geohashes: 100%|██████████| 100000/100000 [00:00<00:00, 156401.17it/s]\n",
      "Decoding geohashes: 100%|██████████| 100000/100000 [00:00<00:00, 131403.18it/s]\n"
     ]
    },
    {
     "name": "stdout",
     "output_type": "stream",
     "text": [
      "Processing batch 46/663\n"
     ]
    },
    {
     "name": "stderr",
     "output_type": "stream",
     "text": [
      "Decoding geohashes: 100%|██████████| 100000/100000 [00:00<00:00, 132597.79it/s]\n",
      "Decoding geohashes: 100%|██████████| 100000/100000 [00:00<00:00, 155663.47it/s]\n"
     ]
    },
    {
     "name": "stdout",
     "output_type": "stream",
     "text": [
      "Processing batch 47/663\n"
     ]
    },
    {
     "name": "stderr",
     "output_type": "stream",
     "text": [
      "Decoding geohashes: 100%|██████████| 100000/100000 [00:00<00:00, 132605.12it/s]\n",
      "Decoding geohashes: 100%|██████████| 100000/100000 [00:00<00:00, 151280.58it/s]\n"
     ]
    },
    {
     "name": "stdout",
     "output_type": "stream",
     "text": [
      "Processing batch 48/663\n"
     ]
    },
    {
     "name": "stderr",
     "output_type": "stream",
     "text": [
      "Decoding geohashes: 100%|██████████| 100000/100000 [00:00<00:00, 158858.72it/s]\n",
      "Decoding geohashes: 100%|██████████| 100000/100000 [00:00<00:00, 155050.17it/s]\n"
     ]
    },
    {
     "name": "stdout",
     "output_type": "stream",
     "text": [
      "Processing batch 49/663\n"
     ]
    },
    {
     "name": "stderr",
     "output_type": "stream",
     "text": [
      "Decoding geohashes: 100%|██████████| 100000/100000 [00:00<00:00, 161693.58it/s]\n",
      "Decoding geohashes: 100%|██████████| 100000/100000 [00:00<00:00, 161866.37it/s]\n"
     ]
    },
    {
     "name": "stdout",
     "output_type": "stream",
     "text": [
      "Processing batch 50/663\n"
     ]
    },
    {
     "name": "stderr",
     "output_type": "stream",
     "text": [
      "Decoding geohashes: 100%|██████████| 100000/100000 [00:00<00:00, 159211.30it/s]\n",
      "Decoding geohashes: 100%|██████████| 100000/100000 [00:00<00:00, 132370.05it/s]\n"
     ]
    },
    {
     "name": "stdout",
     "output_type": "stream",
     "text": [
      "Processing batch 51/663\n"
     ]
    },
    {
     "name": "stderr",
     "output_type": "stream",
     "text": [
      "Decoding geohashes: 100%|██████████| 100000/100000 [00:00<00:00, 162246.00it/s]\n",
      "Decoding geohashes: 100%|██████████| 100000/100000 [00:00<00:00, 151604.78it/s]\n"
     ]
    },
    {
     "name": "stdout",
     "output_type": "stream",
     "text": [
      "Processing batch 52/663\n"
     ]
    },
    {
     "name": "stderr",
     "output_type": "stream",
     "text": [
      "Decoding geohashes: 100%|██████████| 100000/100000 [00:00<00:00, 153865.26it/s]\n",
      "Decoding geohashes: 100%|██████████| 100000/100000 [00:00<00:00, 155854.12it/s]\n"
     ]
    },
    {
     "name": "stdout",
     "output_type": "stream",
     "text": [
      "Processing batch 53/663\n"
     ]
    },
    {
     "name": "stderr",
     "output_type": "stream",
     "text": [
      "Decoding geohashes: 100%|██████████| 100000/100000 [00:00<00:00, 143885.79it/s]\n",
      "Decoding geohashes: 100%|██████████| 100000/100000 [00:00<00:00, 128220.57it/s]\n"
     ]
    },
    {
     "name": "stdout",
     "output_type": "stream",
     "text": [
      "Processing batch 54/663\n"
     ]
    },
    {
     "name": "stderr",
     "output_type": "stream",
     "text": [
      "Decoding geohashes: 100%|██████████| 100000/100000 [00:00<00:00, 135153.73it/s]\n",
      "Decoding geohashes: 100%|██████████| 100000/100000 [00:00<00:00, 156901.17it/s]\n"
     ]
    },
    {
     "name": "stdout",
     "output_type": "stream",
     "text": [
      "Processing batch 55/663\n"
     ]
    },
    {
     "name": "stderr",
     "output_type": "stream",
     "text": [
      "Decoding geohashes: 100%|██████████| 100000/100000 [00:00<00:00, 160141.48it/s]\n",
      "Decoding geohashes: 100%|██████████| 100000/100000 [00:00<00:00, 138775.52it/s]\n"
     ]
    },
    {
     "name": "stdout",
     "output_type": "stream",
     "text": [
      "Processing batch 56/663\n"
     ]
    },
    {
     "name": "stderr",
     "output_type": "stream",
     "text": [
      "Decoding geohashes: 100%|██████████| 100000/100000 [00:00<00:00, 161272.80it/s]\n",
      "Decoding geohashes: 100%|██████████| 100000/100000 [00:00<00:00, 160786.81it/s]\n"
     ]
    },
    {
     "name": "stdout",
     "output_type": "stream",
     "text": [
      "Processing batch 57/663\n"
     ]
    },
    {
     "name": "stderr",
     "output_type": "stream",
     "text": [
      "Decoding geohashes: 100%|██████████| 100000/100000 [00:00<00:00, 158862.76it/s]\n",
      "Decoding geohashes: 100%|██████████| 100000/100000 [00:00<00:00, 155897.51it/s]\n"
     ]
    },
    {
     "name": "stdout",
     "output_type": "stream",
     "text": [
      "Processing batch 58/663\n"
     ]
    },
    {
     "name": "stderr",
     "output_type": "stream",
     "text": [
      "Decoding geohashes: 100%|██████████| 100000/100000 [00:00<00:00, 163753.45it/s]\n",
      "Decoding geohashes: 100%|██████████| 100000/100000 [00:00<00:00, 161794.00it/s]\n"
     ]
    },
    {
     "name": "stdout",
     "output_type": "stream",
     "text": [
      "Processing batch 59/663\n"
     ]
    },
    {
     "name": "stderr",
     "output_type": "stream",
     "text": [
      "Decoding geohashes: 100%|██████████| 100000/100000 [00:00<00:00, 163535.03it/s]\n",
      "Decoding geohashes: 100%|██████████| 100000/100000 [00:00<00:00, 173689.63it/s]\n"
     ]
    },
    {
     "name": "stdout",
     "output_type": "stream",
     "text": [
      "Processing batch 60/663\n"
     ]
    },
    {
     "name": "stderr",
     "output_type": "stream",
     "text": [
      "Decoding geohashes: 100%|██████████| 100000/100000 [00:00<00:00, 137250.95it/s]\n",
      "Decoding geohashes: 100%|██████████| 100000/100000 [00:00<00:00, 137153.11it/s]\n"
     ]
    },
    {
     "name": "stdout",
     "output_type": "stream",
     "text": [
      "Processing batch 61/663\n"
     ]
    },
    {
     "name": "stderr",
     "output_type": "stream",
     "text": [
      "Decoding geohashes: 100%|██████████| 100000/100000 [00:00<00:00, 148742.89it/s]\n",
      "Decoding geohashes: 100%|██████████| 100000/100000 [00:00<00:00, 176860.83it/s]\n"
     ]
    },
    {
     "name": "stdout",
     "output_type": "stream",
     "text": [
      "Processing batch 62/663\n"
     ]
    },
    {
     "name": "stderr",
     "output_type": "stream",
     "text": [
      "Decoding geohashes: 100%|██████████| 100000/100000 [00:00<00:00, 177723.62it/s]\n",
      "Decoding geohashes: 100%|██████████| 100000/100000 [00:00<00:00, 158507.76it/s]\n"
     ]
    },
    {
     "name": "stdout",
     "output_type": "stream",
     "text": [
      "Processing batch 63/663\n"
     ]
    },
    {
     "name": "stderr",
     "output_type": "stream",
     "text": [
      "Decoding geohashes: 100%|██████████| 100000/100000 [00:00<00:00, 167591.97it/s]\n",
      "Decoding geohashes: 100%|██████████| 100000/100000 [00:00<00:00, 158650.40it/s]\n"
     ]
    },
    {
     "name": "stdout",
     "output_type": "stream",
     "text": [
      "Processing batch 64/663\n"
     ]
    },
    {
     "name": "stderr",
     "output_type": "stream",
     "text": [
      "Decoding geohashes: 100%|██████████| 100000/100000 [00:00<00:00, 159983.58it/s]\n",
      "Decoding geohashes: 100%|██████████| 100000/100000 [00:00<00:00, 131693.51it/s]\n"
     ]
    },
    {
     "name": "stdout",
     "output_type": "stream",
     "text": [
      "Processing batch 65/663\n"
     ]
    },
    {
     "name": "stderr",
     "output_type": "stream",
     "text": [
      "Decoding geohashes: 100%|██████████| 100000/100000 [00:00<00:00, 135651.86it/s]\n",
      "Decoding geohashes: 100%|██████████| 100000/100000 [00:00<00:00, 148698.49it/s]\n"
     ]
    },
    {
     "name": "stdout",
     "output_type": "stream",
     "text": [
      "Processing batch 66/663\n"
     ]
    },
    {
     "name": "stderr",
     "output_type": "stream",
     "text": [
      "Decoding geohashes: 100%|██████████| 100000/100000 [00:00<00:00, 145933.20it/s]\n",
      "Decoding geohashes: 100%|██████████| 100000/100000 [00:00<00:00, 152341.38it/s]\n"
     ]
    },
    {
     "name": "stdout",
     "output_type": "stream",
     "text": [
      "Processing batch 67/663\n"
     ]
    },
    {
     "name": "stderr",
     "output_type": "stream",
     "text": [
      "Decoding geohashes: 100%|██████████| 100000/100000 [00:00<00:00, 146753.99it/s]\n",
      "Decoding geohashes: 100%|██████████| 100000/100000 [00:00<00:00, 145379.73it/s]\n"
     ]
    },
    {
     "name": "stdout",
     "output_type": "stream",
     "text": [
      "Processing batch 68/663\n"
     ]
    },
    {
     "name": "stderr",
     "output_type": "stream",
     "text": [
      "Decoding geohashes: 100%|██████████| 100000/100000 [00:00<00:00, 156694.25it/s]\n",
      "Decoding geohashes: 100%|██████████| 100000/100000 [00:00<00:00, 157486.47it/s]\n"
     ]
    },
    {
     "name": "stdout",
     "output_type": "stream",
     "text": [
      "Processing batch 69/663\n"
     ]
    },
    {
     "name": "stderr",
     "output_type": "stream",
     "text": [
      "Decoding geohashes: 100%|██████████| 100000/100000 [00:00<00:00, 154063.19it/s]\n",
      "Decoding geohashes: 100%|██████████| 100000/100000 [00:00<00:00, 155207.09it/s]\n"
     ]
    },
    {
     "name": "stdout",
     "output_type": "stream",
     "text": [
      "Processing batch 70/663\n"
     ]
    },
    {
     "name": "stderr",
     "output_type": "stream",
     "text": [
      "Decoding geohashes: 100%|██████████| 100000/100000 [00:00<00:00, 159060.36it/s]\n",
      "Decoding geohashes: 100%|██████████| 100000/100000 [00:00<00:00, 159050.59it/s]\n"
     ]
    },
    {
     "name": "stdout",
     "output_type": "stream",
     "text": [
      "Processing batch 71/663\n"
     ]
    },
    {
     "name": "stderr",
     "output_type": "stream",
     "text": [
      "Decoding geohashes: 100%|██████████| 100000/100000 [00:00<00:00, 154193.40it/s]\n",
      "Decoding geohashes: 100%|██████████| 100000/100000 [00:00<00:00, 151334.34it/s]\n"
     ]
    },
    {
     "name": "stdout",
     "output_type": "stream",
     "text": [
      "Processing batch 72/663\n"
     ]
    },
    {
     "name": "stderr",
     "output_type": "stream",
     "text": [
      "Decoding geohashes: 100%|██████████| 100000/100000 [00:00<00:00, 151683.02it/s]\n",
      "Decoding geohashes: 100%|██████████| 100000/100000 [00:00<00:00, 156192.43it/s]\n"
     ]
    },
    {
     "name": "stdout",
     "output_type": "stream",
     "text": [
      "Processing batch 73/663\n"
     ]
    },
    {
     "name": "stderr",
     "output_type": "stream",
     "text": [
      "Decoding geohashes: 100%|██████████| 100000/100000 [00:00<00:00, 161769.60it/s]\n",
      "Decoding geohashes: 100%|██████████| 100000/100000 [00:00<00:00, 172375.48it/s]\n"
     ]
    },
    {
     "name": "stdout",
     "output_type": "stream",
     "text": [
      "Processing batch 74/663\n"
     ]
    },
    {
     "name": "stderr",
     "output_type": "stream",
     "text": [
      "Decoding geohashes: 100%|██████████| 100000/100000 [00:00<00:00, 180032.36it/s]\n",
      "Decoding geohashes: 100%|██████████| 100000/100000 [00:00<00:00, 178362.62it/s]\n"
     ]
    },
    {
     "name": "stdout",
     "output_type": "stream",
     "text": [
      "Processing batch 75/663\n"
     ]
    },
    {
     "name": "stderr",
     "output_type": "stream",
     "text": [
      "Decoding geohashes: 100%|██████████| 100000/100000 [00:00<00:00, 180341.92it/s]\n",
      "Decoding geohashes: 100%|██████████| 100000/100000 [00:00<00:00, 179018.76it/s]\n"
     ]
    },
    {
     "name": "stdout",
     "output_type": "stream",
     "text": [
      "Processing batch 76/663\n"
     ]
    },
    {
     "name": "stderr",
     "output_type": "stream",
     "text": [
      "Decoding geohashes: 100%|██████████| 100000/100000 [00:00<00:00, 177282.07it/s]\n",
      "Decoding geohashes: 100%|██████████| 100000/100000 [00:00<00:00, 169065.99it/s]\n"
     ]
    },
    {
     "name": "stdout",
     "output_type": "stream",
     "text": [
      "Processing batch 77/663\n"
     ]
    },
    {
     "name": "stderr",
     "output_type": "stream",
     "text": [
      "Decoding geohashes: 100%|██████████| 100000/100000 [00:00<00:00, 176767.88it/s]\n",
      "Decoding geohashes: 100%|██████████| 100000/100000 [00:00<00:00, 170594.47it/s]\n"
     ]
    },
    {
     "name": "stdout",
     "output_type": "stream",
     "text": [
      "Processing batch 78/663\n"
     ]
    },
    {
     "name": "stderr",
     "output_type": "stream",
     "text": [
      "Decoding geohashes: 100%|██████████| 100000/100000 [00:00<00:00, 172585.86it/s]\n",
      "Decoding geohashes: 100%|██████████| 100000/100000 [00:00<00:00, 167656.34it/s]\n"
     ]
    },
    {
     "name": "stdout",
     "output_type": "stream",
     "text": [
      "Processing batch 79/663\n"
     ]
    },
    {
     "name": "stderr",
     "output_type": "stream",
     "text": [
      "Decoding geohashes: 100%|██████████| 100000/100000 [00:00<00:00, 170207.21it/s]\n",
      "Decoding geohashes: 100%|██████████| 100000/100000 [00:00<00:00, 178749.07it/s]\n"
     ]
    },
    {
     "name": "stdout",
     "output_type": "stream",
     "text": [
      "Processing batch 80/663\n"
     ]
    },
    {
     "name": "stderr",
     "output_type": "stream",
     "text": [
      "Decoding geohashes: 100%|██████████| 100000/100000 [00:00<00:00, 172933.18it/s]\n",
      "Decoding geohashes: 100%|██████████| 100000/100000 [00:00<00:00, 178327.58it/s]\n"
     ]
    },
    {
     "name": "stdout",
     "output_type": "stream",
     "text": [
      "Processing batch 81/663\n"
     ]
    },
    {
     "name": "stderr",
     "output_type": "stream",
     "text": [
      "Decoding geohashes: 100%|██████████| 100000/100000 [00:00<00:00, 174698.76it/s]\n",
      "Decoding geohashes: 100%|██████████| 100000/100000 [00:00<00:00, 172486.99it/s]\n"
     ]
    },
    {
     "name": "stdout",
     "output_type": "stream",
     "text": [
      "Processing batch 82/663\n"
     ]
    },
    {
     "name": "stderr",
     "output_type": "stream",
     "text": [
      "Decoding geohashes: 100%|██████████| 100000/100000 [00:00<00:00, 178006.84it/s]\n",
      "Decoding geohashes: 100%|██████████| 100000/100000 [00:00<00:00, 170371.14it/s]\n"
     ]
    },
    {
     "name": "stdout",
     "output_type": "stream",
     "text": [
      "Processing batch 83/663\n"
     ]
    },
    {
     "name": "stderr",
     "output_type": "stream",
     "text": [
      "Decoding geohashes: 100%|██████████| 100000/100000 [00:00<00:00, 173434.88it/s]\n",
      "Decoding geohashes: 100%|██████████| 100000/100000 [00:00<00:00, 173698.40it/s]\n"
     ]
    },
    {
     "name": "stdout",
     "output_type": "stream",
     "text": [
      "Processing batch 84/663\n"
     ]
    },
    {
     "name": "stderr",
     "output_type": "stream",
     "text": [
      "Decoding geohashes: 100%|██████████| 100000/100000 [00:00<00:00, 181786.52it/s]\n",
      "Decoding geohashes: 100%|██████████| 100000/100000 [00:00<00:00, 175239.46it/s]\n"
     ]
    },
    {
     "name": "stdout",
     "output_type": "stream",
     "text": [
      "Processing batch 85/663\n"
     ]
    },
    {
     "name": "stderr",
     "output_type": "stream",
     "text": [
      "Decoding geohashes: 100%|██████████| 100000/100000 [00:00<00:00, 178793.26it/s]\n",
      "Decoding geohashes: 100%|██████████| 100000/100000 [00:00<00:00, 136653.31it/s]\n"
     ]
    },
    {
     "name": "stdout",
     "output_type": "stream",
     "text": [
      "Processing batch 86/663\n"
     ]
    },
    {
     "name": "stderr",
     "output_type": "stream",
     "text": [
      "Decoding geohashes: 100%|██████████| 100000/100000 [00:00<00:00, 166235.15it/s]\n",
      "Decoding geohashes: 100%|██████████| 100000/100000 [00:00<00:00, 170988.03it/s]\n"
     ]
    },
    {
     "name": "stdout",
     "output_type": "stream",
     "text": [
      "Processing batch 87/663\n"
     ]
    },
    {
     "name": "stderr",
     "output_type": "stream",
     "text": [
      "Decoding geohashes: 100%|██████████| 100000/100000 [00:00<00:00, 179533.16it/s]\n",
      "Decoding geohashes: 100%|██████████| 100000/100000 [00:00<00:00, 180246.67it/s]\n"
     ]
    },
    {
     "name": "stdout",
     "output_type": "stream",
     "text": [
      "Processing batch 88/663\n"
     ]
    },
    {
     "name": "stderr",
     "output_type": "stream",
     "text": [
      "Decoding geohashes: 100%|██████████| 100000/100000 [00:00<00:00, 177879.94it/s]\n",
      "Decoding geohashes: 100%|██████████| 100000/100000 [00:00<00:00, 173057.83it/s]\n"
     ]
    },
    {
     "name": "stdout",
     "output_type": "stream",
     "text": [
      "Processing batch 89/663\n"
     ]
    },
    {
     "name": "stderr",
     "output_type": "stream",
     "text": [
      "Decoding geohashes: 100%|██████████| 100000/100000 [00:00<00:00, 161327.51it/s]\n",
      "Decoding geohashes: 100%|██████████| 100000/100000 [00:00<00:00, 174571.07it/s]\n"
     ]
    },
    {
     "name": "stdout",
     "output_type": "stream",
     "text": [
      "Processing batch 90/663\n"
     ]
    },
    {
     "name": "stderr",
     "output_type": "stream",
     "text": [
      "Decoding geohashes: 100%|██████████| 100000/100000 [00:00<00:00, 182479.34it/s]\n",
      "Decoding geohashes: 100%|██████████| 100000/100000 [00:00<00:00, 176820.12it/s]\n"
     ]
    },
    {
     "name": "stdout",
     "output_type": "stream",
     "text": [
      "Processing batch 91/663\n"
     ]
    },
    {
     "name": "stderr",
     "output_type": "stream",
     "text": [
      "Decoding geohashes: 100%|██████████| 100000/100000 [00:00<00:00, 173559.39it/s]\n",
      "Decoding geohashes: 100%|██████████| 100000/100000 [00:00<00:00, 166142.96it/s]\n"
     ]
    },
    {
     "name": "stdout",
     "output_type": "stream",
     "text": [
      "Processing batch 92/663\n"
     ]
    },
    {
     "name": "stderr",
     "output_type": "stream",
     "text": [
      "Decoding geohashes: 100%|██████████| 100000/100000 [00:00<00:00, 156368.34it/s]\n",
      "Decoding geohashes: 100%|██████████| 100000/100000 [00:00<00:00, 150169.04it/s]\n"
     ]
    },
    {
     "name": "stdout",
     "output_type": "stream",
     "text": [
      "Processing batch 93/663\n"
     ]
    },
    {
     "name": "stderr",
     "output_type": "stream",
     "text": [
      "Decoding geohashes: 100%|██████████| 100000/100000 [00:00<00:00, 177964.70it/s]\n",
      "Decoding geohashes: 100%|██████████| 100000/100000 [00:00<00:00, 174331.56it/s]\n"
     ]
    },
    {
     "name": "stdout",
     "output_type": "stream",
     "text": [
      "Processing batch 94/663\n"
     ]
    },
    {
     "name": "stderr",
     "output_type": "stream",
     "text": [
      "Decoding geohashes: 100%|██████████| 100000/100000 [00:00<00:00, 167014.85it/s]\n",
      "Decoding geohashes: 100%|██████████| 100000/100000 [00:00<00:00, 179649.35it/s]\n"
     ]
    },
    {
     "name": "stdout",
     "output_type": "stream",
     "text": [
      "Processing batch 95/663\n"
     ]
    },
    {
     "name": "stderr",
     "output_type": "stream",
     "text": [
      "Decoding geohashes: 100%|██████████| 100000/100000 [00:00<00:00, 181340.65it/s]\n",
      "Decoding geohashes: 100%|██████████| 100000/100000 [00:00<00:00, 181528.77it/s]\n"
     ]
    },
    {
     "name": "stdout",
     "output_type": "stream",
     "text": [
      "Processing batch 96/663\n"
     ]
    },
    {
     "name": "stderr",
     "output_type": "stream",
     "text": [
      "Decoding geohashes: 100%|██████████| 100000/100000 [00:00<00:00, 179409.98it/s]\n",
      "Decoding geohashes: 100%|██████████| 100000/100000 [00:00<00:00, 176704.06it/s]\n"
     ]
    },
    {
     "name": "stdout",
     "output_type": "stream",
     "text": [
      "Processing batch 97/663\n"
     ]
    },
    {
     "name": "stderr",
     "output_type": "stream",
     "text": [
      "Decoding geohashes: 100%|██████████| 100000/100000 [00:00<00:00, 165533.16it/s]\n",
      "Decoding geohashes: 100%|██████████| 100000/100000 [00:00<00:00, 179460.19it/s]\n"
     ]
    },
    {
     "name": "stdout",
     "output_type": "stream",
     "text": [
      "Processing batch 98/663\n"
     ]
    },
    {
     "name": "stderr",
     "output_type": "stream",
     "text": [
      "Decoding geohashes: 100%|██████████| 100000/100000 [00:00<00:00, 173580.22it/s]\n",
      "Decoding geohashes: 100%|██████████| 100000/100000 [00:00<00:00, 181471.44it/s]\n"
     ]
    },
    {
     "name": "stdout",
     "output_type": "stream",
     "text": [
      "Processing batch 99/663\n"
     ]
    },
    {
     "name": "stderr",
     "output_type": "stream",
     "text": [
      "Decoding geohashes: 100%|██████████| 100000/100000 [00:00<00:00, 170831.69it/s]\n",
      "Decoding geohashes: 100%|██████████| 100000/100000 [00:00<00:00, 154017.76it/s]\n"
     ]
    },
    {
     "name": "stdout",
     "output_type": "stream",
     "text": [
      "Processing batch 100/663\n"
     ]
    },
    {
     "name": "stderr",
     "output_type": "stream",
     "text": [
      "Decoding geohashes: 100%|██████████| 100000/100000 [00:00<00:00, 171012.99it/s]\n",
      "Decoding geohashes: 100%|██████████| 100000/100000 [00:00<00:00, 171186.79it/s]\n"
     ]
    },
    {
     "name": "stdout",
     "output_type": "stream",
     "text": [
      "Processing batch 101/663\n"
     ]
    },
    {
     "name": "stderr",
     "output_type": "stream",
     "text": [
      "Decoding geohashes: 100%|██████████| 100000/100000 [00:00<00:00, 178604.22it/s]\n",
      "Decoding geohashes: 100%|██████████| 100000/100000 [00:00<00:00, 166065.73it/s]\n"
     ]
    },
    {
     "name": "stdout",
     "output_type": "stream",
     "text": [
      "Processing batch 102/663\n"
     ]
    },
    {
     "name": "stderr",
     "output_type": "stream",
     "text": [
      "Decoding geohashes: 100%|██████████| 100000/100000 [00:00<00:00, 171821.65it/s]\n",
      "Decoding geohashes: 100%|██████████| 100000/100000 [00:00<00:00, 174772.86it/s]\n"
     ]
    },
    {
     "name": "stdout",
     "output_type": "stream",
     "text": [
      "Processing batch 103/663\n"
     ]
    },
    {
     "name": "stderr",
     "output_type": "stream",
     "text": [
      "Decoding geohashes: 100%|██████████| 100000/100000 [00:00<00:00, 179559.91it/s]\n",
      "Decoding geohashes: 100%|██████████| 100000/100000 [00:00<00:00, 179061.41it/s]\n"
     ]
    },
    {
     "name": "stdout",
     "output_type": "stream",
     "text": [
      "Processing batch 104/663\n"
     ]
    },
    {
     "name": "stderr",
     "output_type": "stream",
     "text": [
      "Decoding geohashes: 100%|██████████| 100000/100000 [00:00<00:00, 176889.17it/s]\n",
      "Decoding geohashes: 100%|██████████| 100000/100000 [00:00<00:00, 175122.32it/s]\n"
     ]
    },
    {
     "name": "stdout",
     "output_type": "stream",
     "text": [
      "Processing batch 105/663\n"
     ]
    },
    {
     "name": "stderr",
     "output_type": "stream",
     "text": [
      "Decoding geohashes: 100%|██████████| 100000/100000 [00:00<00:00, 162212.18it/s]\n",
      "Decoding geohashes: 100%|██████████| 100000/100000 [00:00<00:00, 128505.23it/s]\n"
     ]
    },
    {
     "name": "stdout",
     "output_type": "stream",
     "text": [
      "Processing batch 106/663\n"
     ]
    },
    {
     "name": "stderr",
     "output_type": "stream",
     "text": [
      "Decoding geohashes: 100%|██████████| 100000/100000 [00:00<00:00, 160411.46it/s]\n",
      "Decoding geohashes: 100%|██████████| 100000/100000 [00:00<00:00, 152324.01it/s]\n"
     ]
    },
    {
     "name": "stdout",
     "output_type": "stream",
     "text": [
      "Processing batch 107/663\n"
     ]
    },
    {
     "name": "stderr",
     "output_type": "stream",
     "text": [
      "Decoding geohashes: 100%|██████████| 100000/100000 [00:00<00:00, 167620.43it/s]\n",
      "Decoding geohashes: 100%|██████████| 100000/100000 [00:00<00:00, 172012.54it/s]\n"
     ]
    },
    {
     "name": "stdout",
     "output_type": "stream",
     "text": [
      "Processing batch 108/663\n"
     ]
    },
    {
     "name": "stderr",
     "output_type": "stream",
     "text": [
      "Decoding geohashes: 100%|██████████| 100000/100000 [00:00<00:00, 162422.04it/s]\n",
      "Decoding geohashes: 100%|██████████| 100000/100000 [00:00<00:00, 178748.08it/s]\n"
     ]
    },
    {
     "name": "stdout",
     "output_type": "stream",
     "text": [
      "Processing batch 109/663\n"
     ]
    },
    {
     "name": "stderr",
     "output_type": "stream",
     "text": [
      "Decoding geohashes: 100%|██████████| 100000/100000 [00:00<00:00, 175821.55it/s]\n",
      "Decoding geohashes: 100%|██████████| 100000/100000 [00:00<00:00, 174111.92it/s]\n"
     ]
    },
    {
     "name": "stdout",
     "output_type": "stream",
     "text": [
      "Processing batch 110/663\n"
     ]
    },
    {
     "name": "stderr",
     "output_type": "stream",
     "text": [
      "Decoding geohashes: 100%|██████████| 100000/100000 [00:00<00:00, 180514.54it/s]\n",
      "Decoding geohashes: 100%|██████████| 100000/100000 [00:00<00:00, 177239.37it/s]\n"
     ]
    },
    {
     "name": "stdout",
     "output_type": "stream",
     "text": [
      "Processing batch 111/663\n"
     ]
    },
    {
     "name": "stderr",
     "output_type": "stream",
     "text": [
      "Decoding geohashes: 100%|██████████| 100000/100000 [00:00<00:00, 179733.73it/s]\n",
      "Decoding geohashes: 100%|██████████| 100000/100000 [00:00<00:00, 180874.49it/s]\n"
     ]
    },
    {
     "name": "stdout",
     "output_type": "stream",
     "text": [
      "Processing batch 112/663\n"
     ]
    },
    {
     "name": "stderr",
     "output_type": "stream",
     "text": [
      "Decoding geohashes: 100%|██████████| 100000/100000 [00:00<00:00, 181246.61it/s]\n",
      "Decoding geohashes: 100%|██████████| 100000/100000 [00:00<00:00, 180929.97it/s]\n"
     ]
    },
    {
     "name": "stdout",
     "output_type": "stream",
     "text": [
      "Processing batch 113/663\n"
     ]
    },
    {
     "name": "stderr",
     "output_type": "stream",
     "text": [
      "Decoding geohashes: 100%|██████████| 100000/100000 [00:00<00:00, 179795.21it/s]\n",
      "Decoding geohashes: 100%|██████████| 100000/100000 [00:00<00:00, 179397.48it/s]\n"
     ]
    },
    {
     "name": "stdout",
     "output_type": "stream",
     "text": [
      "Processing batch 114/663\n"
     ]
    },
    {
     "name": "stderr",
     "output_type": "stream",
     "text": [
      "Decoding geohashes: 100%|██████████| 100000/100000 [00:00<00:00, 176064.37it/s]\n",
      "Decoding geohashes: 100%|██████████| 100000/100000 [00:00<00:00, 180483.39it/s]\n"
     ]
    },
    {
     "name": "stdout",
     "output_type": "stream",
     "text": [
      "Processing batch 115/663\n"
     ]
    },
    {
     "name": "stderr",
     "output_type": "stream",
     "text": [
      "Decoding geohashes: 100%|██████████| 100000/100000 [00:00<00:00, 175866.37it/s]\n",
      "Decoding geohashes: 100%|██████████| 100000/100000 [00:00<00:00, 180814.14it/s]\n"
     ]
    },
    {
     "name": "stdout",
     "output_type": "stream",
     "text": [
      "Processing batch 116/663\n"
     ]
    },
    {
     "name": "stderr",
     "output_type": "stream",
     "text": [
      "Decoding geohashes: 100%|██████████| 100000/100000 [00:00<00:00, 178011.00it/s]\n",
      "Decoding geohashes: 100%|██████████| 100000/100000 [00:00<00:00, 180283.32it/s]\n"
     ]
    },
    {
     "name": "stdout",
     "output_type": "stream",
     "text": [
      "Processing batch 117/663\n"
     ]
    },
    {
     "name": "stderr",
     "output_type": "stream",
     "text": [
      "Decoding geohashes: 100%|██████████| 100000/100000 [00:00<00:00, 178502.21it/s]\n",
      "Decoding geohashes: 100%|██████████| 100000/100000 [00:00<00:00, 177271.13it/s]\n"
     ]
    },
    {
     "name": "stdout",
     "output_type": "stream",
     "text": [
      "Processing batch 118/663\n"
     ]
    },
    {
     "name": "stderr",
     "output_type": "stream",
     "text": [
      "Decoding geohashes: 100%|██████████| 100000/100000 [00:00<00:00, 177218.10it/s]\n",
      "Decoding geohashes: 100%|██████████| 100000/100000 [00:00<00:00, 169218.37it/s]\n"
     ]
    },
    {
     "name": "stdout",
     "output_type": "stream",
     "text": [
      "Processing batch 119/663\n"
     ]
    },
    {
     "name": "stderr",
     "output_type": "stream",
     "text": [
      "Decoding geohashes: 100%|██████████| 100000/100000 [00:00<00:00, 151563.26it/s]\n",
      "Decoding geohashes: 100%|██████████| 100000/100000 [00:00<00:00, 164388.26it/s]\n"
     ]
    },
    {
     "name": "stdout",
     "output_type": "stream",
     "text": [
      "Processing batch 120/663\n"
     ]
    },
    {
     "name": "stderr",
     "output_type": "stream",
     "text": [
      "Decoding geohashes: 100%|██████████| 100000/100000 [00:00<00:00, 171477.65it/s]\n",
      "Decoding geohashes: 100%|██████████| 100000/100000 [00:00<00:00, 180565.28it/s]\n"
     ]
    },
    {
     "name": "stdout",
     "output_type": "stream",
     "text": [
      "Processing batch 121/663\n"
     ]
    },
    {
     "name": "stderr",
     "output_type": "stream",
     "text": [
      "Decoding geohashes: 100%|██████████| 100000/100000 [00:00<00:00, 176854.04it/s]\n",
      "Decoding geohashes: 100%|██████████| 100000/100000 [00:00<00:00, 180043.88it/s]\n"
     ]
    },
    {
     "name": "stdout",
     "output_type": "stream",
     "text": [
      "Processing batch 122/663\n"
     ]
    },
    {
     "name": "stderr",
     "output_type": "stream",
     "text": [
      "Decoding geohashes: 100%|██████████| 100000/100000 [00:00<00:00, 176033.11it/s]\n",
      "Decoding geohashes: 100%|██████████| 100000/100000 [00:00<00:00, 177447.00it/s]\n"
     ]
    },
    {
     "name": "stdout",
     "output_type": "stream",
     "text": [
      "Processing batch 123/663\n"
     ]
    },
    {
     "name": "stderr",
     "output_type": "stream",
     "text": [
      "Decoding geohashes: 100%|██████████| 100000/100000 [00:00<00:00, 180598.33it/s]\n",
      "Decoding geohashes: 100%|██████████| 100000/100000 [00:00<00:00, 175577.42it/s]\n"
     ]
    },
    {
     "name": "stdout",
     "output_type": "stream",
     "text": [
      "Processing batch 124/663\n"
     ]
    },
    {
     "name": "stderr",
     "output_type": "stream",
     "text": [
      "Decoding geohashes: 100%|██████████| 100000/100000 [00:00<00:00, 171438.19it/s]\n",
      "Decoding geohashes: 100%|██████████| 100000/100000 [00:00<00:00, 171492.24it/s]\n"
     ]
    },
    {
     "name": "stdout",
     "output_type": "stream",
     "text": [
      "Processing batch 125/663\n"
     ]
    },
    {
     "name": "stderr",
     "output_type": "stream",
     "text": [
      "Decoding geohashes: 100%|██████████| 100000/100000 [00:00<00:00, 170416.76it/s]\n",
      "Decoding geohashes: 100%|██████████| 100000/100000 [00:00<00:00, 165505.46it/s]\n"
     ]
    },
    {
     "name": "stdout",
     "output_type": "stream",
     "text": [
      "Processing batch 126/663\n"
     ]
    },
    {
     "name": "stderr",
     "output_type": "stream",
     "text": [
      "Decoding geohashes: 100%|██████████| 100000/100000 [00:00<00:00, 165361.32it/s]\n",
      "Decoding geohashes: 100%|██████████| 100000/100000 [00:00<00:00, 181784.00it/s]\n"
     ]
    },
    {
     "name": "stdout",
     "output_type": "stream",
     "text": [
      "Processing batch 127/663\n"
     ]
    },
    {
     "name": "stderr",
     "output_type": "stream",
     "text": [
      "Decoding geohashes: 100%|██████████| 100000/100000 [00:00<00:00, 160348.54it/s]\n",
      "Decoding geohashes: 100%|██████████| 100000/100000 [00:00<00:00, 161168.01it/s]\n"
     ]
    },
    {
     "name": "stdout",
     "output_type": "stream",
     "text": [
      "Processing batch 128/663\n"
     ]
    },
    {
     "name": "stderr",
     "output_type": "stream",
     "text": [
      "Decoding geohashes: 100%|██████████| 100000/100000 [00:00<00:00, 165919.11it/s]\n",
      "Decoding geohashes: 100%|██████████| 100000/100000 [00:00<00:00, 174762.96it/s]\n"
     ]
    },
    {
     "name": "stdout",
     "output_type": "stream",
     "text": [
      "Processing batch 129/663\n"
     ]
    },
    {
     "name": "stderr",
     "output_type": "stream",
     "text": [
      "Decoding geohashes: 100%|██████████| 100000/100000 [00:00<00:00, 177405.27it/s]\n",
      "Decoding geohashes: 100%|██████████| 100000/100000 [00:00<00:00, 179347.08it/s]\n"
     ]
    },
    {
     "name": "stdout",
     "output_type": "stream",
     "text": [
      "Processing batch 130/663\n"
     ]
    },
    {
     "name": "stderr",
     "output_type": "stream",
     "text": [
      "Decoding geohashes: 100%|██████████| 100000/100000 [00:00<00:00, 181897.44it/s]\n",
      "Decoding geohashes: 100%|██████████| 100000/100000 [00:00<00:00, 175743.09it/s]\n"
     ]
    },
    {
     "name": "stdout",
     "output_type": "stream",
     "text": [
      "Processing batch 131/663\n"
     ]
    },
    {
     "name": "stderr",
     "output_type": "stream",
     "text": [
      "Decoding geohashes: 100%|██████████| 100000/100000 [00:00<00:00, 178828.71it/s]\n",
      "Decoding geohashes: 100%|██████████| 100000/100000 [00:00<00:00, 177224.76it/s]\n"
     ]
    },
    {
     "name": "stdout",
     "output_type": "stream",
     "text": [
      "Processing batch 132/663\n"
     ]
    },
    {
     "name": "stderr",
     "output_type": "stream",
     "text": [
      "Decoding geohashes: 100%|██████████| 100000/100000 [00:00<00:00, 162570.24it/s]\n",
      "Decoding geohashes: 100%|██████████| 100000/100000 [00:00<00:00, 165837.43it/s]\n"
     ]
    },
    {
     "name": "stdout",
     "output_type": "stream",
     "text": [
      "Processing batch 133/663\n"
     ]
    },
    {
     "name": "stderr",
     "output_type": "stream",
     "text": [
      "Decoding geohashes: 100%|██████████| 100000/100000 [00:00<00:00, 158339.50it/s]\n",
      "Decoding geohashes: 100%|██████████| 100000/100000 [00:00<00:00, 142715.49it/s]\n"
     ]
    },
    {
     "name": "stdout",
     "output_type": "stream",
     "text": [
      "Processing batch 134/663\n"
     ]
    },
    {
     "name": "stderr",
     "output_type": "stream",
     "text": [
      "Decoding geohashes: 100%|██████████| 100000/100000 [00:00<00:00, 166719.76it/s]\n",
      "Decoding geohashes: 100%|██████████| 100000/100000 [00:00<00:00, 173065.04it/s]\n"
     ]
    },
    {
     "name": "stdout",
     "output_type": "stream",
     "text": [
      "Processing batch 135/663\n"
     ]
    },
    {
     "name": "stderr",
     "output_type": "stream",
     "text": [
      "Decoding geohashes: 100%|██████████| 100000/100000 [00:00<00:00, 168772.71it/s]\n",
      "Decoding geohashes: 100%|██████████| 100000/100000 [00:00<00:00, 178324.78it/s]\n"
     ]
    },
    {
     "name": "stdout",
     "output_type": "stream",
     "text": [
      "Processing batch 136/663\n"
     ]
    },
    {
     "name": "stderr",
     "output_type": "stream",
     "text": [
      "Decoding geohashes: 100%|██████████| 100000/100000 [00:00<00:00, 149418.70it/s]\n",
      "Decoding geohashes: 100%|██████████| 100000/100000 [00:00<00:00, 143289.00it/s]\n"
     ]
    },
    {
     "name": "stdout",
     "output_type": "stream",
     "text": [
      "Processing batch 137/663\n"
     ]
    },
    {
     "name": "stderr",
     "output_type": "stream",
     "text": [
      "Decoding geohashes: 100%|██████████| 100000/100000 [00:00<00:00, 171693.64it/s]\n",
      "Decoding geohashes: 100%|██████████| 100000/100000 [00:00<00:00, 155585.06it/s]\n"
     ]
    },
    {
     "name": "stdout",
     "output_type": "stream",
     "text": [
      "Processing batch 138/663\n"
     ]
    },
    {
     "name": "stderr",
     "output_type": "stream",
     "text": [
      "Decoding geohashes: 100%|██████████| 100000/100000 [00:00<00:00, 180193.47it/s]\n",
      "Decoding geohashes: 100%|██████████| 100000/100000 [00:00<00:00, 179801.68it/s]\n"
     ]
    },
    {
     "name": "stdout",
     "output_type": "stream",
     "text": [
      "Processing batch 139/663\n"
     ]
    },
    {
     "name": "stderr",
     "output_type": "stream",
     "text": [
      "Decoding geohashes: 100%|██████████| 100000/100000 [00:00<00:00, 182145.00it/s]\n",
      "Decoding geohashes: 100%|██████████| 100000/100000 [00:00<00:00, 152078.34it/s]\n"
     ]
    },
    {
     "name": "stdout",
     "output_type": "stream",
     "text": [
      "Processing batch 140/663\n"
     ]
    },
    {
     "name": "stderr",
     "output_type": "stream",
     "text": [
      "Decoding geohashes: 100%|██████████| 100000/100000 [00:00<00:00, 174708.51it/s]\n",
      "Decoding geohashes: 100%|██████████| 100000/100000 [00:00<00:00, 174430.96it/s]\n"
     ]
    },
    {
     "name": "stdout",
     "output_type": "stream",
     "text": [
      "Processing batch 141/663\n"
     ]
    },
    {
     "name": "stderr",
     "output_type": "stream",
     "text": [
      "Decoding geohashes: 100%|██████████| 100000/100000 [00:00<00:00, 173199.90it/s]\n",
      "Decoding geohashes: 100%|██████████| 100000/100000 [00:00<00:00, 135667.92it/s]\n"
     ]
    },
    {
     "name": "stdout",
     "output_type": "stream",
     "text": [
      "Processing batch 142/663\n"
     ]
    },
    {
     "name": "stderr",
     "output_type": "stream",
     "text": [
      "Decoding geohashes: 100%|██████████| 100000/100000 [00:00<00:00, 148478.93it/s]\n",
      "Decoding geohashes: 100%|██████████| 100000/100000 [00:00<00:00, 139525.92it/s]\n"
     ]
    },
    {
     "name": "stdout",
     "output_type": "stream",
     "text": [
      "Processing batch 143/663\n"
     ]
    },
    {
     "name": "stderr",
     "output_type": "stream",
     "text": [
      "Decoding geohashes: 100%|██████████| 100000/100000 [00:00<00:00, 152684.93it/s]\n",
      "Decoding geohashes: 100%|██████████| 100000/100000 [00:00<00:00, 168113.23it/s]\n"
     ]
    },
    {
     "name": "stdout",
     "output_type": "stream",
     "text": [
      "Processing batch 144/663\n"
     ]
    },
    {
     "name": "stderr",
     "output_type": "stream",
     "text": [
      "Decoding geohashes: 100%|██████████| 100000/100000 [00:00<00:00, 160263.19it/s]\n",
      "Decoding geohashes: 100%|██████████| 100000/100000 [00:00<00:00, 157650.67it/s]\n"
     ]
    },
    {
     "name": "stdout",
     "output_type": "stream",
     "text": [
      "Processing batch 145/663\n"
     ]
    },
    {
     "name": "stderr",
     "output_type": "stream",
     "text": [
      "Decoding geohashes: 100%|██████████| 100000/100000 [00:00<00:00, 152489.04it/s]\n",
      "Decoding geohashes: 100%|██████████| 100000/100000 [00:00<00:00, 152171.70it/s]\n"
     ]
    },
    {
     "name": "stdout",
     "output_type": "stream",
     "text": [
      "Processing batch 146/663\n"
     ]
    },
    {
     "name": "stderr",
     "output_type": "stream",
     "text": [
      "Decoding geohashes: 100%|██████████| 100000/100000 [00:00<00:00, 150300.40it/s]\n",
      "Decoding geohashes: 100%|██████████| 100000/100000 [00:00<00:00, 169889.87it/s]\n"
     ]
    },
    {
     "name": "stdout",
     "output_type": "stream",
     "text": [
      "Processing batch 147/663\n"
     ]
    },
    {
     "name": "stderr",
     "output_type": "stream",
     "text": [
      "Decoding geohashes: 100%|██████████| 100000/100000 [00:00<00:00, 172622.58it/s]\n",
      "Decoding geohashes: 100%|██████████| 100000/100000 [00:00<00:00, 177171.68it/s]\n"
     ]
    },
    {
     "name": "stdout",
     "output_type": "stream",
     "text": [
      "Processing batch 148/663\n"
     ]
    },
    {
     "name": "stderr",
     "output_type": "stream",
     "text": [
      "Decoding geohashes: 100%|██████████| 100000/100000 [00:00<00:00, 175967.83it/s]\n",
      "Decoding geohashes: 100%|██████████| 100000/100000 [00:00<00:00, 171324.47it/s]\n"
     ]
    },
    {
     "name": "stdout",
     "output_type": "stream",
     "text": [
      "Processing batch 149/663\n"
     ]
    },
    {
     "name": "stderr",
     "output_type": "stream",
     "text": [
      "Decoding geohashes: 100%|██████████| 100000/100000 [00:00<00:00, 174659.54it/s]\n",
      "Decoding geohashes: 100%|██████████| 100000/100000 [00:00<00:00, 165387.67it/s]\n"
     ]
    },
    {
     "name": "stdout",
     "output_type": "stream",
     "text": [
      "Processing batch 150/663\n"
     ]
    },
    {
     "name": "stderr",
     "output_type": "stream",
     "text": [
      "Decoding geohashes: 100%|██████████| 100000/100000 [00:00<00:00, 174184.01it/s]\n",
      "Decoding geohashes: 100%|██████████| 100000/100000 [00:00<00:00, 175997.51it/s]\n"
     ]
    },
    {
     "name": "stdout",
     "output_type": "stream",
     "text": [
      "Processing batch 151/663\n"
     ]
    },
    {
     "name": "stderr",
     "output_type": "stream",
     "text": [
      "Decoding geohashes: 100%|██████████| 100000/100000 [00:00<00:00, 172488.97it/s]\n",
      "Decoding geohashes: 100%|██████████| 100000/100000 [00:00<00:00, 168222.05it/s]\n"
     ]
    },
    {
     "name": "stdout",
     "output_type": "stream",
     "text": [
      "Processing batch 152/663\n"
     ]
    },
    {
     "name": "stderr",
     "output_type": "stream",
     "text": [
      "Decoding geohashes: 100%|██████████| 100000/100000 [00:00<00:00, 168822.78it/s]\n",
      "Decoding geohashes: 100%|██████████| 100000/100000 [00:00<00:00, 162710.43it/s]\n"
     ]
    },
    {
     "name": "stdout",
     "output_type": "stream",
     "text": [
      "Processing batch 153/663\n"
     ]
    },
    {
     "name": "stderr",
     "output_type": "stream",
     "text": [
      "Decoding geohashes: 100%|██████████| 100000/100000 [00:00<00:00, 177895.71it/s]\n",
      "Decoding geohashes: 100%|██████████| 100000/100000 [00:00<00:00, 178008.96it/s]\n"
     ]
    },
    {
     "name": "stdout",
     "output_type": "stream",
     "text": [
      "Processing batch 154/663\n"
     ]
    },
    {
     "name": "stderr",
     "output_type": "stream",
     "text": [
      "Decoding geohashes: 100%|██████████| 100000/100000 [00:00<00:00, 174460.70it/s]\n",
      "Decoding geohashes: 100%|██████████| 100000/100000 [00:00<00:00, 180323.78it/s]\n"
     ]
    },
    {
     "name": "stdout",
     "output_type": "stream",
     "text": [
      "Processing batch 155/663\n"
     ]
    },
    {
     "name": "stderr",
     "output_type": "stream",
     "text": [
      "Decoding geohashes: 100%|██████████| 100000/100000 [00:00<00:00, 177270.08it/s]\n",
      "Decoding geohashes: 100%|██████████| 100000/100000 [00:00<00:00, 177540.13it/s]\n"
     ]
    },
    {
     "name": "stdout",
     "output_type": "stream",
     "text": [
      "Processing batch 156/663\n"
     ]
    },
    {
     "name": "stderr",
     "output_type": "stream",
     "text": [
      "Decoding geohashes: 100%|██████████| 100000/100000 [00:00<00:00, 176400.03it/s]\n",
      "Decoding geohashes: 100%|██████████| 100000/100000 [00:00<00:00, 174427.62it/s]\n"
     ]
    },
    {
     "name": "stdout",
     "output_type": "stream",
     "text": [
      "Processing batch 157/663\n"
     ]
    },
    {
     "name": "stderr",
     "output_type": "stream",
     "text": [
      "Decoding geohashes: 100%|██████████| 100000/100000 [00:00<00:00, 179935.74it/s]\n",
      "Decoding geohashes: 100%|██████████| 100000/100000 [00:00<00:00, 158887.07it/s]\n"
     ]
    },
    {
     "name": "stdout",
     "output_type": "stream",
     "text": [
      "Processing batch 158/663\n"
     ]
    },
    {
     "name": "stderr",
     "output_type": "stream",
     "text": [
      "Decoding geohashes: 100%|██████████| 100000/100000 [00:00<00:00, 170931.73it/s]\n",
      "Decoding geohashes: 100%|██████████| 100000/100000 [00:00<00:00, 166550.08it/s]\n"
     ]
    },
    {
     "name": "stdout",
     "output_type": "stream",
     "text": [
      "Processing batch 159/663\n"
     ]
    },
    {
     "name": "stderr",
     "output_type": "stream",
     "text": [
      "Decoding geohashes: 100%|██████████| 100000/100000 [00:00<00:00, 164716.02it/s]\n",
      "Decoding geohashes: 100%|██████████| 100000/100000 [00:00<00:00, 170808.31it/s]\n"
     ]
    },
    {
     "name": "stdout",
     "output_type": "stream",
     "text": [
      "Processing batch 160/663\n"
     ]
    },
    {
     "name": "stderr",
     "output_type": "stream",
     "text": [
      "Decoding geohashes: 100%|██████████| 100000/100000 [00:00<00:00, 171669.61it/s]\n",
      "Decoding geohashes: 100%|██████████| 100000/100000 [00:00<00:00, 173830.64it/s]\n"
     ]
    },
    {
     "name": "stdout",
     "output_type": "stream",
     "text": [
      "Processing batch 161/663\n"
     ]
    },
    {
     "name": "stderr",
     "output_type": "stream",
     "text": [
      "Decoding geohashes: 100%|██████████| 100000/100000 [00:00<00:00, 159330.15it/s]\n",
      "Decoding geohashes: 100%|██████████| 100000/100000 [00:00<00:00, 177607.80it/s]\n"
     ]
    },
    {
     "name": "stdout",
     "output_type": "stream",
     "text": [
      "Processing batch 162/663\n"
     ]
    },
    {
     "name": "stderr",
     "output_type": "stream",
     "text": [
      "Decoding geohashes: 100%|██████████| 100000/100000 [00:00<00:00, 173712.50it/s]\n",
      "Decoding geohashes: 100%|██████████| 100000/100000 [00:00<00:00, 179732.73it/s]\n"
     ]
    },
    {
     "name": "stdout",
     "output_type": "stream",
     "text": [
      "Processing batch 163/663\n"
     ]
    },
    {
     "name": "stderr",
     "output_type": "stream",
     "text": [
      "Decoding geohashes: 100%|██████████| 100000/100000 [00:00<00:00, 164221.43it/s]\n",
      "Decoding geohashes: 100%|██████████| 100000/100000 [00:00<00:00, 168939.26it/s]\n"
     ]
    },
    {
     "name": "stdout",
     "output_type": "stream",
     "text": [
      "Processing batch 164/663\n"
     ]
    },
    {
     "name": "stderr",
     "output_type": "stream",
     "text": [
      "Decoding geohashes: 100%|██████████| 100000/100000 [00:00<00:00, 155657.29it/s]\n",
      "Decoding geohashes: 100%|██████████| 100000/100000 [00:00<00:00, 149839.33it/s]\n"
     ]
    },
    {
     "name": "stdout",
     "output_type": "stream",
     "text": [
      "Processing batch 165/663\n"
     ]
    },
    {
     "name": "stderr",
     "output_type": "stream",
     "text": [
      "Decoding geohashes: 100%|██████████| 100000/100000 [00:00<00:00, 150049.35it/s]\n",
      "Decoding geohashes: 100%|██████████| 100000/100000 [00:00<00:00, 141007.57it/s]\n"
     ]
    },
    {
     "name": "stdout",
     "output_type": "stream",
     "text": [
      "Processing batch 166/663\n"
     ]
    },
    {
     "name": "stderr",
     "output_type": "stream",
     "text": [
      "Decoding geohashes: 100%|██████████| 100000/100000 [00:00<00:00, 157854.06it/s]\n",
      "Decoding geohashes: 100%|██████████| 100000/100000 [00:00<00:00, 166659.94it/s]\n"
     ]
    },
    {
     "name": "stdout",
     "output_type": "stream",
     "text": [
      "Processing batch 167/663\n"
     ]
    },
    {
     "name": "stderr",
     "output_type": "stream",
     "text": [
      "Decoding geohashes: 100%|██████████| 100000/100000 [00:00<00:00, 172085.09it/s]\n",
      "Decoding geohashes: 100%|██████████| 100000/100000 [00:00<00:00, 173466.51it/s]\n"
     ]
    },
    {
     "name": "stdout",
     "output_type": "stream",
     "text": [
      "Processing batch 168/663\n"
     ]
    },
    {
     "name": "stderr",
     "output_type": "stream",
     "text": [
      "Decoding geohashes: 100%|██████████| 100000/100000 [00:00<00:00, 175934.02it/s]\n",
      "Decoding geohashes: 100%|██████████| 100000/100000 [00:00<00:00, 181016.25it/s]\n"
     ]
    },
    {
     "name": "stdout",
     "output_type": "stream",
     "text": [
      "Processing batch 169/663\n"
     ]
    },
    {
     "name": "stderr",
     "output_type": "stream",
     "text": [
      "Decoding geohashes: 100%|██████████| 100000/100000 [00:00<00:00, 173710.27it/s]\n",
      "Decoding geohashes: 100%|██████████| 100000/100000 [00:00<00:00, 174719.71it/s]\n"
     ]
    },
    {
     "name": "stdout",
     "output_type": "stream",
     "text": [
      "Processing batch 170/663\n"
     ]
    },
    {
     "name": "stderr",
     "output_type": "stream",
     "text": [
      "Decoding geohashes: 100%|██████████| 100000/100000 [00:00<00:00, 180478.73it/s]\n",
      "Decoding geohashes: 100%|██████████| 100000/100000 [00:00<00:00, 179190.92it/s]\n"
     ]
    },
    {
     "name": "stdout",
     "output_type": "stream",
     "text": [
      "Processing batch 171/663\n"
     ]
    },
    {
     "name": "stderr",
     "output_type": "stream",
     "text": [
      "Decoding geohashes: 100%|██████████| 100000/100000 [00:00<00:00, 173386.41it/s]\n",
      "Decoding geohashes: 100%|██████████| 100000/100000 [00:00<00:00, 160556.80it/s]\n"
     ]
    },
    {
     "name": "stdout",
     "output_type": "stream",
     "text": [
      "Processing batch 172/663\n"
     ]
    },
    {
     "name": "stderr",
     "output_type": "stream",
     "text": [
      "Decoding geohashes: 100%|██████████| 100000/100000 [00:00<00:00, 164083.37it/s]\n",
      "Decoding geohashes: 100%|██████████| 100000/100000 [00:00<00:00, 166400.16it/s]\n"
     ]
    },
    {
     "name": "stdout",
     "output_type": "stream",
     "text": [
      "Processing batch 173/663\n"
     ]
    },
    {
     "name": "stderr",
     "output_type": "stream",
     "text": [
      "Decoding geohashes: 100%|██████████| 100000/100000 [00:00<00:00, 169921.81it/s]\n",
      "Decoding geohashes: 100%|██████████| 100000/100000 [00:00<00:00, 177261.16it/s]\n"
     ]
    },
    {
     "name": "stdout",
     "output_type": "stream",
     "text": [
      "Processing batch 174/663\n"
     ]
    },
    {
     "name": "stderr",
     "output_type": "stream",
     "text": [
      "Decoding geohashes: 100%|██████████| 100000/100000 [00:00<00:00, 175499.84it/s]\n",
      "Decoding geohashes: 100%|██████████| 100000/100000 [00:00<00:00, 177538.48it/s]\n"
     ]
    },
    {
     "name": "stdout",
     "output_type": "stream",
     "text": [
      "Processing batch 175/663\n"
     ]
    },
    {
     "name": "stderr",
     "output_type": "stream",
     "text": [
      "Decoding geohashes: 100%|██████████| 100000/100000 [00:00<00:00, 163294.62it/s]\n",
      "Decoding geohashes: 100%|██████████| 100000/100000 [00:00<00:00, 179251.57it/s]\n"
     ]
    },
    {
     "name": "stdout",
     "output_type": "stream",
     "text": [
      "Processing batch 176/663\n"
     ]
    },
    {
     "name": "stderr",
     "output_type": "stream",
     "text": [
      "Decoding geohashes: 100%|██████████| 100000/100000 [00:00<00:00, 177419.97it/s]\n",
      "Decoding geohashes: 100%|██████████| 100000/100000 [00:00<00:00, 179532.62it/s]\n"
     ]
    },
    {
     "name": "stdout",
     "output_type": "stream",
     "text": [
      "Processing batch 177/663\n"
     ]
    },
    {
     "name": "stderr",
     "output_type": "stream",
     "text": [
      "Decoding geohashes: 100%|██████████| 100000/100000 [00:00<00:00, 179662.59it/s]\n",
      "Decoding geohashes: 100%|██████████| 100000/100000 [00:00<00:00, 179537.93it/s]\n"
     ]
    },
    {
     "name": "stdout",
     "output_type": "stream",
     "text": [
      "Processing batch 178/663\n"
     ]
    },
    {
     "name": "stderr",
     "output_type": "stream",
     "text": [
      "Decoding geohashes: 100%|██████████| 100000/100000 [00:00<00:00, 173730.85it/s]\n",
      "Decoding geohashes: 100%|██████████| 100000/100000 [00:00<00:00, 179729.80it/s]\n"
     ]
    },
    {
     "name": "stdout",
     "output_type": "stream",
     "text": [
      "Processing batch 179/663\n"
     ]
    },
    {
     "name": "stderr",
     "output_type": "stream",
     "text": [
      "Decoding geohashes: 100%|██████████| 100000/100000 [00:00<00:00, 177257.42it/s]\n",
      "Decoding geohashes: 100%|██████████| 100000/100000 [00:00<00:00, 180989.15it/s]\n"
     ]
    },
    {
     "name": "stdout",
     "output_type": "stream",
     "text": [
      "Processing batch 180/663\n"
     ]
    },
    {
     "name": "stderr",
     "output_type": "stream",
     "text": [
      "Decoding geohashes: 100%|██████████| 100000/100000 [00:00<00:00, 153736.34it/s]\n",
      "Decoding geohashes: 100%|██████████| 100000/100000 [00:00<00:00, 168656.46it/s]\n"
     ]
    },
    {
     "name": "stdout",
     "output_type": "stream",
     "text": [
      "Processing batch 181/663\n"
     ]
    },
    {
     "name": "stderr",
     "output_type": "stream",
     "text": [
      "Decoding geohashes: 100%|██████████| 100000/100000 [00:00<00:00, 171426.00it/s]\n",
      "Decoding geohashes: 100%|██████████| 100000/100000 [00:00<00:00, 174447.35it/s]\n"
     ]
    },
    {
     "name": "stdout",
     "output_type": "stream",
     "text": [
      "Processing batch 182/663\n"
     ]
    },
    {
     "name": "stderr",
     "output_type": "stream",
     "text": [
      "Decoding geohashes: 100%|██████████| 100000/100000 [00:00<00:00, 148731.92it/s]\n",
      "Decoding geohashes: 100%|██████████| 100000/100000 [00:00<00:00, 156859.33it/s]\n"
     ]
    },
    {
     "name": "stdout",
     "output_type": "stream",
     "text": [
      "Processing batch 183/663\n"
     ]
    },
    {
     "name": "stderr",
     "output_type": "stream",
     "text": [
      "Decoding geohashes: 100%|██████████| 100000/100000 [00:00<00:00, 174981.90it/s]\n",
      "Decoding geohashes: 100%|██████████| 100000/100000 [00:00<00:00, 177422.60it/s]\n"
     ]
    },
    {
     "name": "stdout",
     "output_type": "stream",
     "text": [
      "Processing batch 184/663\n"
     ]
    },
    {
     "name": "stderr",
     "output_type": "stream",
     "text": [
      "Decoding geohashes: 100%|██████████| 100000/100000 [00:00<00:00, 179046.50it/s]\n",
      "Decoding geohashes: 100%|██████████| 100000/100000 [00:00<00:00, 178224.53it/s]\n"
     ]
    },
    {
     "name": "stdout",
     "output_type": "stream",
     "text": [
      "Processing batch 185/663\n"
     ]
    },
    {
     "name": "stderr",
     "output_type": "stream",
     "text": [
      "Decoding geohashes: 100%|██████████| 100000/100000 [00:00<00:00, 168440.46it/s]\n",
      "Decoding geohashes: 100%|██████████| 100000/100000 [00:00<00:00, 154248.85it/s]\n"
     ]
    },
    {
     "name": "stdout",
     "output_type": "stream",
     "text": [
      "Processing batch 186/663\n"
     ]
    },
    {
     "name": "stderr",
     "output_type": "stream",
     "text": [
      "Decoding geohashes: 100%|██████████| 100000/100000 [00:00<00:00, 133193.99it/s]\n",
      "Decoding geohashes: 100%|██████████| 100000/100000 [00:00<00:00, 156058.47it/s]\n"
     ]
    },
    {
     "name": "stdout",
     "output_type": "stream",
     "text": [
      "Processing batch 187/663\n"
     ]
    },
    {
     "name": "stderr",
     "output_type": "stream",
     "text": [
      "Decoding geohashes: 100%|██████████| 100000/100000 [00:00<00:00, 178805.00it/s]\n",
      "Decoding geohashes: 100%|██████████| 100000/100000 [00:00<00:00, 174994.68it/s]\n"
     ]
    },
    {
     "name": "stdout",
     "output_type": "stream",
     "text": [
      "Processing batch 188/663\n"
     ]
    },
    {
     "name": "stderr",
     "output_type": "stream",
     "text": [
      "Decoding geohashes: 100%|██████████| 100000/100000 [00:00<00:00, 179561.91it/s]\n",
      "Decoding geohashes: 100%|██████████| 100000/100000 [00:00<00:00, 181531.99it/s]\n"
     ]
    },
    {
     "name": "stdout",
     "output_type": "stream",
     "text": [
      "Processing batch 189/663\n"
     ]
    },
    {
     "name": "stderr",
     "output_type": "stream",
     "text": [
      "Decoding geohashes: 100%|██████████| 100000/100000 [00:00<00:00, 179841.46it/s]\n",
      "Decoding geohashes: 100%|██████████| 100000/100000 [00:00<00:00, 160096.25it/s]\n"
     ]
    },
    {
     "name": "stdout",
     "output_type": "stream",
     "text": [
      "Processing batch 190/663\n"
     ]
    },
    {
     "name": "stderr",
     "output_type": "stream",
     "text": [
      "Decoding geohashes: 100%|██████████| 100000/100000 [00:00<00:00, 168782.15it/s]\n",
      "Decoding geohashes: 100%|██████████| 100000/100000 [00:00<00:00, 177670.47it/s]\n"
     ]
    },
    {
     "name": "stdout",
     "output_type": "stream",
     "text": [
      "Processing batch 191/663\n"
     ]
    },
    {
     "name": "stderr",
     "output_type": "stream",
     "text": [
      "Decoding geohashes: 100%|██████████| 100000/100000 [00:00<00:00, 170589.76it/s]\n",
      "Decoding geohashes: 100%|██████████| 100000/100000 [00:00<00:00, 176144.74it/s]\n"
     ]
    },
    {
     "name": "stdout",
     "output_type": "stream",
     "text": [
      "Processing batch 192/663\n"
     ]
    },
    {
     "name": "stderr",
     "output_type": "stream",
     "text": [
      "Decoding geohashes: 100%|██████████| 100000/100000 [00:00<00:00, 165127.09it/s]\n",
      "Decoding geohashes: 100%|██████████| 100000/100000 [00:00<00:00, 171004.35it/s]\n"
     ]
    },
    {
     "name": "stdout",
     "output_type": "stream",
     "text": [
      "Processing batch 193/663\n"
     ]
    },
    {
     "name": "stderr",
     "output_type": "stream",
     "text": [
      "Decoding geohashes: 100%|██████████| 100000/100000 [00:00<00:00, 173939.71it/s]\n",
      "Decoding geohashes: 100%|██████████| 100000/100000 [00:00<00:00, 174804.98it/s]\n"
     ]
    },
    {
     "name": "stdout",
     "output_type": "stream",
     "text": [
      "Processing batch 194/663\n"
     ]
    },
    {
     "name": "stderr",
     "output_type": "stream",
     "text": [
      "Decoding geohashes: 100%|██████████| 100000/100000 [00:00<00:00, 177102.34it/s]\n",
      "Decoding geohashes: 100%|██████████| 100000/100000 [00:00<00:00, 172714.49it/s]\n"
     ]
    },
    {
     "name": "stdout",
     "output_type": "stream",
     "text": [
      "Processing batch 195/663\n"
     ]
    },
    {
     "name": "stderr",
     "output_type": "stream",
     "text": [
      "Decoding geohashes: 100%|██████████| 100000/100000 [00:00<00:00, 162871.30it/s]\n",
      "Decoding geohashes: 100%|██████████| 100000/100000 [00:00<00:00, 164005.86it/s]\n"
     ]
    },
    {
     "name": "stdout",
     "output_type": "stream",
     "text": [
      "Processing batch 196/663\n"
     ]
    },
    {
     "name": "stderr",
     "output_type": "stream",
     "text": [
      "Decoding geohashes: 100%|██████████| 100000/100000 [00:00<00:00, 179530.01it/s]\n",
      "Decoding geohashes: 100%|██████████| 100000/100000 [00:00<00:00, 179164.36it/s]\n"
     ]
    },
    {
     "name": "stdout",
     "output_type": "stream",
     "text": [
      "Processing batch 197/663\n"
     ]
    },
    {
     "name": "stderr",
     "output_type": "stream",
     "text": [
      "Decoding geohashes: 100%|██████████| 100000/100000 [00:00<00:00, 178426.96it/s]\n",
      "Decoding geohashes: 100%|██████████| 100000/100000 [00:00<00:00, 179571.06it/s]\n"
     ]
    },
    {
     "name": "stdout",
     "output_type": "stream",
     "text": [
      "Processing batch 198/663\n"
     ]
    },
    {
     "name": "stderr",
     "output_type": "stream",
     "text": [
      "Decoding geohashes: 100%|██████████| 100000/100000 [00:00<00:00, 175430.69it/s]\n",
      "Decoding geohashes: 100%|██████████| 100000/100000 [00:00<00:00, 154303.50it/s]\n"
     ]
    },
    {
     "name": "stdout",
     "output_type": "stream",
     "text": [
      "Processing batch 199/663\n"
     ]
    },
    {
     "name": "stderr",
     "output_type": "stream",
     "text": [
      "Decoding geohashes: 100%|██████████| 100000/100000 [00:00<00:00, 163509.79it/s]\n",
      "Decoding geohashes: 100%|██████████| 100000/100000 [00:00<00:00, 172224.58it/s]\n"
     ]
    },
    {
     "name": "stdout",
     "output_type": "stream",
     "text": [
      "Processing batch 200/663\n"
     ]
    },
    {
     "name": "stderr",
     "output_type": "stream",
     "text": [
      "Decoding geohashes: 100%|██████████| 100000/100000 [00:00<00:00, 169985.37it/s]\n",
      "Decoding geohashes: 100%|██████████| 100000/100000 [00:00<00:00, 177359.06it/s]\n"
     ]
    },
    {
     "name": "stdout",
     "output_type": "stream",
     "text": [
      "Processing batch 201/663\n"
     ]
    },
    {
     "name": "stderr",
     "output_type": "stream",
     "text": [
      "Decoding geohashes: 100%|██████████| 100000/100000 [00:00<00:00, 158775.56it/s]\n",
      "Decoding geohashes: 100%|██████████| 100000/100000 [00:00<00:00, 157629.52it/s]\n"
     ]
    },
    {
     "name": "stdout",
     "output_type": "stream",
     "text": [
      "Processing batch 202/663\n"
     ]
    },
    {
     "name": "stderr",
     "output_type": "stream",
     "text": [
      "Decoding geohashes: 100%|██████████| 100000/100000 [00:00<00:00, 149599.69it/s]\n",
      "Decoding geohashes: 100%|██████████| 100000/100000 [00:00<00:00, 172666.71it/s]\n"
     ]
    },
    {
     "name": "stdout",
     "output_type": "stream",
     "text": [
      "Processing batch 203/663\n"
     ]
    },
    {
     "name": "stderr",
     "output_type": "stream",
     "text": [
      "Decoding geohashes: 100%|██████████| 100000/100000 [00:00<00:00, 171548.14it/s]\n",
      "Decoding geohashes: 100%|██████████| 100000/100000 [00:00<00:00, 151738.01it/s]\n"
     ]
    },
    {
     "name": "stdout",
     "output_type": "stream",
     "text": [
      "Processing batch 204/663\n"
     ]
    },
    {
     "name": "stderr",
     "output_type": "stream",
     "text": [
      "Decoding geohashes: 100%|██████████| 100000/100000 [00:00<00:00, 162004.10it/s]\n",
      "Decoding geohashes: 100%|██████████| 100000/100000 [00:00<00:00, 156719.43it/s]\n"
     ]
    },
    {
     "name": "stdout",
     "output_type": "stream",
     "text": [
      "Processing batch 205/663\n"
     ]
    },
    {
     "name": "stderr",
     "output_type": "stream",
     "text": [
      "Decoding geohashes: 100%|██████████| 100000/100000 [00:00<00:00, 155928.05it/s]\n",
      "Decoding geohashes: 100%|██████████| 100000/100000 [00:00<00:00, 163602.78it/s]\n"
     ]
    },
    {
     "name": "stdout",
     "output_type": "stream",
     "text": [
      "Processing batch 206/663\n"
     ]
    },
    {
     "name": "stderr",
     "output_type": "stream",
     "text": [
      "Decoding geohashes: 100%|██████████| 100000/100000 [00:00<00:00, 159641.19it/s]\n",
      "Decoding geohashes: 100%|██████████| 100000/100000 [00:00<00:00, 155782.05it/s]\n"
     ]
    },
    {
     "name": "stdout",
     "output_type": "stream",
     "text": [
      "Processing batch 207/663\n"
     ]
    },
    {
     "name": "stderr",
     "output_type": "stream",
     "text": [
      "Decoding geohashes: 100%|██████████| 100000/100000 [00:00<00:00, 157090.16it/s]\n",
      "Decoding geohashes: 100%|██████████| 100000/100000 [00:00<00:00, 159958.69it/s]\n"
     ]
    },
    {
     "name": "stdout",
     "output_type": "stream",
     "text": [
      "Processing batch 208/663\n"
     ]
    },
    {
     "name": "stderr",
     "output_type": "stream",
     "text": [
      "Decoding geohashes: 100%|██████████| 100000/100000 [00:00<00:00, 159843.66it/s]\n",
      "Decoding geohashes: 100%|██████████| 100000/100000 [00:00<00:00, 152197.54it/s]\n"
     ]
    },
    {
     "name": "stdout",
     "output_type": "stream",
     "text": [
      "Processing batch 209/663\n"
     ]
    },
    {
     "name": "stderr",
     "output_type": "stream",
     "text": [
      "Decoding geohashes: 100%|██████████| 100000/100000 [00:00<00:00, 151059.37it/s]\n",
      "Decoding geohashes: 100%|██████████| 100000/100000 [00:00<00:00, 136524.18it/s]\n"
     ]
    },
    {
     "name": "stdout",
     "output_type": "stream",
     "text": [
      "Processing batch 210/663\n"
     ]
    },
    {
     "name": "stderr",
     "output_type": "stream",
     "text": [
      "Decoding geohashes: 100%|██████████| 100000/100000 [00:00<00:00, 143592.31it/s]\n",
      "Decoding geohashes: 100%|██████████| 100000/100000 [00:00<00:00, 142530.52it/s]\n"
     ]
    },
    {
     "name": "stdout",
     "output_type": "stream",
     "text": [
      "Processing batch 211/663\n"
     ]
    },
    {
     "name": "stderr",
     "output_type": "stream",
     "text": [
      "Decoding geohashes: 100%|██████████| 100000/100000 [00:00<00:00, 143609.22it/s]\n",
      "Decoding geohashes: 100%|██████████| 100000/100000 [00:00<00:00, 144319.14it/s]\n"
     ]
    },
    {
     "name": "stdout",
     "output_type": "stream",
     "text": [
      "Processing batch 212/663\n"
     ]
    },
    {
     "name": "stderr",
     "output_type": "stream",
     "text": [
      "Decoding geohashes: 100%|██████████| 100000/100000 [00:00<00:00, 147677.87it/s]\n",
      "Decoding geohashes: 100%|██████████| 100000/100000 [00:00<00:00, 151502.60it/s]\n"
     ]
    },
    {
     "name": "stdout",
     "output_type": "stream",
     "text": [
      "Processing batch 213/663\n"
     ]
    },
    {
     "name": "stderr",
     "output_type": "stream",
     "text": [
      "Decoding geohashes: 100%|██████████| 100000/100000 [00:00<00:00, 151792.97it/s]\n",
      "Decoding geohashes: 100%|██████████| 100000/100000 [00:00<00:00, 142648.36it/s]\n"
     ]
    },
    {
     "name": "stdout",
     "output_type": "stream",
     "text": [
      "Processing batch 214/663\n"
     ]
    },
    {
     "name": "stderr",
     "output_type": "stream",
     "text": [
      "Decoding geohashes: 100%|██████████| 100000/100000 [00:00<00:00, 152748.16it/s]\n",
      "Decoding geohashes: 100%|██████████| 100000/100000 [00:00<00:00, 155670.35it/s]\n"
     ]
    },
    {
     "name": "stdout",
     "output_type": "stream",
     "text": [
      "Processing batch 215/663\n"
     ]
    },
    {
     "name": "stderr",
     "output_type": "stream",
     "text": [
      "Decoding geohashes: 100%|██████████| 100000/100000 [00:00<00:00, 159434.86it/s]\n",
      "Decoding geohashes: 100%|██████████| 100000/100000 [00:00<00:00, 155941.44it/s]\n"
     ]
    },
    {
     "name": "stdout",
     "output_type": "stream",
     "text": [
      "Processing batch 216/663\n"
     ]
    },
    {
     "name": "stderr",
     "output_type": "stream",
     "text": [
      "Decoding geohashes: 100%|██████████| 100000/100000 [00:00<00:00, 155466.32it/s]\n",
      "Decoding geohashes: 100%|██████████| 100000/100000 [00:00<00:00, 149928.24it/s]\n"
     ]
    },
    {
     "name": "stdout",
     "output_type": "stream",
     "text": [
      "Processing batch 217/663\n"
     ]
    },
    {
     "name": "stderr",
     "output_type": "stream",
     "text": [
      "Decoding geohashes: 100%|██████████| 100000/100000 [00:00<00:00, 157097.51it/s]\n",
      "Decoding geohashes: 100%|██████████| 100000/100000 [00:00<00:00, 154288.52it/s]\n"
     ]
    },
    {
     "name": "stdout",
     "output_type": "stream",
     "text": [
      "Processing batch 218/663\n"
     ]
    },
    {
     "name": "stderr",
     "output_type": "stream",
     "text": [
      "Decoding geohashes: 100%|██████████| 100000/100000 [00:00<00:00, 152075.75it/s]\n",
      "Decoding geohashes: 100%|██████████| 100000/100000 [00:00<00:00, 156303.49it/s]\n"
     ]
    },
    {
     "name": "stdout",
     "output_type": "stream",
     "text": [
      "Processing batch 219/663\n"
     ]
    },
    {
     "name": "stderr",
     "output_type": "stream",
     "text": [
      "Decoding geohashes: 100%|██████████| 100000/100000 [00:00<00:00, 151822.59it/s]\n",
      "Decoding geohashes: 100%|██████████| 100000/100000 [00:00<00:00, 158418.74it/s]\n"
     ]
    },
    {
     "name": "stdout",
     "output_type": "stream",
     "text": [
      "Processing batch 220/663\n"
     ]
    },
    {
     "name": "stderr",
     "output_type": "stream",
     "text": [
      "Decoding geohashes: 100%|██████████| 100000/100000 [00:00<00:00, 160275.99it/s]\n",
      "Decoding geohashes: 100%|██████████| 100000/100000 [00:00<00:00, 151529.69it/s]\n"
     ]
    },
    {
     "name": "stdout",
     "output_type": "stream",
     "text": [
      "Processing batch 221/663\n"
     ]
    },
    {
     "name": "stderr",
     "output_type": "stream",
     "text": [
      "Decoding geohashes: 100%|██████████| 100000/100000 [00:00<00:00, 157769.39it/s]\n",
      "Decoding geohashes: 100%|██████████| 100000/100000 [00:00<00:00, 155513.81it/s]\n"
     ]
    },
    {
     "name": "stdout",
     "output_type": "stream",
     "text": [
      "Processing batch 222/663\n"
     ]
    },
    {
     "name": "stderr",
     "output_type": "stream",
     "text": [
      "Decoding geohashes: 100%|██████████| 100000/100000 [00:00<00:00, 146523.19it/s]\n",
      "Decoding geohashes: 100%|██████████| 100000/100000 [00:00<00:00, 148244.61it/s]\n"
     ]
    },
    {
     "name": "stdout",
     "output_type": "stream",
     "text": [
      "Processing batch 223/663\n"
     ]
    },
    {
     "name": "stderr",
     "output_type": "stream",
     "text": [
      "Decoding geohashes: 100%|██████████| 100000/100000 [00:00<00:00, 128828.29it/s]\n",
      "Decoding geohashes: 100%|██████████| 100000/100000 [00:00<00:00, 142965.28it/s]\n"
     ]
    },
    {
     "name": "stdout",
     "output_type": "stream",
     "text": [
      "Processing batch 224/663\n"
     ]
    },
    {
     "name": "stderr",
     "output_type": "stream",
     "text": [
      "Decoding geohashes: 100%|██████████| 100000/100000 [00:00<00:00, 143400.70it/s]\n",
      "Decoding geohashes: 100%|██████████| 100000/100000 [00:00<00:00, 141766.46it/s]\n"
     ]
    },
    {
     "name": "stdout",
     "output_type": "stream",
     "text": [
      "Processing batch 225/663\n"
     ]
    },
    {
     "name": "stderr",
     "output_type": "stream",
     "text": [
      "Decoding geohashes: 100%|██████████| 100000/100000 [00:00<00:00, 141899.99it/s]\n",
      "Decoding geohashes: 100%|██████████| 100000/100000 [00:00<00:00, 149055.29it/s]\n"
     ]
    },
    {
     "name": "stdout",
     "output_type": "stream",
     "text": [
      "Processing batch 226/663\n"
     ]
    },
    {
     "name": "stderr",
     "output_type": "stream",
     "text": [
      "Decoding geohashes: 100%|██████████| 100000/100000 [00:00<00:00, 150088.39it/s]\n",
      "Decoding geohashes: 100%|██████████| 100000/100000 [00:00<00:00, 152983.49it/s]\n"
     ]
    },
    {
     "name": "stdout",
     "output_type": "stream",
     "text": [
      "Processing batch 227/663\n"
     ]
    },
    {
     "name": "stderr",
     "output_type": "stream",
     "text": [
      "Decoding geohashes: 100%|██████████| 100000/100000 [00:00<00:00, 157509.95it/s]\n",
      "Decoding geohashes: 100%|██████████| 100000/100000 [00:00<00:00, 156042.97it/s]\n"
     ]
    },
    {
     "name": "stdout",
     "output_type": "stream",
     "text": [
      "Processing batch 228/663\n"
     ]
    },
    {
     "name": "stderr",
     "output_type": "stream",
     "text": [
      "Decoding geohashes: 100%|██████████| 100000/100000 [00:00<00:00, 148345.70it/s]\n",
      "Decoding geohashes: 100%|██████████| 100000/100000 [00:00<00:00, 159729.04it/s]\n"
     ]
    },
    {
     "name": "stdout",
     "output_type": "stream",
     "text": [
      "Processing batch 229/663\n"
     ]
    },
    {
     "name": "stderr",
     "output_type": "stream",
     "text": [
      "Decoding geohashes: 100%|██████████| 100000/100000 [00:00<00:00, 154181.89it/s]\n",
      "Decoding geohashes: 100%|██████████| 100000/100000 [00:00<00:00, 151957.08it/s]\n"
     ]
    },
    {
     "name": "stdout",
     "output_type": "stream",
     "text": [
      "Processing batch 230/663\n"
     ]
    },
    {
     "name": "stderr",
     "output_type": "stream",
     "text": [
      "Decoding geohashes: 100%|██████████| 100000/100000 [00:00<00:00, 156177.25it/s]\n",
      "Decoding geohashes: 100%|██████████| 100000/100000 [00:00<00:00, 158683.89it/s]\n"
     ]
    },
    {
     "name": "stdout",
     "output_type": "stream",
     "text": [
      "Processing batch 231/663\n"
     ]
    },
    {
     "name": "stderr",
     "output_type": "stream",
     "text": [
      "Decoding geohashes: 100%|██████████| 100000/100000 [00:00<00:00, 157621.76it/s]\n",
      "Decoding geohashes: 100%|██████████| 100000/100000 [00:00<00:00, 158712.17it/s]\n"
     ]
    },
    {
     "name": "stdout",
     "output_type": "stream",
     "text": [
      "Processing batch 232/663\n"
     ]
    },
    {
     "name": "stderr",
     "output_type": "stream",
     "text": [
      "Decoding geohashes: 100%|██████████| 100000/100000 [00:00<00:00, 154449.64it/s]\n",
      "Decoding geohashes: 100%|██████████| 100000/100000 [00:00<00:00, 149372.67it/s]\n"
     ]
    },
    {
     "name": "stdout",
     "output_type": "stream",
     "text": [
      "Processing batch 233/663\n"
     ]
    },
    {
     "name": "stderr",
     "output_type": "stream",
     "text": [
      "Decoding geohashes: 100%|██████████| 100000/100000 [00:00<00:00, 127086.18it/s]\n",
      "Decoding geohashes: 100%|██████████| 100000/100000 [00:00<00:00, 150267.01it/s]\n"
     ]
    },
    {
     "name": "stdout",
     "output_type": "stream",
     "text": [
      "Processing batch 234/663\n"
     ]
    },
    {
     "name": "stderr",
     "output_type": "stream",
     "text": [
      "Decoding geohashes: 100%|██████████| 100000/100000 [00:00<00:00, 147875.20it/s]\n",
      "Decoding geohashes: 100%|██████████| 100000/100000 [00:00<00:00, 120468.58it/s]\n"
     ]
    },
    {
     "name": "stdout",
     "output_type": "stream",
     "text": [
      "Processing batch 235/663\n"
     ]
    },
    {
     "name": "stderr",
     "output_type": "stream",
     "text": [
      "Decoding geohashes: 100%|██████████| 100000/100000 [00:00<00:00, 128965.71it/s]\n",
      "Decoding geohashes: 100%|██████████| 100000/100000 [00:00<00:00, 138653.76it/s]\n"
     ]
    },
    {
     "name": "stdout",
     "output_type": "stream",
     "text": [
      "Processing batch 236/663\n"
     ]
    },
    {
     "name": "stderr",
     "output_type": "stream",
     "text": [
      "Decoding geohashes: 100%|██████████| 100000/100000 [00:00<00:00, 137544.55it/s]\n",
      "Decoding geohashes: 100%|██████████| 100000/100000 [00:00<00:00, 150002.72it/s]\n"
     ]
    },
    {
     "name": "stdout",
     "output_type": "stream",
     "text": [
      "Processing batch 237/663\n"
     ]
    },
    {
     "name": "stderr",
     "output_type": "stream",
     "text": [
      "Decoding geohashes: 100%|██████████| 100000/100000 [00:00<00:00, 145007.74it/s]\n",
      "Decoding geohashes: 100%|██████████| 100000/100000 [00:00<00:00, 159344.98it/s]\n"
     ]
    },
    {
     "name": "stdout",
     "output_type": "stream",
     "text": [
      "Processing batch 238/663\n"
     ]
    },
    {
     "name": "stderr",
     "output_type": "stream",
     "text": [
      "Decoding geohashes: 100%|██████████| 100000/100000 [00:00<00:00, 158769.19it/s]\n",
      "Decoding geohashes: 100%|██████████| 100000/100000 [00:00<00:00, 161184.67it/s]\n"
     ]
    },
    {
     "name": "stdout",
     "output_type": "stream",
     "text": [
      "Processing batch 239/663\n"
     ]
    },
    {
     "name": "stderr",
     "output_type": "stream",
     "text": [
      "Decoding geohashes: 100%|██████████| 100000/100000 [00:00<00:00, 162467.34it/s]\n",
      "Decoding geohashes: 100%|██████████| 100000/100000 [00:00<00:00, 160899.38it/s]\n"
     ]
    },
    {
     "name": "stdout",
     "output_type": "stream",
     "text": [
      "Processing batch 240/663\n"
     ]
    },
    {
     "name": "stderr",
     "output_type": "stream",
     "text": [
      "Decoding geohashes: 100%|██████████| 100000/100000 [00:00<00:00, 162205.34it/s]\n",
      "Decoding geohashes: 100%|██████████| 100000/100000 [00:00<00:00, 158508.00it/s]\n"
     ]
    },
    {
     "name": "stdout",
     "output_type": "stream",
     "text": [
      "Processing batch 241/663\n"
     ]
    },
    {
     "name": "stderr",
     "output_type": "stream",
     "text": [
      "Decoding geohashes: 100%|██████████| 100000/100000 [00:00<00:00, 164871.67it/s]\n",
      "Decoding geohashes: 100%|██████████| 100000/100000 [00:00<00:00, 160449.38it/s]\n"
     ]
    },
    {
     "name": "stdout",
     "output_type": "stream",
     "text": [
      "Processing batch 242/663\n"
     ]
    },
    {
     "name": "stderr",
     "output_type": "stream",
     "text": [
      "Decoding geohashes: 100%|██████████| 100000/100000 [00:00<00:00, 161054.02it/s]\n",
      "Decoding geohashes: 100%|██████████| 100000/100000 [00:00<00:00, 163069.88it/s]\n"
     ]
    },
    {
     "name": "stdout",
     "output_type": "stream",
     "text": [
      "Processing batch 243/663\n"
     ]
    },
    {
     "name": "stderr",
     "output_type": "stream",
     "text": [
      "Decoding geohashes: 100%|██████████| 100000/100000 [00:00<00:00, 158811.99it/s]\n",
      "Decoding geohashes: 100%|██████████| 100000/100000 [00:00<00:00, 160515.45it/s]\n"
     ]
    },
    {
     "name": "stdout",
     "output_type": "stream",
     "text": [
      "Processing batch 244/663\n"
     ]
    },
    {
     "name": "stderr",
     "output_type": "stream",
     "text": [
      "Decoding geohashes: 100%|██████████| 100000/100000 [00:00<00:00, 158933.37it/s]\n",
      "Decoding geohashes: 100%|██████████| 100000/100000 [00:00<00:00, 138807.80it/s]\n"
     ]
    },
    {
     "name": "stdout",
     "output_type": "stream",
     "text": [
      "Processing batch 245/663\n"
     ]
    },
    {
     "name": "stderr",
     "output_type": "stream",
     "text": [
      "Decoding geohashes: 100%|██████████| 100000/100000 [00:00<00:00, 152907.20it/s]\n",
      "Decoding geohashes: 100%|██████████| 100000/100000 [00:00<00:00, 160969.15it/s]\n"
     ]
    },
    {
     "name": "stdout",
     "output_type": "stream",
     "text": [
      "Processing batch 246/663\n"
     ]
    },
    {
     "name": "stderr",
     "output_type": "stream",
     "text": [
      "Decoding geohashes: 100%|██████████| 100000/100000 [00:00<00:00, 159066.33it/s]\n",
      "Decoding geohashes: 100%|██████████| 100000/100000 [00:00<00:00, 153849.07it/s]\n"
     ]
    },
    {
     "name": "stdout",
     "output_type": "stream",
     "text": [
      "Processing batch 247/663\n"
     ]
    },
    {
     "name": "stderr",
     "output_type": "stream",
     "text": [
      "Decoding geohashes: 100%|██████████| 100000/100000 [00:00<00:00, 137195.60it/s]\n",
      "Decoding geohashes: 100%|██████████| 100000/100000 [00:00<00:00, 148352.41it/s]\n"
     ]
    },
    {
     "name": "stdout",
     "output_type": "stream",
     "text": [
      "Processing batch 248/663\n"
     ]
    },
    {
     "name": "stderr",
     "output_type": "stream",
     "text": [
      "Decoding geohashes: 100%|██████████| 100000/100000 [00:00<00:00, 133854.88it/s]\n",
      "Decoding geohashes: 100%|██████████| 100000/100000 [00:00<00:00, 147428.24it/s]\n"
     ]
    },
    {
     "name": "stdout",
     "output_type": "stream",
     "text": [
      "Processing batch 249/663\n"
     ]
    },
    {
     "name": "stderr",
     "output_type": "stream",
     "text": [
      "Decoding geohashes: 100%|██████████| 100000/100000 [00:00<00:00, 145594.96it/s]\n",
      "Decoding geohashes: 100%|██████████| 100000/100000 [00:00<00:00, 160558.03it/s]\n"
     ]
    },
    {
     "name": "stdout",
     "output_type": "stream",
     "text": [
      "Processing batch 250/663\n"
     ]
    },
    {
     "name": "stderr",
     "output_type": "stream",
     "text": [
      "Decoding geohashes: 100%|██████████| 100000/100000 [00:00<00:00, 161288.49it/s]\n",
      "Decoding geohashes: 100%|██████████| 100000/100000 [00:00<00:00, 161201.65it/s]\n"
     ]
    },
    {
     "name": "stdout",
     "output_type": "stream",
     "text": [
      "Processing batch 251/663\n"
     ]
    },
    {
     "name": "stderr",
     "output_type": "stream",
     "text": [
      "Decoding geohashes: 100%|██████████| 100000/100000 [00:00<00:00, 162837.85it/s]\n",
      "Decoding geohashes: 100%|██████████| 100000/100000 [00:00<00:00, 159687.44it/s]\n"
     ]
    },
    {
     "name": "stdout",
     "output_type": "stream",
     "text": [
      "Processing batch 252/663\n"
     ]
    },
    {
     "name": "stderr",
     "output_type": "stream",
     "text": [
      "Decoding geohashes: 100%|██████████| 100000/100000 [00:00<00:00, 156430.92it/s]\n",
      "Decoding geohashes: 100%|██████████| 100000/100000 [00:00<00:00, 160556.99it/s]\n"
     ]
    },
    {
     "name": "stdout",
     "output_type": "stream",
     "text": [
      "Processing batch 253/663\n"
     ]
    },
    {
     "name": "stderr",
     "output_type": "stream",
     "text": [
      "Decoding geohashes: 100%|██████████| 100000/100000 [00:00<00:00, 163295.32it/s]\n",
      "Decoding geohashes: 100%|██████████| 100000/100000 [00:00<00:00, 157674.02it/s]\n"
     ]
    },
    {
     "name": "stdout",
     "output_type": "stream",
     "text": [
      "Processing batch 254/663\n"
     ]
    },
    {
     "name": "stderr",
     "output_type": "stream",
     "text": [
      "Decoding geohashes: 100%|██████████| 100000/100000 [00:00<00:00, 162775.60it/s]\n",
      "Decoding geohashes: 100%|██████████| 100000/100000 [00:00<00:00, 163280.64it/s]\n"
     ]
    },
    {
     "name": "stdout",
     "output_type": "stream",
     "text": [
      "Processing batch 255/663\n"
     ]
    },
    {
     "name": "stderr",
     "output_type": "stream",
     "text": [
      "Decoding geohashes: 100%|██████████| 100000/100000 [00:00<00:00, 159586.88it/s]\n",
      "Decoding geohashes: 100%|██████████| 100000/100000 [00:00<00:00, 152216.71it/s]\n"
     ]
    },
    {
     "name": "stdout",
     "output_type": "stream",
     "text": [
      "Processing batch 256/663\n"
     ]
    },
    {
     "name": "stderr",
     "output_type": "stream",
     "text": [
      "Decoding geohashes: 100%|██████████| 100000/100000 [00:00<00:00, 149765.92it/s]\n",
      "Decoding geohashes: 100%|██████████| 100000/100000 [00:00<00:00, 158924.27it/s]\n"
     ]
    },
    {
     "name": "stdout",
     "output_type": "stream",
     "text": [
      "Processing batch 257/663\n"
     ]
    },
    {
     "name": "stderr",
     "output_type": "stream",
     "text": [
      "Decoding geohashes: 100%|██████████| 100000/100000 [00:00<00:00, 155943.47it/s]\n",
      "Decoding geohashes: 100%|██████████| 100000/100000 [00:00<00:00, 151682.75it/s]\n"
     ]
    },
    {
     "name": "stdout",
     "output_type": "stream",
     "text": [
      "Processing batch 258/663\n"
     ]
    },
    {
     "name": "stderr",
     "output_type": "stream",
     "text": [
      "Decoding geohashes: 100%|██████████| 100000/100000 [00:00<00:00, 155157.20it/s]\n",
      "Decoding geohashes: 100%|██████████| 100000/100000 [00:00<00:00, 157227.83it/s]\n"
     ]
    },
    {
     "name": "stdout",
     "output_type": "stream",
     "text": [
      "Processing batch 259/663\n"
     ]
    },
    {
     "name": "stderr",
     "output_type": "stream",
     "text": [
      "Decoding geohashes: 100%|██████████| 100000/100000 [00:00<00:00, 146265.10it/s]\n",
      "Decoding geohashes: 100%|██████████| 100000/100000 [00:00<00:00, 137941.94it/s]\n"
     ]
    },
    {
     "name": "stdout",
     "output_type": "stream",
     "text": [
      "Processing batch 260/663\n"
     ]
    },
    {
     "name": "stderr",
     "output_type": "stream",
     "text": [
      "Decoding geohashes: 100%|██████████| 100000/100000 [00:00<00:00, 151568.73it/s]\n",
      "Decoding geohashes: 100%|██████████| 100000/100000 [00:00<00:00, 157723.89it/s]\n"
     ]
    },
    {
     "name": "stdout",
     "output_type": "stream",
     "text": [
      "Processing batch 261/663\n"
     ]
    },
    {
     "name": "stderr",
     "output_type": "stream",
     "text": [
      "Decoding geohashes: 100%|██████████| 100000/100000 [00:00<00:00, 151899.62it/s]\n",
      "Decoding geohashes: 100%|██████████| 100000/100000 [00:00<00:00, 159184.54it/s]\n"
     ]
    },
    {
     "name": "stdout",
     "output_type": "stream",
     "text": [
      "Processing batch 262/663\n"
     ]
    },
    {
     "name": "stderr",
     "output_type": "stream",
     "text": [
      "Decoding geohashes: 100%|██████████| 100000/100000 [00:00<00:00, 148767.00it/s]\n",
      "Decoding geohashes: 100%|██████████| 100000/100000 [00:00<00:00, 158448.84it/s]\n"
     ]
    },
    {
     "name": "stdout",
     "output_type": "stream",
     "text": [
      "Processing batch 263/663\n"
     ]
    },
    {
     "name": "stderr",
     "output_type": "stream",
     "text": [
      "Decoding geohashes: 100%|██████████| 100000/100000 [00:00<00:00, 158000.82it/s]\n",
      "Decoding geohashes: 100%|██████████| 100000/100000 [00:00<00:00, 161746.33it/s]\n"
     ]
    },
    {
     "name": "stdout",
     "output_type": "stream",
     "text": [
      "Processing batch 264/663\n"
     ]
    },
    {
     "name": "stderr",
     "output_type": "stream",
     "text": [
      "Decoding geohashes: 100%|██████████| 100000/100000 [00:00<00:00, 162051.92it/s]\n",
      "Decoding geohashes: 100%|██████████| 100000/100000 [00:00<00:00, 159030.93it/s]\n"
     ]
    },
    {
     "name": "stdout",
     "output_type": "stream",
     "text": [
      "Processing batch 265/663\n"
     ]
    },
    {
     "name": "stderr",
     "output_type": "stream",
     "text": [
      "Decoding geohashes: 100%|██████████| 100000/100000 [00:00<00:00, 161467.62it/s]\n",
      "Decoding geohashes: 100%|██████████| 100000/100000 [00:00<00:00, 162547.30it/s]\n"
     ]
    },
    {
     "name": "stdout",
     "output_type": "stream",
     "text": [
      "Processing batch 266/663\n"
     ]
    },
    {
     "name": "stderr",
     "output_type": "stream",
     "text": [
      "Decoding geohashes: 100%|██████████| 100000/100000 [00:00<00:00, 162008.73it/s]\n",
      "Decoding geohashes: 100%|██████████| 100000/100000 [00:00<00:00, 160110.92it/s]\n"
     ]
    },
    {
     "name": "stdout",
     "output_type": "stream",
     "text": [
      "Processing batch 267/663\n"
     ]
    },
    {
     "name": "stderr",
     "output_type": "stream",
     "text": [
      "Decoding geohashes: 100%|██████████| 100000/100000 [00:00<00:00, 158949.75it/s]\n",
      "Decoding geohashes: 100%|██████████| 100000/100000 [00:00<00:00, 158979.51it/s]\n"
     ]
    },
    {
     "name": "stdout",
     "output_type": "stream",
     "text": [
      "Processing batch 268/663\n"
     ]
    },
    {
     "name": "stderr",
     "output_type": "stream",
     "text": [
      "Decoding geohashes: 100%|██████████| 100000/100000 [00:00<00:00, 155710.97it/s]\n",
      "Decoding geohashes: 100%|██████████| 100000/100000 [00:00<00:00, 158677.89it/s]\n"
     ]
    },
    {
     "name": "stdout",
     "output_type": "stream",
     "text": [
      "Processing batch 269/663\n"
     ]
    },
    {
     "name": "stderr",
     "output_type": "stream",
     "text": [
      "Decoding geohashes: 100%|██████████| 100000/100000 [00:00<00:00, 155220.24it/s]\n",
      "Decoding geohashes: 100%|██████████| 100000/100000 [00:00<00:00, 161384.43it/s]\n"
     ]
    },
    {
     "name": "stdout",
     "output_type": "stream",
     "text": [
      "Processing batch 270/663\n"
     ]
    },
    {
     "name": "stderr",
     "output_type": "stream",
     "text": [
      "Decoding geohashes: 100%|██████████| 100000/100000 [00:00<00:00, 160972.37it/s]\n",
      "Decoding geohashes: 100%|██████████| 100000/100000 [00:00<00:00, 157653.93it/s]\n"
     ]
    },
    {
     "name": "stdout",
     "output_type": "stream",
     "text": [
      "Processing batch 271/663\n"
     ]
    },
    {
     "name": "stderr",
     "output_type": "stream",
     "text": [
      "Decoding geohashes: 100%|██████████| 100000/100000 [00:00<00:00, 154062.00it/s]\n",
      "Decoding geohashes: 100%|██████████| 100000/100000 [00:00<00:00, 133964.29it/s]\n"
     ]
    },
    {
     "name": "stdout",
     "output_type": "stream",
     "text": [
      "Processing batch 272/663\n"
     ]
    },
    {
     "name": "stderr",
     "output_type": "stream",
     "text": [
      "Decoding geohashes: 100%|██████████| 100000/100000 [00:00<00:00, 137187.16it/s]\n",
      "Decoding geohashes: 100%|██████████| 100000/100000 [00:00<00:00, 142629.98it/s]\n"
     ]
    },
    {
     "name": "stdout",
     "output_type": "stream",
     "text": [
      "Processing batch 273/663\n"
     ]
    },
    {
     "name": "stderr",
     "output_type": "stream",
     "text": [
      "Decoding geohashes: 100%|██████████| 100000/100000 [00:00<00:00, 153366.73it/s]\n",
      "Decoding geohashes: 100%|██████████| 100000/100000 [00:00<00:00, 158558.69it/s]\n"
     ]
    },
    {
     "name": "stdout",
     "output_type": "stream",
     "text": [
      "Processing batch 274/663\n"
     ]
    },
    {
     "name": "stderr",
     "output_type": "stream",
     "text": [
      "Decoding geohashes: 100%|██████████| 100000/100000 [00:00<00:00, 175772.41it/s]\n",
      "Decoding geohashes: 100%|██████████| 100000/100000 [00:00<00:00, 179979.37it/s]\n"
     ]
    },
    {
     "name": "stdout",
     "output_type": "stream",
     "text": [
      "Processing batch 275/663\n"
     ]
    },
    {
     "name": "stderr",
     "output_type": "stream",
     "text": [
      "Decoding geohashes: 100%|██████████| 100000/100000 [00:00<00:00, 175130.95it/s]\n",
      "Decoding geohashes: 100%|██████████| 100000/100000 [00:00<00:00, 173885.78it/s]\n"
     ]
    },
    {
     "name": "stdout",
     "output_type": "stream",
     "text": [
      "Processing batch 276/663\n"
     ]
    },
    {
     "name": "stderr",
     "output_type": "stream",
     "text": [
      "Decoding geohashes: 100%|██████████| 100000/100000 [00:00<00:00, 161025.20it/s]\n",
      "Decoding geohashes: 100%|██████████| 100000/100000 [00:00<00:00, 170655.21it/s]\n"
     ]
    },
    {
     "name": "stdout",
     "output_type": "stream",
     "text": [
      "Processing batch 277/663\n"
     ]
    },
    {
     "name": "stderr",
     "output_type": "stream",
     "text": [
      "Decoding geohashes: 100%|██████████| 100000/100000 [00:00<00:00, 177761.73it/s]\n",
      "Decoding geohashes: 100%|██████████| 100000/100000 [00:00<00:00, 155214.67it/s]\n"
     ]
    },
    {
     "name": "stdout",
     "output_type": "stream",
     "text": [
      "Processing batch 278/663\n"
     ]
    },
    {
     "name": "stderr",
     "output_type": "stream",
     "text": [
      "Decoding geohashes: 100%|██████████| 100000/100000 [00:00<00:00, 177646.54it/s]\n",
      "Decoding geohashes: 100%|██████████| 100000/100000 [00:00<00:00, 178509.73it/s]\n"
     ]
    },
    {
     "name": "stdout",
     "output_type": "stream",
     "text": [
      "Processing batch 279/663\n"
     ]
    },
    {
     "name": "stderr",
     "output_type": "stream",
     "text": [
      "Decoding geohashes: 100%|██████████| 100000/100000 [00:00<00:00, 153928.79it/s]\n",
      "Decoding geohashes: 100%|██████████| 100000/100000 [00:00<00:00, 162237.90it/s]\n"
     ]
    },
    {
     "name": "stdout",
     "output_type": "stream",
     "text": [
      "Processing batch 280/663\n"
     ]
    },
    {
     "name": "stderr",
     "output_type": "stream",
     "text": [
      "Decoding geohashes: 100%|██████████| 100000/100000 [00:00<00:00, 139953.35it/s]\n",
      "Decoding geohashes: 100%|██████████| 100000/100000 [00:00<00:00, 140995.39it/s]\n"
     ]
    },
    {
     "name": "stdout",
     "output_type": "stream",
     "text": [
      "Processing batch 281/663\n"
     ]
    },
    {
     "name": "stderr",
     "output_type": "stream",
     "text": [
      "Decoding geohashes: 100%|██████████| 100000/100000 [00:00<00:00, 152787.16it/s]\n",
      "Decoding geohashes: 100%|██████████| 100000/100000 [00:00<00:00, 153446.91it/s]\n"
     ]
    },
    {
     "name": "stdout",
     "output_type": "stream",
     "text": [
      "Processing batch 282/663\n"
     ]
    },
    {
     "name": "stderr",
     "output_type": "stream",
     "text": [
      "Decoding geohashes: 100%|██████████| 100000/100000 [00:00<00:00, 137590.12it/s]\n",
      "Decoding geohashes: 100%|██████████| 100000/100000 [00:00<00:00, 131270.96it/s]\n"
     ]
    },
    {
     "name": "stdout",
     "output_type": "stream",
     "text": [
      "Processing batch 283/663\n"
     ]
    },
    {
     "name": "stderr",
     "output_type": "stream",
     "text": [
      "Decoding geohashes: 100%|██████████| 100000/100000 [00:00<00:00, 157255.89it/s]\n",
      "Decoding geohashes: 100%|██████████| 100000/100000 [00:00<00:00, 153739.72it/s]\n"
     ]
    },
    {
     "name": "stdout",
     "output_type": "stream",
     "text": [
      "Processing batch 284/663\n"
     ]
    },
    {
     "name": "stderr",
     "output_type": "stream",
     "text": [
      "Decoding geohashes: 100%|██████████| 100000/100000 [00:00<00:00, 147331.50it/s]\n",
      "Decoding geohashes: 100%|██████████| 100000/100000 [00:00<00:00, 148372.20it/s]\n"
     ]
    },
    {
     "name": "stdout",
     "output_type": "stream",
     "text": [
      "Processing batch 285/663\n"
     ]
    },
    {
     "name": "stderr",
     "output_type": "stream",
     "text": [
      "Decoding geohashes: 100%|██████████| 100000/100000 [00:00<00:00, 144187.22it/s]\n",
      "Decoding geohashes: 100%|██████████| 100000/100000 [00:00<00:00, 155428.52it/s]\n"
     ]
    },
    {
     "name": "stdout",
     "output_type": "stream",
     "text": [
      "Processing batch 286/663\n"
     ]
    },
    {
     "name": "stderr",
     "output_type": "stream",
     "text": [
      "Decoding geohashes: 100%|██████████| 100000/100000 [00:00<00:00, 129323.75it/s]\n",
      "Decoding geohashes: 100%|██████████| 100000/100000 [00:00<00:00, 157448.39it/s]\n"
     ]
    },
    {
     "name": "stdout",
     "output_type": "stream",
     "text": [
      "Processing batch 287/663\n"
     ]
    },
    {
     "name": "stderr",
     "output_type": "stream",
     "text": [
      "Decoding geohashes: 100%|██████████| 100000/100000 [00:00<00:00, 162173.04it/s]\n",
      "Decoding geohashes: 100%|██████████| 100000/100000 [00:00<00:00, 159162.00it/s]\n"
     ]
    },
    {
     "name": "stdout",
     "output_type": "stream",
     "text": [
      "Processing batch 288/663\n"
     ]
    },
    {
     "name": "stderr",
     "output_type": "stream",
     "text": [
      "Decoding geohashes: 100%|██████████| 100000/100000 [00:00<00:00, 159847.37it/s]\n",
      "Decoding geohashes: 100%|██████████| 100000/100000 [00:00<00:00, 163287.76it/s]\n"
     ]
    },
    {
     "name": "stdout",
     "output_type": "stream",
     "text": [
      "Processing batch 289/663\n"
     ]
    },
    {
     "name": "stderr",
     "output_type": "stream",
     "text": [
      "Decoding geohashes: 100%|██████████| 100000/100000 [00:00<00:00, 161757.00it/s]\n",
      "Decoding geohashes: 100%|██████████| 100000/100000 [00:00<00:00, 162095.70it/s]\n"
     ]
    },
    {
     "name": "stdout",
     "output_type": "stream",
     "text": [
      "Processing batch 290/663\n"
     ]
    },
    {
     "name": "stderr",
     "output_type": "stream",
     "text": [
      "Decoding geohashes: 100%|██████████| 100000/100000 [00:00<00:00, 162790.00it/s]\n",
      "Decoding geohashes: 100%|██████████| 100000/100000 [00:00<00:00, 160299.39it/s]\n"
     ]
    },
    {
     "name": "stdout",
     "output_type": "stream",
     "text": [
      "Processing batch 291/663\n"
     ]
    },
    {
     "name": "stderr",
     "output_type": "stream",
     "text": [
      "Decoding geohashes: 100%|██████████| 100000/100000 [00:00<00:00, 156907.16it/s]\n",
      "Decoding geohashes: 100%|██████████| 100000/100000 [00:00<00:00, 162832.16it/s]\n"
     ]
    },
    {
     "name": "stdout",
     "output_type": "stream",
     "text": [
      "Processing batch 292/663\n"
     ]
    },
    {
     "name": "stderr",
     "output_type": "stream",
     "text": [
      "Decoding geohashes: 100%|██████████| 100000/100000 [00:00<00:00, 159822.83it/s]\n",
      "Decoding geohashes: 100%|██████████| 100000/100000 [00:00<00:00, 163238.69it/s]\n"
     ]
    },
    {
     "name": "stdout",
     "output_type": "stream",
     "text": [
      "Processing batch 293/663\n"
     ]
    },
    {
     "name": "stderr",
     "output_type": "stream",
     "text": [
      "Decoding geohashes: 100%|██████████| 100000/100000 [00:00<00:00, 155150.94it/s]\n",
      "Decoding geohashes: 100%|██████████| 100000/100000 [00:00<00:00, 153660.19it/s]\n"
     ]
    },
    {
     "name": "stdout",
     "output_type": "stream",
     "text": [
      "Processing batch 294/663\n"
     ]
    },
    {
     "name": "stderr",
     "output_type": "stream",
     "text": [
      "Decoding geohashes: 100%|██████████| 100000/100000 [00:00<00:00, 159593.81it/s]\n",
      "Decoding geohashes: 100%|██████████| 100000/100000 [00:00<00:00, 159054.57it/s]\n"
     ]
    },
    {
     "name": "stdout",
     "output_type": "stream",
     "text": [
      "Processing batch 295/663\n"
     ]
    },
    {
     "name": "stderr",
     "output_type": "stream",
     "text": [
      "Decoding geohashes: 100%|██████████| 100000/100000 [00:00<00:00, 158864.80it/s]\n",
      "Decoding geohashes: 100%|██████████| 100000/100000 [00:00<00:00, 159798.41it/s]\n"
     ]
    },
    {
     "name": "stdout",
     "output_type": "stream",
     "text": [
      "Processing batch 296/663\n"
     ]
    },
    {
     "name": "stderr",
     "output_type": "stream",
     "text": [
      "Decoding geohashes: 100%|██████████| 100000/100000 [00:00<00:00, 150396.87it/s]\n",
      "Decoding geohashes: 100%|██████████| 100000/100000 [00:00<00:00, 142684.42it/s]\n"
     ]
    },
    {
     "name": "stdout",
     "output_type": "stream",
     "text": [
      "Processing batch 297/663\n"
     ]
    },
    {
     "name": "stderr",
     "output_type": "stream",
     "text": [
      "Decoding geohashes: 100%|██████████| 100000/100000 [00:00<00:00, 153448.82it/s]\n",
      "Decoding geohashes: 100%|██████████| 100000/100000 [00:00<00:00, 153226.44it/s]\n"
     ]
    },
    {
     "name": "stdout",
     "output_type": "stream",
     "text": [
      "Processing batch 298/663\n"
     ]
    },
    {
     "name": "stderr",
     "output_type": "stream",
     "text": [
      "Decoding geohashes: 100%|██████████| 100000/100000 [00:00<00:00, 154640.35it/s]\n",
      "Decoding geohashes: 100%|██████████| 100000/100000 [00:00<00:00, 147518.05it/s]\n"
     ]
    },
    {
     "name": "stdout",
     "output_type": "stream",
     "text": [
      "Processing batch 299/663\n"
     ]
    },
    {
     "name": "stderr",
     "output_type": "stream",
     "text": [
      "Decoding geohashes: 100%|██████████| 100000/100000 [00:00<00:00, 161408.78it/s]\n",
      "Decoding geohashes: 100%|██████████| 100000/100000 [00:00<00:00, 163549.06it/s]\n"
     ]
    },
    {
     "name": "stdout",
     "output_type": "stream",
     "text": [
      "Processing batch 300/663\n"
     ]
    },
    {
     "name": "stderr",
     "output_type": "stream",
     "text": [
      "Decoding geohashes: 100%|██████████| 100000/100000 [00:00<00:00, 153231.98it/s]\n",
      "Decoding geohashes: 100%|██████████| 100000/100000 [00:00<00:00, 153861.26it/s]\n"
     ]
    },
    {
     "name": "stdout",
     "output_type": "stream",
     "text": [
      "Processing batch 301/663\n"
     ]
    },
    {
     "name": "stderr",
     "output_type": "stream",
     "text": [
      "Decoding geohashes: 100%|██████████| 100000/100000 [00:00<00:00, 151782.54it/s]\n",
      "Decoding geohashes: 100%|██████████| 100000/100000 [00:00<00:00, 155375.73it/s]\n"
     ]
    },
    {
     "name": "stdout",
     "output_type": "stream",
     "text": [
      "Processing batch 302/663\n"
     ]
    },
    {
     "name": "stderr",
     "output_type": "stream",
     "text": [
      "Decoding geohashes: 100%|██████████| 100000/100000 [00:00<00:00, 144188.51it/s]\n",
      "Decoding geohashes: 100%|██████████| 100000/100000 [00:00<00:00, 179056.75it/s]\n"
     ]
    },
    {
     "name": "stdout",
     "output_type": "stream",
     "text": [
      "Processing batch 303/663\n"
     ]
    },
    {
     "name": "stderr",
     "output_type": "stream",
     "text": [
      "Decoding geohashes: 100%|██████████| 100000/100000 [00:00<00:00, 178271.27it/s]\n",
      "Decoding geohashes: 100%|██████████| 100000/100000 [00:00<00:00, 177560.65it/s]\n"
     ]
    },
    {
     "name": "stdout",
     "output_type": "stream",
     "text": [
      "Processing batch 304/663\n"
     ]
    },
    {
     "name": "stderr",
     "output_type": "stream",
     "text": [
      "Decoding geohashes: 100%|██████████| 100000/100000 [00:00<00:00, 179257.01it/s]\n",
      "Decoding geohashes: 100%|██████████| 100000/100000 [00:00<00:00, 178365.65it/s]\n"
     ]
    },
    {
     "name": "stdout",
     "output_type": "stream",
     "text": [
      "Processing batch 305/663\n"
     ]
    },
    {
     "name": "stderr",
     "output_type": "stream",
     "text": [
      "Decoding geohashes: 100%|██████████| 100000/100000 [00:00<00:00, 177449.77it/s]\n",
      "Decoding geohashes: 100%|██████████| 100000/100000 [00:00<00:00, 179035.35it/s]\n"
     ]
    },
    {
     "name": "stdout",
     "output_type": "stream",
     "text": [
      "Processing batch 306/663\n"
     ]
    },
    {
     "name": "stderr",
     "output_type": "stream",
     "text": [
      "Decoding geohashes: 100%|██████████| 100000/100000 [00:00<00:00, 175376.63it/s]\n",
      "Decoding geohashes: 100%|██████████| 100000/100000 [00:00<00:00, 176013.17it/s]\n"
     ]
    },
    {
     "name": "stdout",
     "output_type": "stream",
     "text": [
      "Processing batch 307/663\n"
     ]
    },
    {
     "name": "stderr",
     "output_type": "stream",
     "text": [
      "Decoding geohashes: 100%|██████████| 100000/100000 [00:00<00:00, 173808.24it/s]\n",
      "Decoding geohashes: 100%|██████████| 100000/100000 [00:00<00:00, 175434.58it/s]\n"
     ]
    },
    {
     "name": "stdout",
     "output_type": "stream",
     "text": [
      "Processing batch 308/663\n"
     ]
    },
    {
     "name": "stderr",
     "output_type": "stream",
     "text": [
      "Decoding geohashes: 100%|██████████| 100000/100000 [00:00<00:00, 175390.05it/s]\n",
      "Decoding geohashes: 100%|██████████| 100000/100000 [00:00<00:00, 173204.12it/s]\n"
     ]
    },
    {
     "name": "stdout",
     "output_type": "stream",
     "text": [
      "Processing batch 309/663\n"
     ]
    },
    {
     "name": "stderr",
     "output_type": "stream",
     "text": [
      "Decoding geohashes: 100%|██████████| 100000/100000 [00:00<00:00, 167634.83it/s]\n",
      "Decoding geohashes: 100%|██████████| 100000/100000 [00:01<00:00, 92825.06it/s]\n"
     ]
    },
    {
     "name": "stdout",
     "output_type": "stream",
     "text": [
      "Processing batch 310/663\n"
     ]
    },
    {
     "name": "stderr",
     "output_type": "stream",
     "text": [
      "Decoding geohashes: 100%|██████████| 100000/100000 [00:00<00:00, 146913.45it/s]\n",
      "Decoding geohashes: 100%|██████████| 100000/100000 [00:00<00:00, 164072.52it/s]\n"
     ]
    },
    {
     "name": "stdout",
     "output_type": "stream",
     "text": [
      "Processing batch 311/663\n"
     ]
    },
    {
     "name": "stderr",
     "output_type": "stream",
     "text": [
      "Decoding geohashes: 100%|██████████| 100000/100000 [00:00<00:00, 171587.86it/s]\n",
      "Decoding geohashes: 100%|██████████| 100000/100000 [00:00<00:00, 161386.67it/s]\n"
     ]
    },
    {
     "name": "stdout",
     "output_type": "stream",
     "text": [
      "Processing batch 312/663\n"
     ]
    },
    {
     "name": "stderr",
     "output_type": "stream",
     "text": [
      "Decoding geohashes: 100%|██████████| 100000/100000 [00:00<00:00, 155238.57it/s]\n",
      "Decoding geohashes: 100%|██████████| 100000/100000 [00:00<00:00, 173184.38it/s]\n"
     ]
    },
    {
     "name": "stdout",
     "output_type": "stream",
     "text": [
      "Processing batch 313/663\n"
     ]
    },
    {
     "name": "stderr",
     "output_type": "stream",
     "text": [
      "Decoding geohashes: 100%|██████████| 100000/100000 [00:00<00:00, 178087.79it/s]\n",
      "Decoding geohashes: 100%|██████████| 100000/100000 [00:00<00:00, 176192.25it/s]\n"
     ]
    },
    {
     "name": "stdout",
     "output_type": "stream",
     "text": [
      "Processing batch 314/663\n"
     ]
    },
    {
     "name": "stderr",
     "output_type": "stream",
     "text": [
      "Decoding geohashes: 100%|██████████| 100000/100000 [00:00<00:00, 144422.71it/s]\n",
      "Decoding geohashes: 100%|██████████| 100000/100000 [00:00<00:00, 138324.80it/s]\n"
     ]
    },
    {
     "name": "stdout",
     "output_type": "stream",
     "text": [
      "Processing batch 315/663\n"
     ]
    },
    {
     "name": "stderr",
     "output_type": "stream",
     "text": [
      "Decoding geohashes: 100%|██████████| 100000/100000 [00:00<00:00, 179654.97it/s]\n",
      "Decoding geohashes: 100%|██████████| 100000/100000 [00:00<00:00, 174520.96it/s]\n"
     ]
    },
    {
     "name": "stdout",
     "output_type": "stream",
     "text": [
      "Processing batch 316/663\n"
     ]
    },
    {
     "name": "stderr",
     "output_type": "stream",
     "text": [
      "Decoding geohashes: 100%|██████████| 100000/100000 [00:00<00:00, 170569.15it/s]\n",
      "Decoding geohashes: 100%|██████████| 100000/100000 [00:00<00:00, 178811.18it/s]\n"
     ]
    },
    {
     "name": "stdout",
     "output_type": "stream",
     "text": [
      "Processing batch 317/663\n"
     ]
    },
    {
     "name": "stderr",
     "output_type": "stream",
     "text": [
      "Decoding geohashes: 100%|██████████| 100000/100000 [00:00<00:00, 178523.18it/s]\n",
      "Decoding geohashes: 100%|██████████| 100000/100000 [00:00<00:00, 179161.84it/s]\n"
     ]
    },
    {
     "name": "stdout",
     "output_type": "stream",
     "text": [
      "Processing batch 318/663\n"
     ]
    },
    {
     "name": "stderr",
     "output_type": "stream",
     "text": [
      "Decoding geohashes: 100%|██████████| 100000/100000 [00:00<00:00, 178985.91it/s]\n",
      "Decoding geohashes: 100%|██████████| 100000/100000 [00:00<00:00, 173888.95it/s]\n"
     ]
    },
    {
     "name": "stdout",
     "output_type": "stream",
     "text": [
      "Processing batch 319/663\n"
     ]
    },
    {
     "name": "stderr",
     "output_type": "stream",
     "text": [
      "Decoding geohashes: 100%|██████████| 100000/100000 [00:00<00:00, 180673.86it/s]\n",
      "Decoding geohashes: 100%|██████████| 100000/100000 [00:00<00:00, 179348.00it/s]\n"
     ]
    },
    {
     "name": "stdout",
     "output_type": "stream",
     "text": [
      "Processing batch 320/663\n"
     ]
    },
    {
     "name": "stderr",
     "output_type": "stream",
     "text": [
      "Decoding geohashes: 100%|██████████| 100000/100000 [00:00<00:00, 180458.07it/s]\n",
      "Decoding geohashes: 100%|██████████| 100000/100000 [00:00<00:00, 173170.94it/s]\n"
     ]
    },
    {
     "name": "stdout",
     "output_type": "stream",
     "text": [
      "Processing batch 321/663\n"
     ]
    },
    {
     "name": "stderr",
     "output_type": "stream",
     "text": [
      "Decoding geohashes: 100%|██████████| 100000/100000 [00:00<00:00, 179515.26it/s]\n",
      "Decoding geohashes: 100%|██████████| 100000/100000 [00:00<00:00, 174806.44it/s]\n"
     ]
    },
    {
     "name": "stdout",
     "output_type": "stream",
     "text": [
      "Processing batch 322/663\n"
     ]
    },
    {
     "name": "stderr",
     "output_type": "stream",
     "text": [
      "Decoding geohashes: 100%|██████████| 100000/100000 [00:00<00:00, 162849.35it/s]\n",
      "Decoding geohashes: 100%|██████████| 100000/100000 [00:00<00:00, 169394.96it/s]\n"
     ]
    },
    {
     "name": "stdout",
     "output_type": "stream",
     "text": [
      "Processing batch 323/663\n"
     ]
    },
    {
     "name": "stderr",
     "output_type": "stream",
     "text": [
      "Decoding geohashes: 100%|██████████| 100000/100000 [00:00<00:00, 165361.13it/s]\n",
      "Decoding geohashes: 100%|██████████| 100000/100000 [00:00<00:00, 175086.07it/s]\n"
     ]
    },
    {
     "name": "stdout",
     "output_type": "stream",
     "text": [
      "Processing batch 324/663\n"
     ]
    },
    {
     "name": "stderr",
     "output_type": "stream",
     "text": [
      "Decoding geohashes: 100%|██████████| 100000/100000 [00:00<00:00, 174132.96it/s]\n",
      "Decoding geohashes: 100%|██████████| 100000/100000 [00:00<00:00, 179976.97it/s]\n"
     ]
    },
    {
     "name": "stdout",
     "output_type": "stream",
     "text": [
      "Processing batch 325/663\n"
     ]
    },
    {
     "name": "stderr",
     "output_type": "stream",
     "text": [
      "Decoding geohashes: 100%|██████████| 100000/100000 [00:00<00:00, 178375.59it/s]\n",
      "Decoding geohashes: 100%|██████████| 100000/100000 [00:00<00:00, 180927.70it/s]\n"
     ]
    },
    {
     "name": "stdout",
     "output_type": "stream",
     "text": [
      "Processing batch 326/663\n"
     ]
    },
    {
     "name": "stderr",
     "output_type": "stream",
     "text": [
      "Decoding geohashes: 100%|██████████| 100000/100000 [00:00<00:00, 176502.02it/s]\n",
      "Decoding geohashes: 100%|██████████| 100000/100000 [00:00<00:00, 180039.09it/s]\n"
     ]
    },
    {
     "name": "stdout",
     "output_type": "stream",
     "text": [
      "Processing batch 327/663\n"
     ]
    },
    {
     "name": "stderr",
     "output_type": "stream",
     "text": [
      "Decoding geohashes: 100%|██████████| 100000/100000 [00:00<00:00, 177028.26it/s]\n",
      "Decoding geohashes: 100%|██████████| 100000/100000 [00:00<00:00, 175991.31it/s]\n"
     ]
    },
    {
     "name": "stdout",
     "output_type": "stream",
     "text": [
      "Processing batch 328/663\n"
     ]
    },
    {
     "name": "stderr",
     "output_type": "stream",
     "text": [
      "Decoding geohashes: 100%|██████████| 100000/100000 [00:00<00:00, 178317.65it/s]\n",
      "Decoding geohashes: 100%|██████████| 100000/100000 [00:00<00:00, 178096.33it/s]\n"
     ]
    },
    {
     "name": "stdout",
     "output_type": "stream",
     "text": [
      "Processing batch 329/663\n"
     ]
    },
    {
     "name": "stderr",
     "output_type": "stream",
     "text": [
      "Decoding geohashes: 100%|██████████| 100000/100000 [00:00<00:00, 177192.72it/s]\n",
      "Decoding geohashes: 100%|██████████| 100000/100000 [00:00<00:00, 176734.43it/s]\n"
     ]
    },
    {
     "name": "stdout",
     "output_type": "stream",
     "text": [
      "Processing batch 330/663\n"
     ]
    },
    {
     "name": "stderr",
     "output_type": "stream",
     "text": [
      "Decoding geohashes: 100%|██████████| 100000/100000 [00:00<00:00, 176451.45it/s]\n",
      "Decoding geohashes: 100%|██████████| 100000/100000 [00:00<00:00, 171288.93it/s]\n"
     ]
    },
    {
     "name": "stdout",
     "output_type": "stream",
     "text": [
      "Processing batch 331/663\n"
     ]
    },
    {
     "name": "stderr",
     "output_type": "stream",
     "text": [
      "Decoding geohashes: 100%|██████████| 100000/100000 [00:00<00:00, 163395.96it/s]\n",
      "Decoding geohashes: 100%|██████████| 100000/100000 [00:00<00:00, 171558.53it/s]\n"
     ]
    },
    {
     "name": "stdout",
     "output_type": "stream",
     "text": [
      "Processing batch 332/663\n"
     ]
    },
    {
     "name": "stderr",
     "output_type": "stream",
     "text": [
      "Decoding geohashes: 100%|██████████| 100000/100000 [00:00<00:00, 174739.22it/s]\n",
      "Decoding geohashes: 100%|██████████| 100000/100000 [00:00<00:00, 175263.70it/s]\n"
     ]
    },
    {
     "name": "stdout",
     "output_type": "stream",
     "text": [
      "Processing batch 333/663\n"
     ]
    },
    {
     "name": "stderr",
     "output_type": "stream",
     "text": [
      "Decoding geohashes: 100%|██████████| 100000/100000 [00:00<00:00, 178251.95it/s]\n",
      "Decoding geohashes: 100%|██████████| 100000/100000 [00:00<00:00, 181648.90it/s]\n"
     ]
    },
    {
     "name": "stdout",
     "output_type": "stream",
     "text": [
      "Processing batch 334/663\n"
     ]
    },
    {
     "name": "stderr",
     "output_type": "stream",
     "text": [
      "Decoding geohashes: 100%|██████████| 100000/100000 [00:00<00:00, 178681.52it/s]\n",
      "Decoding geohashes: 100%|██████████| 100000/100000 [00:00<00:00, 182118.90it/s]\n"
     ]
    },
    {
     "name": "stdout",
     "output_type": "stream",
     "text": [
      "Processing batch 335/663\n"
     ]
    },
    {
     "name": "stderr",
     "output_type": "stream",
     "text": [
      "Decoding geohashes: 100%|██████████| 100000/100000 [00:00<00:00, 173396.52it/s]\n",
      "Decoding geohashes: 100%|██████████| 100000/100000 [00:00<00:00, 145092.52it/s]\n"
     ]
    },
    {
     "name": "stdout",
     "output_type": "stream",
     "text": [
      "Processing batch 336/663\n"
     ]
    },
    {
     "name": "stderr",
     "output_type": "stream",
     "text": [
      "Decoding geohashes: 100%|██████████| 100000/100000 [00:00<00:00, 169845.57it/s]\n",
      "Decoding geohashes: 100%|██████████| 100000/100000 [00:00<00:00, 168484.65it/s]\n"
     ]
    },
    {
     "name": "stdout",
     "output_type": "stream",
     "text": [
      "Processing batch 337/663\n"
     ]
    },
    {
     "name": "stderr",
     "output_type": "stream",
     "text": [
      "Decoding geohashes: 100%|██████████| 100000/100000 [00:00<00:00, 171777.46it/s]\n",
      "Decoding geohashes: 100%|██████████| 100000/100000 [00:00<00:00, 176116.78it/s]\n"
     ]
    },
    {
     "name": "stdout",
     "output_type": "stream",
     "text": [
      "Processing batch 338/663\n"
     ]
    },
    {
     "name": "stderr",
     "output_type": "stream",
     "text": [
      "Decoding geohashes: 100%|██████████| 100000/100000 [00:00<00:00, 134813.71it/s]\n",
      "Decoding geohashes: 100%|██████████| 100000/100000 [00:00<00:00, 149541.28it/s]\n"
     ]
    },
    {
     "name": "stdout",
     "output_type": "stream",
     "text": [
      "Processing batch 339/663\n"
     ]
    },
    {
     "name": "stderr",
     "output_type": "stream",
     "text": [
      "Decoding geohashes: 100%|██████████| 100000/100000 [00:00<00:00, 172786.28it/s]\n",
      "Decoding geohashes: 100%|██████████| 100000/100000 [00:00<00:00, 163441.99it/s]\n"
     ]
    },
    {
     "name": "stdout",
     "output_type": "stream",
     "text": [
      "Processing batch 340/663\n"
     ]
    },
    {
     "name": "stderr",
     "output_type": "stream",
     "text": [
      "Decoding geohashes: 100%|██████████| 100000/100000 [00:00<00:00, 151950.08it/s]\n",
      "Decoding geohashes: 100%|██████████| 100000/100000 [00:00<00:00, 178008.50it/s]\n"
     ]
    },
    {
     "name": "stdout",
     "output_type": "stream",
     "text": [
      "Processing batch 341/663\n"
     ]
    },
    {
     "name": "stderr",
     "output_type": "stream",
     "text": [
      "Decoding geohashes: 100%|██████████| 100000/100000 [00:00<00:00, 176300.82it/s]\n",
      "Decoding geohashes: 100%|██████████| 100000/100000 [00:00<00:00, 178518.93it/s]\n"
     ]
    },
    {
     "name": "stdout",
     "output_type": "stream",
     "text": [
      "Processing batch 342/663\n"
     ]
    },
    {
     "name": "stderr",
     "output_type": "stream",
     "text": [
      "Decoding geohashes: 100%|██████████| 100000/100000 [00:00<00:00, 180232.81it/s]\n",
      "Decoding geohashes: 100%|██████████| 100000/100000 [00:00<00:00, 170765.33it/s]\n"
     ]
    },
    {
     "name": "stdout",
     "output_type": "stream",
     "text": [
      "Processing batch 343/663\n"
     ]
    },
    {
     "name": "stderr",
     "output_type": "stream",
     "text": [
      "Decoding geohashes: 100%|██████████| 100000/100000 [00:00<00:00, 148595.18it/s]\n",
      "Decoding geohashes: 100%|██████████| 100000/100000 [00:00<00:00, 180573.99it/s]\n"
     ]
    },
    {
     "name": "stdout",
     "output_type": "stream",
     "text": [
      "Processing batch 344/663\n"
     ]
    },
    {
     "name": "stderr",
     "output_type": "stream",
     "text": [
      "Decoding geohashes: 100%|██████████| 100000/100000 [00:00<00:00, 177733.48it/s]\n",
      "Decoding geohashes: 100%|██████████| 100000/100000 [00:00<00:00, 179871.62it/s]\n"
     ]
    },
    {
     "name": "stdout",
     "output_type": "stream",
     "text": [
      "Processing batch 345/663\n"
     ]
    },
    {
     "name": "stderr",
     "output_type": "stream",
     "text": [
      "Decoding geohashes: 100%|██████████| 100000/100000 [00:00<00:00, 178162.68it/s]\n",
      "Decoding geohashes: 100%|██████████| 100000/100000 [00:00<00:00, 177057.33it/s]\n"
     ]
    },
    {
     "name": "stdout",
     "output_type": "stream",
     "text": [
      "Processing batch 346/663\n"
     ]
    },
    {
     "name": "stderr",
     "output_type": "stream",
     "text": [
      "Decoding geohashes: 100%|██████████| 100000/100000 [00:00<00:00, 180502.65it/s]\n",
      "Decoding geohashes: 100%|██████████| 100000/100000 [00:00<00:00, 176606.66it/s]\n"
     ]
    },
    {
     "name": "stdout",
     "output_type": "stream",
     "text": [
      "Processing batch 347/663\n"
     ]
    },
    {
     "name": "stderr",
     "output_type": "stream",
     "text": [
      "Decoding geohashes: 100%|██████████| 100000/100000 [00:00<00:00, 183401.97it/s]\n",
      "Decoding geohashes: 100%|██████████| 100000/100000 [00:00<00:00, 179136.05it/s]\n"
     ]
    },
    {
     "name": "stdout",
     "output_type": "stream",
     "text": [
      "Processing batch 348/663\n"
     ]
    },
    {
     "name": "stderr",
     "output_type": "stream",
     "text": [
      "Decoding geohashes: 100%|██████████| 100000/100000 [00:00<00:00, 181044.46it/s]\n",
      "Decoding geohashes: 100%|██████████| 100000/100000 [00:00<00:00, 177935.10it/s]\n"
     ]
    },
    {
     "name": "stdout",
     "output_type": "stream",
     "text": [
      "Processing batch 349/663\n"
     ]
    },
    {
     "name": "stderr",
     "output_type": "stream",
     "text": [
      "Decoding geohashes: 100%|██████████| 100000/100000 [00:00<00:00, 172069.99it/s]\n",
      "Decoding geohashes: 100%|██████████| 100000/100000 [00:00<00:00, 175240.93it/s]\n"
     ]
    },
    {
     "name": "stdout",
     "output_type": "stream",
     "text": [
      "Processing batch 350/663\n"
     ]
    },
    {
     "name": "stderr",
     "output_type": "stream",
     "text": [
      "Decoding geohashes: 100%|██████████| 100000/100000 [00:00<00:00, 161253.95it/s]\n",
      "Decoding geohashes: 100%|██████████| 100000/100000 [00:00<00:00, 167324.53it/s]\n"
     ]
    },
    {
     "name": "stdout",
     "output_type": "stream",
     "text": [
      "Processing batch 351/663\n"
     ]
    },
    {
     "name": "stderr",
     "output_type": "stream",
     "text": [
      "Decoding geohashes: 100%|██████████| 100000/100000 [00:00<00:00, 175100.76it/s]\n",
      "Decoding geohashes: 100%|██████████| 100000/100000 [00:00<00:00, 172876.58it/s]\n"
     ]
    },
    {
     "name": "stdout",
     "output_type": "stream",
     "text": [
      "Processing batch 352/663\n"
     ]
    },
    {
     "name": "stderr",
     "output_type": "stream",
     "text": [
      "Decoding geohashes: 100%|██████████| 100000/100000 [00:00<00:00, 165274.34it/s]\n",
      "Decoding geohashes: 100%|██████████| 100000/100000 [00:00<00:00, 177826.85it/s]\n"
     ]
    },
    {
     "name": "stdout",
     "output_type": "stream",
     "text": [
      "Processing batch 353/663\n"
     ]
    },
    {
     "name": "stderr",
     "output_type": "stream",
     "text": [
      "Decoding geohashes: 100%|██████████| 100000/100000 [00:00<00:00, 175004.61it/s]\n",
      "Decoding geohashes: 100%|██████████| 100000/100000 [00:00<00:00, 178940.33it/s]\n"
     ]
    },
    {
     "name": "stdout",
     "output_type": "stream",
     "text": [
      "Processing batch 354/663\n"
     ]
    },
    {
     "name": "stderr",
     "output_type": "stream",
     "text": [
      "Decoding geohashes: 100%|██████████| 100000/100000 [00:00<00:00, 179739.12it/s]\n",
      "Decoding geohashes: 100%|██████████| 100000/100000 [00:00<00:00, 177347.58it/s]\n"
     ]
    },
    {
     "name": "stdout",
     "output_type": "stream",
     "text": [
      "Processing batch 355/663\n"
     ]
    },
    {
     "name": "stderr",
     "output_type": "stream",
     "text": [
      "Decoding geohashes: 100%|██████████| 100000/100000 [00:00<00:00, 178385.60it/s]\n",
      "Decoding geohashes: 100%|██████████| 100000/100000 [00:00<00:00, 179554.84it/s]\n"
     ]
    },
    {
     "name": "stdout",
     "output_type": "stream",
     "text": [
      "Processing batch 356/663\n"
     ]
    },
    {
     "name": "stderr",
     "output_type": "stream",
     "text": [
      "Decoding geohashes: 100%|██████████| 100000/100000 [00:00<00:00, 173273.24it/s]\n",
      "Decoding geohashes: 100%|██████████| 100000/100000 [00:00<00:00, 178076.98it/s]\n"
     ]
    },
    {
     "name": "stdout",
     "output_type": "stream",
     "text": [
      "Processing batch 357/663\n"
     ]
    },
    {
     "name": "stderr",
     "output_type": "stream",
     "text": [
      "Decoding geohashes: 100%|██████████| 100000/100000 [00:00<00:00, 177007.64it/s]\n",
      "Decoding geohashes: 100%|██████████| 100000/100000 [00:00<00:00, 178468.64it/s]\n"
     ]
    },
    {
     "name": "stdout",
     "output_type": "stream",
     "text": [
      "Processing batch 358/663\n"
     ]
    },
    {
     "name": "stderr",
     "output_type": "stream",
     "text": [
      "Decoding geohashes: 100%|██████████| 100000/100000 [00:00<00:00, 179613.50it/s]\n",
      "Decoding geohashes: 100%|██████████| 100000/100000 [00:00<00:00, 164807.28it/s]\n"
     ]
    },
    {
     "name": "stdout",
     "output_type": "stream",
     "text": [
      "Processing batch 359/663\n"
     ]
    },
    {
     "name": "stderr",
     "output_type": "stream",
     "text": [
      "Decoding geohashes: 100%|██████████| 100000/100000 [00:00<00:00, 179502.58it/s]\n",
      "Decoding geohashes: 100%|██████████| 100000/100000 [00:00<00:00, 175253.74it/s]\n"
     ]
    },
    {
     "name": "stdout",
     "output_type": "stream",
     "text": [
      "Processing batch 360/663\n"
     ]
    },
    {
     "name": "stderr",
     "output_type": "stream",
     "text": [
      "Decoding geohashes: 100%|██████████| 100000/100000 [00:00<00:00, 177946.20it/s]\n",
      "Decoding geohashes: 100%|██████████| 100000/100000 [00:00<00:00, 174515.58it/s]\n"
     ]
    },
    {
     "name": "stdout",
     "output_type": "stream",
     "text": [
      "Processing batch 361/663\n"
     ]
    },
    {
     "name": "stderr",
     "output_type": "stream",
     "text": [
      "Decoding geohashes: 100%|██████████| 100000/100000 [00:00<00:00, 157698.74it/s]\n",
      "Decoding geohashes: 100%|██████████| 100000/100000 [00:00<00:00, 174731.29it/s]\n"
     ]
    },
    {
     "name": "stdout",
     "output_type": "stream",
     "text": [
      "Processing batch 362/663\n"
     ]
    },
    {
     "name": "stderr",
     "output_type": "stream",
     "text": [
      "Decoding geohashes: 100%|██████████| 100000/100000 [00:00<00:00, 177143.33it/s]\n",
      "Decoding geohashes: 100%|██████████| 100000/100000 [00:00<00:00, 172489.68it/s]\n"
     ]
    },
    {
     "name": "stdout",
     "output_type": "stream",
     "text": [
      "Processing batch 363/663\n"
     ]
    },
    {
     "name": "stderr",
     "output_type": "stream",
     "text": [
      "Decoding geohashes: 100%|██████████| 100000/100000 [00:00<00:00, 146546.79it/s]\n",
      "Decoding geohashes: 100%|██████████| 100000/100000 [00:00<00:00, 167789.74it/s]\n"
     ]
    },
    {
     "name": "stdout",
     "output_type": "stream",
     "text": [
      "Processing batch 364/663\n"
     ]
    },
    {
     "name": "stderr",
     "output_type": "stream",
     "text": [
      "Decoding geohashes: 100%|██████████| 100000/100000 [00:00<00:00, 173687.83it/s]\n",
      "Decoding geohashes: 100%|██████████| 100000/100000 [00:00<00:00, 169840.55it/s]\n"
     ]
    },
    {
     "name": "stdout",
     "output_type": "stream",
     "text": [
      "Processing batch 365/663\n"
     ]
    },
    {
     "name": "stderr",
     "output_type": "stream",
     "text": [
      "Decoding geohashes: 100%|██████████| 100000/100000 [00:00<00:00, 181461.78it/s]\n",
      "Decoding geohashes: 100%|██████████| 100000/100000 [00:00<00:00, 175719.68it/s]\n"
     ]
    },
    {
     "name": "stdout",
     "output_type": "stream",
     "text": [
      "Processing batch 366/663\n"
     ]
    },
    {
     "name": "stderr",
     "output_type": "stream",
     "text": [
      "Decoding geohashes: 100%|██████████| 100000/100000 [00:00<00:00, 168319.13it/s]\n",
      "Decoding geohashes: 100%|██████████| 100000/100000 [00:00<00:00, 181989.55it/s]\n"
     ]
    },
    {
     "name": "stdout",
     "output_type": "stream",
     "text": [
      "Processing batch 367/663\n"
     ]
    },
    {
     "name": "stderr",
     "output_type": "stream",
     "text": [
      "Decoding geohashes: 100%|██████████| 100000/100000 [00:00<00:00, 179569.98it/s]\n",
      "Decoding geohashes: 100%|██████████| 100000/100000 [00:00<00:00, 152389.59it/s]\n"
     ]
    },
    {
     "name": "stdout",
     "output_type": "stream",
     "text": [
      "Processing batch 368/663\n"
     ]
    },
    {
     "name": "stderr",
     "output_type": "stream",
     "text": [
      "Decoding geohashes: 100%|██████████| 100000/100000 [00:00<00:00, 178278.39it/s]\n",
      "Decoding geohashes: 100%|██████████| 100000/100000 [00:00<00:00, 181355.00it/s]\n"
     ]
    },
    {
     "name": "stdout",
     "output_type": "stream",
     "text": [
      "Processing batch 369/663\n"
     ]
    },
    {
     "name": "stderr",
     "output_type": "stream",
     "text": [
      "Decoding geohashes: 100%|██████████| 100000/100000 [00:00<00:00, 175486.55it/s]\n",
      "Decoding geohashes: 100%|██████████| 100000/100000 [00:00<00:00, 179942.15it/s]\n"
     ]
    },
    {
     "name": "stdout",
     "output_type": "stream",
     "text": [
      "Processing batch 370/663\n"
     ]
    },
    {
     "name": "stderr",
     "output_type": "stream",
     "text": [
      "Decoding geohashes: 100%|██████████| 100000/100000 [00:00<00:00, 178297.72it/s]\n",
      "Decoding geohashes: 100%|██████████| 100000/100000 [00:00<00:00, 178907.20it/s]\n"
     ]
    },
    {
     "name": "stdout",
     "output_type": "stream",
     "text": [
      "Processing batch 371/663\n"
     ]
    },
    {
     "name": "stderr",
     "output_type": "stream",
     "text": [
      "Decoding geohashes: 100%|██████████| 100000/100000 [00:00<00:00, 178585.66it/s]\n",
      "Decoding geohashes: 100%|██████████| 100000/100000 [00:00<00:00, 175136.07it/s]\n"
     ]
    },
    {
     "name": "stdout",
     "output_type": "stream",
     "text": [
      "Processing batch 372/663\n"
     ]
    },
    {
     "name": "stderr",
     "output_type": "stream",
     "text": [
      "Decoding geohashes: 100%|██████████| 100000/100000 [00:00<00:00, 175850.60it/s]\n",
      "Decoding geohashes: 100%|██████████| 100000/100000 [00:00<00:00, 169320.22it/s]\n"
     ]
    },
    {
     "name": "stdout",
     "output_type": "stream",
     "text": [
      "Processing batch 373/663\n"
     ]
    },
    {
     "name": "stderr",
     "output_type": "stream",
     "text": [
      "Decoding geohashes: 100%|██████████| 100000/100000 [00:00<00:00, 180036.15it/s]\n",
      "Decoding geohashes: 100%|██████████| 100000/100000 [00:00<00:00, 180148.20it/s]\n"
     ]
    },
    {
     "name": "stdout",
     "output_type": "stream",
     "text": [
      "Processing batch 374/663\n"
     ]
    },
    {
     "name": "stderr",
     "output_type": "stream",
     "text": [
      "Decoding geohashes: 100%|██████████| 100000/100000 [00:00<00:00, 166540.63it/s]\n",
      "Decoding geohashes: 100%|██████████| 100000/100000 [00:00<00:00, 154198.10it/s]\n"
     ]
    },
    {
     "name": "stdout",
     "output_type": "stream",
     "text": [
      "Processing batch 375/663\n"
     ]
    },
    {
     "name": "stderr",
     "output_type": "stream",
     "text": [
      "Decoding geohashes: 100%|██████████| 100000/100000 [00:00<00:00, 173142.84it/s]\n",
      "Decoding geohashes: 100%|██████████| 100000/100000 [00:00<00:00, 176274.14it/s]\n"
     ]
    },
    {
     "name": "stdout",
     "output_type": "stream",
     "text": [
      "Processing batch 376/663\n"
     ]
    },
    {
     "name": "stderr",
     "output_type": "stream",
     "text": [
      "Decoding geohashes: 100%|██████████| 100000/100000 [00:00<00:00, 180859.91it/s]\n",
      "Decoding geohashes: 100%|██████████| 100000/100000 [00:00<00:00, 135328.29it/s]\n"
     ]
    },
    {
     "name": "stdout",
     "output_type": "stream",
     "text": [
      "Processing batch 377/663\n"
     ]
    },
    {
     "name": "stderr",
     "output_type": "stream",
     "text": [
      "Decoding geohashes: 100%|██████████| 100000/100000 [00:00<00:00, 150721.19it/s]\n",
      "Decoding geohashes: 100%|██████████| 100000/100000 [00:00<00:00, 169049.70it/s]\n"
     ]
    },
    {
     "name": "stdout",
     "output_type": "stream",
     "text": [
      "Processing batch 378/663\n"
     ]
    },
    {
     "name": "stderr",
     "output_type": "stream",
     "text": [
      "Decoding geohashes: 100%|██████████| 100000/100000 [00:00<00:00, 160722.67it/s]\n",
      "Decoding geohashes: 100%|██████████| 100000/100000 [00:00<00:00, 154891.22it/s]\n"
     ]
    },
    {
     "name": "stdout",
     "output_type": "stream",
     "text": [
      "Processing batch 379/663\n"
     ]
    },
    {
     "name": "stderr",
     "output_type": "stream",
     "text": [
      "Decoding geohashes: 100%|██████████| 100000/100000 [00:00<00:00, 162275.81it/s]\n",
      "Decoding geohashes: 100%|██████████| 100000/100000 [00:00<00:00, 179540.31it/s]\n"
     ]
    },
    {
     "name": "stdout",
     "output_type": "stream",
     "text": [
      "Processing batch 380/663\n"
     ]
    },
    {
     "name": "stderr",
     "output_type": "stream",
     "text": [
      "Decoding geohashes: 100%|██████████| 100000/100000 [00:00<00:00, 179299.62it/s]\n",
      "Decoding geohashes: 100%|██████████| 100000/100000 [00:00<00:00, 180848.91it/s]\n"
     ]
    },
    {
     "name": "stdout",
     "output_type": "stream",
     "text": [
      "Processing batch 381/663\n"
     ]
    },
    {
     "name": "stderr",
     "output_type": "stream",
     "text": [
      "Decoding geohashes: 100%|██████████| 100000/100000 [00:00<00:00, 181201.12it/s]\n",
      "Decoding geohashes: 100%|██████████| 100000/100000 [00:00<00:00, 177255.47it/s]\n"
     ]
    },
    {
     "name": "stdout",
     "output_type": "stream",
     "text": [
      "Processing batch 382/663\n"
     ]
    },
    {
     "name": "stderr",
     "output_type": "stream",
     "text": [
      "Decoding geohashes: 100%|██████████| 100000/100000 [00:00<00:00, 171245.85it/s]\n",
      "Decoding geohashes: 100%|██████████| 100000/100000 [00:00<00:00, 174436.11it/s]\n"
     ]
    },
    {
     "name": "stdout",
     "output_type": "stream",
     "text": [
      "Processing batch 383/663\n"
     ]
    },
    {
     "name": "stderr",
     "output_type": "stream",
     "text": [
      "Decoding geohashes: 100%|██████████| 100000/100000 [00:00<00:00, 153521.33it/s]\n",
      "Decoding geohashes: 100%|██████████| 100000/100000 [00:00<00:00, 181542.76it/s]\n"
     ]
    },
    {
     "name": "stdout",
     "output_type": "stream",
     "text": [
      "Processing batch 384/663\n"
     ]
    },
    {
     "name": "stderr",
     "output_type": "stream",
     "text": [
      "Decoding geohashes: 100%|██████████| 100000/100000 [00:00<00:00, 135629.88it/s]\n",
      "Decoding geohashes: 100%|██████████| 100000/100000 [00:00<00:00, 165094.85it/s]\n"
     ]
    },
    {
     "name": "stdout",
     "output_type": "stream",
     "text": [
      "Processing batch 385/663\n"
     ]
    },
    {
     "name": "stderr",
     "output_type": "stream",
     "text": [
      "Decoding geohashes: 100%|██████████| 100000/100000 [00:00<00:00, 181259.93it/s]\n",
      "Decoding geohashes: 100%|██████████| 100000/100000 [00:00<00:00, 180121.89it/s]\n"
     ]
    },
    {
     "name": "stdout",
     "output_type": "stream",
     "text": [
      "Processing batch 386/663\n"
     ]
    },
    {
     "name": "stderr",
     "output_type": "stream",
     "text": [
      "Decoding geohashes: 100%|██████████| 100000/100000 [00:00<00:00, 176695.05it/s]\n",
      "Decoding geohashes: 100%|██████████| 100000/100000 [00:00<00:00, 172385.33it/s]\n"
     ]
    },
    {
     "name": "stdout",
     "output_type": "stream",
     "text": [
      "Processing batch 387/663\n"
     ]
    },
    {
     "name": "stderr",
     "output_type": "stream",
     "text": [
      "Decoding geohashes: 100%|██████████| 100000/100000 [00:00<00:00, 176967.53it/s]\n",
      "Decoding geohashes: 100%|██████████| 100000/100000 [00:00<00:00, 180924.03it/s]\n"
     ]
    },
    {
     "name": "stdout",
     "output_type": "stream",
     "text": [
      "Processing batch 388/663\n"
     ]
    },
    {
     "name": "stderr",
     "output_type": "stream",
     "text": [
      "Decoding geohashes: 100%|██████████| 100000/100000 [00:00<00:00, 180610.38it/s]\n",
      "Decoding geohashes: 100%|██████████| 100000/100000 [00:00<00:00, 181449.46it/s]\n"
     ]
    },
    {
     "name": "stdout",
     "output_type": "stream",
     "text": [
      "Processing batch 389/663\n"
     ]
    },
    {
     "name": "stderr",
     "output_type": "stream",
     "text": [
      "Decoding geohashes: 100%|██████████| 100000/100000 [00:00<00:00, 179759.30it/s]\n",
      "Decoding geohashes: 100%|██████████| 100000/100000 [00:00<00:00, 136754.36it/s]\n"
     ]
    },
    {
     "name": "stdout",
     "output_type": "stream",
     "text": [
      "Processing batch 390/663\n"
     ]
    },
    {
     "name": "stderr",
     "output_type": "stream",
     "text": [
      "Decoding geohashes: 100%|██████████| 100000/100000 [00:00<00:00, 157015.88it/s]\n",
      "Decoding geohashes: 100%|██████████| 100000/100000 [00:00<00:00, 164305.45it/s]\n"
     ]
    },
    {
     "name": "stdout",
     "output_type": "stream",
     "text": [
      "Processing batch 391/663\n"
     ]
    },
    {
     "name": "stderr",
     "output_type": "stream",
     "text": [
      "Decoding geohashes: 100%|██████████| 100000/100000 [00:00<00:00, 167398.06it/s]\n",
      "Decoding geohashes: 100%|██████████| 100000/100000 [00:00<00:00, 180283.63it/s]\n"
     ]
    },
    {
     "name": "stdout",
     "output_type": "stream",
     "text": [
      "Processing batch 392/663\n"
     ]
    },
    {
     "name": "stderr",
     "output_type": "stream",
     "text": [
      "Decoding geohashes: 100%|██████████| 100000/100000 [00:00<00:00, 176606.74it/s]\n",
      "Decoding geohashes: 100%|██████████| 100000/100000 [00:00<00:00, 158096.94it/s]\n"
     ]
    },
    {
     "name": "stdout",
     "output_type": "stream",
     "text": [
      "Processing batch 393/663\n"
     ]
    },
    {
     "name": "stderr",
     "output_type": "stream",
     "text": [
      "Decoding geohashes: 100%|██████████| 100000/100000 [00:00<00:00, 176066.73it/s]\n",
      "Decoding geohashes: 100%|██████████| 100000/100000 [00:00<00:00, 170029.54it/s]\n"
     ]
    },
    {
     "name": "stdout",
     "output_type": "stream",
     "text": [
      "Processing batch 394/663\n"
     ]
    },
    {
     "name": "stderr",
     "output_type": "stream",
     "text": [
      "Decoding geohashes: 100%|██████████| 100000/100000 [00:00<00:00, 179513.80it/s]\n",
      "Decoding geohashes: 100%|██████████| 100000/100000 [00:00<00:00, 178178.35it/s]\n"
     ]
    },
    {
     "name": "stdout",
     "output_type": "stream",
     "text": [
      "Processing batch 395/663\n"
     ]
    },
    {
     "name": "stderr",
     "output_type": "stream",
     "text": [
      "Decoding geohashes: 100%|██████████| 100000/100000 [00:00<00:00, 177852.63it/s]\n",
      "Decoding geohashes: 100%|██████████| 100000/100000 [00:00<00:00, 176032.45it/s]\n"
     ]
    },
    {
     "name": "stdout",
     "output_type": "stream",
     "text": [
      "Processing batch 396/663\n"
     ]
    },
    {
     "name": "stderr",
     "output_type": "stream",
     "text": [
      "Decoding geohashes: 100%|██████████| 100000/100000 [00:00<00:00, 178739.47it/s]\n",
      "Decoding geohashes: 100%|██████████| 100000/100000 [00:00<00:00, 175305.97it/s]\n"
     ]
    },
    {
     "name": "stdout",
     "output_type": "stream",
     "text": [
      "Processing batch 397/663\n"
     ]
    },
    {
     "name": "stderr",
     "output_type": "stream",
     "text": [
      "Decoding geohashes: 100%|██████████| 100000/100000 [00:00<00:00, 162674.78it/s]\n",
      "Decoding geohashes: 100%|██████████| 100000/100000 [00:00<00:00, 180675.81it/s]\n"
     ]
    },
    {
     "name": "stdout",
     "output_type": "stream",
     "text": [
      "Processing batch 398/663\n"
     ]
    },
    {
     "name": "stderr",
     "output_type": "stream",
     "text": [
      "Decoding geohashes: 100%|██████████| 100000/100000 [00:00<00:00, 179080.52it/s]\n",
      "Decoding geohashes: 100%|██████████| 100000/100000 [00:00<00:00, 155549.05it/s]\n"
     ]
    },
    {
     "name": "stdout",
     "output_type": "stream",
     "text": [
      "Processing batch 399/663\n"
     ]
    },
    {
     "name": "stderr",
     "output_type": "stream",
     "text": [
      "Decoding geohashes: 100%|██████████| 100000/100000 [00:00<00:00, 178552.97it/s]\n",
      "Decoding geohashes: 100%|██████████| 100000/100000 [00:00<00:00, 177584.63it/s]\n"
     ]
    },
    {
     "name": "stdout",
     "output_type": "stream",
     "text": [
      "Processing batch 400/663\n"
     ]
    },
    {
     "name": "stderr",
     "output_type": "stream",
     "text": [
      "Decoding geohashes: 100%|██████████| 100000/100000 [00:00<00:00, 180408.16it/s]\n",
      "Decoding geohashes: 100%|██████████| 100000/100000 [00:00<00:00, 181596.29it/s]\n"
     ]
    },
    {
     "name": "stdout",
     "output_type": "stream",
     "text": [
      "Processing batch 401/663\n"
     ]
    },
    {
     "name": "stderr",
     "output_type": "stream",
     "text": [
      "Decoding geohashes: 100%|██████████| 100000/100000 [00:00<00:00, 178965.14it/s]\n",
      "Decoding geohashes: 100%|██████████| 100000/100000 [00:00<00:00, 178976.67it/s]\n"
     ]
    },
    {
     "name": "stdout",
     "output_type": "stream",
     "text": [
      "Processing batch 402/663\n"
     ]
    },
    {
     "name": "stderr",
     "output_type": "stream",
     "text": [
      "Decoding geohashes: 100%|██████████| 100000/100000 [00:00<00:00, 168447.23it/s]\n",
      "Decoding geohashes: 100%|██████████| 100000/100000 [00:00<00:00, 167405.34it/s]\n"
     ]
    },
    {
     "name": "stdout",
     "output_type": "stream",
     "text": [
      "Processing batch 403/663\n"
     ]
    },
    {
     "name": "stderr",
     "output_type": "stream",
     "text": [
      "Decoding geohashes: 100%|██████████| 100000/100000 [00:00<00:00, 169820.12it/s]\n",
      "Decoding geohashes: 100%|██████████| 100000/100000 [00:00<00:00, 166700.87it/s]\n"
     ]
    },
    {
     "name": "stdout",
     "output_type": "stream",
     "text": [
      "Processing batch 404/663\n"
     ]
    },
    {
     "name": "stderr",
     "output_type": "stream",
     "text": [
      "Decoding geohashes: 100%|██████████| 100000/100000 [00:00<00:00, 161385.12it/s]\n",
      "Decoding geohashes: 100%|██████████| 100000/100000 [00:00<00:00, 164222.01it/s]\n"
     ]
    },
    {
     "name": "stdout",
     "output_type": "stream",
     "text": [
      "Processing batch 405/663\n"
     ]
    },
    {
     "name": "stderr",
     "output_type": "stream",
     "text": [
      "Decoding geohashes: 100%|██████████| 100000/100000 [00:00<00:00, 149253.29it/s]\n",
      "Decoding geohashes: 100%|██████████| 100000/100000 [00:00<00:00, 174515.58it/s]\n"
     ]
    },
    {
     "name": "stdout",
     "output_type": "stream",
     "text": [
      "Processing batch 406/663\n"
     ]
    },
    {
     "name": "stderr",
     "output_type": "stream",
     "text": [
      "Decoding geohashes: 100%|██████████| 100000/100000 [00:00<00:00, 155609.94it/s]\n",
      "Decoding geohashes: 100%|██████████| 100000/100000 [00:00<00:00, 180059.03it/s]\n"
     ]
    },
    {
     "name": "stdout",
     "output_type": "stream",
     "text": [
      "Processing batch 407/663\n"
     ]
    },
    {
     "name": "stderr",
     "output_type": "stream",
     "text": [
      "Decoding geohashes: 100%|██████████| 100000/100000 [00:00<00:00, 177972.78it/s]\n",
      "Decoding geohashes: 100%|██████████| 100000/100000 [00:00<00:00, 177148.64it/s]\n"
     ]
    },
    {
     "name": "stdout",
     "output_type": "stream",
     "text": [
      "Processing batch 408/663\n"
     ]
    },
    {
     "name": "stderr",
     "output_type": "stream",
     "text": [
      "Decoding geohashes: 100%|██████████| 100000/100000 [00:00<00:00, 178321.22it/s]\n",
      "Decoding geohashes: 100%|██████████| 100000/100000 [00:00<00:00, 176465.78it/s]\n"
     ]
    },
    {
     "name": "stdout",
     "output_type": "stream",
     "text": [
      "Processing batch 409/663\n"
     ]
    },
    {
     "name": "stderr",
     "output_type": "stream",
     "text": [
      "Decoding geohashes: 100%|██████████| 100000/100000 [00:00<00:00, 180247.76it/s]\n",
      "Decoding geohashes: 100%|██████████| 100000/100000 [00:00<00:00, 178192.73it/s]\n"
     ]
    },
    {
     "name": "stdout",
     "output_type": "stream",
     "text": [
      "Processing batch 410/663\n"
     ]
    },
    {
     "name": "stderr",
     "output_type": "stream",
     "text": [
      "Decoding geohashes: 100%|██████████| 100000/100000 [00:00<00:00, 183311.47it/s]\n",
      "Decoding geohashes: 100%|██████████| 100000/100000 [00:00<00:00, 181509.68it/s]\n"
     ]
    },
    {
     "name": "stdout",
     "output_type": "stream",
     "text": [
      "Processing batch 411/663\n"
     ]
    },
    {
     "name": "stderr",
     "output_type": "stream",
     "text": [
      "Decoding geohashes: 100%|██████████| 100000/100000 [00:00<00:00, 182506.65it/s]\n",
      "Decoding geohashes: 100%|██████████| 100000/100000 [00:00<00:00, 180987.19it/s]\n"
     ]
    },
    {
     "name": "stdout",
     "output_type": "stream",
     "text": [
      "Processing batch 412/663\n"
     ]
    },
    {
     "name": "stderr",
     "output_type": "stream",
     "text": [
      "Decoding geohashes: 100%|██████████| 100000/100000 [00:00<00:00, 177487.39it/s]\n",
      "Decoding geohashes: 100%|██████████| 100000/100000 [00:00<00:00, 177835.14it/s]\n"
     ]
    },
    {
     "name": "stdout",
     "output_type": "stream",
     "text": [
      "Processing batch 413/663\n"
     ]
    },
    {
     "name": "stderr",
     "output_type": "stream",
     "text": [
      "Decoding geohashes: 100%|██████████| 100000/100000 [00:00<00:00, 176729.15it/s]\n",
      "Decoding geohashes: 100%|██████████| 100000/100000 [00:00<00:00, 179540.31it/s]\n"
     ]
    },
    {
     "name": "stdout",
     "output_type": "stream",
     "text": [
      "Processing batch 414/663\n"
     ]
    },
    {
     "name": "stderr",
     "output_type": "stream",
     "text": [
      "Decoding geohashes: 100%|██████████| 100000/100000 [00:00<00:00, 179963.77it/s]\n",
      "Decoding geohashes: 100%|██████████| 100000/100000 [00:00<00:00, 181498.37it/s]\n"
     ]
    },
    {
     "name": "stdout",
     "output_type": "stream",
     "text": [
      "Processing batch 415/663\n"
     ]
    },
    {
     "name": "stderr",
     "output_type": "stream",
     "text": [
      "Decoding geohashes: 100%|██████████| 100000/100000 [00:00<00:00, 175009.50it/s]\n",
      "Decoding geohashes: 100%|██████████| 100000/100000 [00:00<00:00, 178234.53it/s]\n"
     ]
    },
    {
     "name": "stdout",
     "output_type": "stream",
     "text": [
      "Processing batch 416/663\n"
     ]
    },
    {
     "name": "stderr",
     "output_type": "stream",
     "text": [
      "Decoding geohashes: 100%|██████████| 100000/100000 [00:00<00:00, 179627.35it/s]\n",
      "Decoding geohashes: 100%|██████████| 100000/100000 [00:00<00:00, 177151.78it/s]\n"
     ]
    },
    {
     "name": "stdout",
     "output_type": "stream",
     "text": [
      "Processing batch 417/663\n"
     ]
    },
    {
     "name": "stderr",
     "output_type": "stream",
     "text": [
      "Decoding geohashes: 100%|██████████| 100000/100000 [00:00<00:00, 167556.55it/s]\n",
      "Decoding geohashes: 100%|██████████| 100000/100000 [00:00<00:00, 166121.71it/s]\n"
     ]
    },
    {
     "name": "stdout",
     "output_type": "stream",
     "text": [
      "Processing batch 418/663\n"
     ]
    },
    {
     "name": "stderr",
     "output_type": "stream",
     "text": [
      "Decoding geohashes: 100%|██████████| 100000/100000 [00:00<00:00, 156059.87it/s]\n",
      "Decoding geohashes: 100%|██████████| 100000/100000 [00:00<00:00, 163311.72it/s]\n"
     ]
    },
    {
     "name": "stdout",
     "output_type": "stream",
     "text": [
      "Processing batch 419/663\n"
     ]
    },
    {
     "name": "stderr",
     "output_type": "stream",
     "text": [
      "Decoding geohashes: 100%|██████████| 100000/100000 [00:00<00:00, 155951.01it/s]\n",
      "Decoding geohashes: 100%|██████████| 100000/100000 [00:00<00:00, 154704.06it/s]\n"
     ]
    },
    {
     "name": "stdout",
     "output_type": "stream",
     "text": [
      "Processing batch 420/663\n"
     ]
    },
    {
     "name": "stderr",
     "output_type": "stream",
     "text": [
      "Decoding geohashes: 100%|██████████| 100000/100000 [00:00<00:00, 172457.48it/s]\n",
      "Decoding geohashes: 100%|██████████| 100000/100000 [00:00<00:00, 174024.51it/s]\n"
     ]
    },
    {
     "name": "stdout",
     "output_type": "stream",
     "text": [
      "Processing batch 421/663\n"
     ]
    },
    {
     "name": "stderr",
     "output_type": "stream",
     "text": [
      "Decoding geohashes: 100%|██████████| 100000/100000 [00:00<00:00, 167467.97it/s]\n",
      "Decoding geohashes: 100%|██████████| 100000/100000 [00:00<00:00, 173008.29it/s]\n"
     ]
    },
    {
     "name": "stdout",
     "output_type": "stream",
     "text": [
      "Processing batch 422/663\n"
     ]
    },
    {
     "name": "stderr",
     "output_type": "stream",
     "text": [
      "Decoding geohashes: 100%|██████████| 100000/100000 [00:00<00:00, 180448.76it/s]\n",
      "Decoding geohashes: 100%|██████████| 100000/100000 [00:00<00:00, 179093.67it/s]\n"
     ]
    },
    {
     "name": "stdout",
     "output_type": "stream",
     "text": [
      "Processing batch 423/663\n"
     ]
    },
    {
     "name": "stderr",
     "output_type": "stream",
     "text": [
      "Decoding geohashes: 100%|██████████| 100000/100000 [00:00<00:00, 181286.17it/s]\n",
      "Decoding geohashes: 100%|██████████| 100000/100000 [00:00<00:00, 180756.87it/s]\n"
     ]
    },
    {
     "name": "stdout",
     "output_type": "stream",
     "text": [
      "Processing batch 424/663\n"
     ]
    },
    {
     "name": "stderr",
     "output_type": "stream",
     "text": [
      "Decoding geohashes: 100%|██████████| 100000/100000 [00:00<00:00, 181271.91it/s]\n",
      "Decoding geohashes: 100%|██████████| 100000/100000 [00:00<00:00, 183871.02it/s]\n"
     ]
    },
    {
     "name": "stdout",
     "output_type": "stream",
     "text": [
      "Processing batch 425/663\n"
     ]
    },
    {
     "name": "stderr",
     "output_type": "stream",
     "text": [
      "Decoding geohashes: 100%|██████████| 100000/100000 [00:00<00:00, 176995.54it/s]\n",
      "Decoding geohashes: 100%|██████████| 100000/100000 [00:00<00:00, 150369.64it/s]\n"
     ]
    },
    {
     "name": "stdout",
     "output_type": "stream",
     "text": [
      "Processing batch 426/663\n"
     ]
    },
    {
     "name": "stderr",
     "output_type": "stream",
     "text": [
      "Decoding geohashes: 100%|██████████| 100000/100000 [00:00<00:00, 179286.67it/s]\n",
      "Decoding geohashes: 100%|██████████| 100000/100000 [00:00<00:00, 179740.04it/s]\n"
     ]
    },
    {
     "name": "stdout",
     "output_type": "stream",
     "text": [
      "Processing batch 427/663\n"
     ]
    },
    {
     "name": "stderr",
     "output_type": "stream",
     "text": [
      "Decoding geohashes: 100%|██████████| 100000/100000 [00:00<00:00, 180820.53it/s]\n",
      "Decoding geohashes: 100%|██████████| 100000/100000 [00:00<00:00, 176164.72it/s]\n"
     ]
    },
    {
     "name": "stdout",
     "output_type": "stream",
     "text": [
      "Processing batch 428/663\n"
     ]
    },
    {
     "name": "stderr",
     "output_type": "stream",
     "text": [
      "Decoding geohashes: 100%|██████████| 100000/100000 [00:00<00:00, 173044.12it/s]\n",
      "Decoding geohashes: 100%|██████████| 100000/100000 [00:00<00:00, 171121.56it/s]\n"
     ]
    },
    {
     "name": "stdout",
     "output_type": "stream",
     "text": [
      "Processing batch 429/663\n"
     ]
    },
    {
     "name": "stderr",
     "output_type": "stream",
     "text": [
      "Decoding geohashes: 100%|██████████| 100000/100000 [00:00<00:00, 179167.88it/s]\n",
      "Decoding geohashes: 100%|██████████| 100000/100000 [00:00<00:00, 180350.99it/s]\n"
     ]
    },
    {
     "name": "stdout",
     "output_type": "stream",
     "text": [
      "Processing batch 430/663\n"
     ]
    },
    {
     "name": "stderr",
     "output_type": "stream",
     "text": [
      "Decoding geohashes: 100%|██████████| 100000/100000 [00:00<00:00, 177566.37it/s]\n",
      "Decoding geohashes: 100%|██████████| 100000/100000 [00:00<00:00, 173150.78it/s]\n"
     ]
    },
    {
     "name": "stdout",
     "output_type": "stream",
     "text": [
      "Processing batch 431/663\n"
     ]
    },
    {
     "name": "stderr",
     "output_type": "stream",
     "text": [
      "Decoding geohashes: 100%|██████████| 100000/100000 [00:00<00:00, 173030.56it/s]\n",
      "Decoding geohashes: 100%|██████████| 100000/100000 [00:00<00:00, 172071.96it/s]\n"
     ]
    },
    {
     "name": "stdout",
     "output_type": "stream",
     "text": [
      "Processing batch 432/663\n"
     ]
    },
    {
     "name": "stderr",
     "output_type": "stream",
     "text": [
      "Decoding geohashes: 100%|██████████| 100000/100000 [00:00<00:00, 172422.39it/s]\n",
      "Decoding geohashes: 100%|██████████| 100000/100000 [00:00<00:00, 170104.84it/s]\n"
     ]
    },
    {
     "name": "stdout",
     "output_type": "stream",
     "text": [
      "Processing batch 433/663\n"
     ]
    },
    {
     "name": "stderr",
     "output_type": "stream",
     "text": [
      "Decoding geohashes: 100%|██████████| 100000/100000 [00:00<00:00, 179702.08it/s]\n",
      "Decoding geohashes: 100%|██████████| 100000/100000 [00:00<00:00, 155623.68it/s]\n"
     ]
    },
    {
     "name": "stdout",
     "output_type": "stream",
     "text": [
      "Processing batch 434/663\n"
     ]
    },
    {
     "name": "stderr",
     "output_type": "stream",
     "text": [
      "Decoding geohashes: 100%|██████████| 100000/100000 [00:00<00:00, 173775.69it/s]\n",
      "Decoding geohashes: 100%|██████████| 100000/100000 [00:00<00:00, 165545.11it/s]\n"
     ]
    },
    {
     "name": "stdout",
     "output_type": "stream",
     "text": [
      "Processing batch 435/663\n"
     ]
    },
    {
     "name": "stderr",
     "output_type": "stream",
     "text": [
      "Decoding geohashes: 100%|██████████| 100000/100000 [00:00<00:00, 155548.36it/s]\n",
      "Decoding geohashes: 100%|██████████| 100000/100000 [00:00<00:00, 173797.44it/s]\n"
     ]
    },
    {
     "name": "stdout",
     "output_type": "stream",
     "text": [
      "Processing batch 436/663\n"
     ]
    },
    {
     "name": "stderr",
     "output_type": "stream",
     "text": [
      "Decoding geohashes: 100%|██████████| 100000/100000 [00:00<00:00, 156110.28it/s]\n",
      "Decoding geohashes: 100%|██████████| 100000/100000 [00:00<00:00, 177375.48it/s]\n"
     ]
    },
    {
     "name": "stdout",
     "output_type": "stream",
     "text": [
      "Processing batch 437/663\n"
     ]
    },
    {
     "name": "stderr",
     "output_type": "stream",
     "text": [
      "Decoding geohashes: 100%|██████████| 100000/100000 [00:00<00:00, 180583.16it/s]\n",
      "Decoding geohashes: 100%|██████████| 100000/100000 [00:00<00:00, 174976.72it/s]\n"
     ]
    },
    {
     "name": "stdout",
     "output_type": "stream",
     "text": [
      "Processing batch 438/663\n"
     ]
    },
    {
     "name": "stderr",
     "output_type": "stream",
     "text": [
      "Decoding geohashes: 100%|██████████| 100000/100000 [00:00<00:00, 153102.27it/s]\n",
      "Decoding geohashes: 100%|██████████| 100000/100000 [00:00<00:00, 175581.83it/s]\n"
     ]
    },
    {
     "name": "stdout",
     "output_type": "stream",
     "text": [
      "Processing batch 439/663\n"
     ]
    },
    {
     "name": "stderr",
     "output_type": "stream",
     "text": [
      "Decoding geohashes: 100%|██████████| 100000/100000 [00:00<00:00, 177242.89it/s]\n",
      "Decoding geohashes: 100%|██████████| 100000/100000 [00:00<00:00, 182415.37it/s]\n"
     ]
    },
    {
     "name": "stdout",
     "output_type": "stream",
     "text": [
      "Processing batch 440/663\n"
     ]
    },
    {
     "name": "stderr",
     "output_type": "stream",
     "text": [
      "Decoding geohashes: 100%|██████████| 100000/100000 [00:00<00:00, 179816.41it/s]\n",
      "Decoding geohashes: 100%|██████████| 100000/100000 [00:00<00:00, 180597.78it/s]\n"
     ]
    },
    {
     "name": "stdout",
     "output_type": "stream",
     "text": [
      "Processing batch 441/663\n"
     ]
    },
    {
     "name": "stderr",
     "output_type": "stream",
     "text": [
      "Decoding geohashes: 100%|██████████| 100000/100000 [00:00<00:00, 181186.25it/s]\n",
      "Decoding geohashes: 100%|██████████| 100000/100000 [00:00<00:00, 180379.22it/s]\n"
     ]
    },
    {
     "name": "stdout",
     "output_type": "stream",
     "text": [
      "Processing batch 442/663\n"
     ]
    },
    {
     "name": "stderr",
     "output_type": "stream",
     "text": [
      "Decoding geohashes: 100%|██████████| 100000/100000 [00:00<00:00, 173274.03it/s]\n",
      "Decoding geohashes: 100%|██████████| 100000/100000 [00:00<00:00, 176095.64it/s]\n"
     ]
    },
    {
     "name": "stdout",
     "output_type": "stream",
     "text": [
      "Processing batch 443/663\n"
     ]
    },
    {
     "name": "stderr",
     "output_type": "stream",
     "text": [
      "Decoding geohashes: 100%|██████████| 100000/100000 [00:00<00:00, 162999.98it/s]\n",
      "Decoding geohashes: 100%|██████████| 100000/100000 [00:00<00:00, 159494.34it/s]\n"
     ]
    },
    {
     "name": "stdout",
     "output_type": "stream",
     "text": [
      "Processing batch 444/663\n"
     ]
    },
    {
     "name": "stderr",
     "output_type": "stream",
     "text": [
      "Decoding geohashes: 100%|██████████| 100000/100000 [00:00<00:00, 160849.15it/s]\n",
      "Decoding geohashes: 100%|██████████| 100000/100000 [00:00<00:00, 130493.30it/s]\n"
     ]
    },
    {
     "name": "stdout",
     "output_type": "stream",
     "text": [
      "Processing batch 445/663\n"
     ]
    },
    {
     "name": "stderr",
     "output_type": "stream",
     "text": [
      "Decoding geohashes: 100%|██████████| 100000/100000 [00:00<00:00, 128253.00it/s]\n",
      "Decoding geohashes: 100%|██████████| 100000/100000 [00:00<00:00, 146284.08it/s]\n"
     ]
    },
    {
     "name": "stdout",
     "output_type": "stream",
     "text": [
      "Processing batch 446/663\n"
     ]
    },
    {
     "name": "stderr",
     "output_type": "stream",
     "text": [
      "Decoding geohashes: 100%|██████████| 100000/100000 [00:00<00:00, 149667.16it/s]\n",
      "Decoding geohashes: 100%|██████████| 100000/100000 [00:00<00:00, 173921.61it/s]\n"
     ]
    },
    {
     "name": "stdout",
     "output_type": "stream",
     "text": [
      "Processing batch 447/663\n"
     ]
    },
    {
     "name": "stderr",
     "output_type": "stream",
     "text": [
      "Decoding geohashes: 100%|██████████| 100000/100000 [00:00<00:00, 174311.56it/s]\n",
      "Decoding geohashes: 100%|██████████| 100000/100000 [00:00<00:00, 177560.43it/s]\n"
     ]
    },
    {
     "name": "stdout",
     "output_type": "stream",
     "text": [
      "Processing batch 448/663\n"
     ]
    },
    {
     "name": "stderr",
     "output_type": "stream",
     "text": [
      "Decoding geohashes: 100%|██████████| 100000/100000 [00:00<00:00, 181660.47it/s]\n",
      "Decoding geohashes: 100%|██████████| 100000/100000 [00:00<00:00, 181959.23it/s]\n"
     ]
    },
    {
     "name": "stdout",
     "output_type": "stream",
     "text": [
      "Processing batch 449/663\n"
     ]
    },
    {
     "name": "stderr",
     "output_type": "stream",
     "text": [
      "Decoding geohashes: 100%|██████████| 100000/100000 [00:00<00:00, 177748.09it/s]\n",
      "Decoding geohashes: 100%|██████████| 100000/100000 [00:00<00:00, 182217.80it/s]\n"
     ]
    },
    {
     "name": "stdout",
     "output_type": "stream",
     "text": [
      "Processing batch 450/663\n"
     ]
    },
    {
     "name": "stderr",
     "output_type": "stream",
     "text": [
      "Decoding geohashes: 100%|██████████| 100000/100000 [00:00<00:00, 179497.74it/s]\n",
      "Decoding geohashes: 100%|██████████| 100000/100000 [00:00<00:00, 177411.04it/s]\n"
     ]
    },
    {
     "name": "stdout",
     "output_type": "stream",
     "text": [
      "Processing batch 451/663\n"
     ]
    },
    {
     "name": "stderr",
     "output_type": "stream",
     "text": [
      "Decoding geohashes: 100%|██████████| 100000/100000 [00:00<00:00, 173144.63it/s]\n",
      "Decoding geohashes: 100%|██████████| 100000/100000 [00:00<00:00, 176838.83it/s]\n"
     ]
    },
    {
     "name": "stdout",
     "output_type": "stream",
     "text": [
      "Processing batch 452/663\n"
     ]
    },
    {
     "name": "stderr",
     "output_type": "stream",
     "text": [
      "Decoding geohashes: 100%|██████████| 100000/100000 [00:00<00:00, 177424.55it/s]\n",
      "Decoding geohashes: 100%|██████████| 100000/100000 [00:00<00:00, 159141.17it/s]\n"
     ]
    },
    {
     "name": "stdout",
     "output_type": "stream",
     "text": [
      "Processing batch 453/663\n"
     ]
    },
    {
     "name": "stderr",
     "output_type": "stream",
     "text": [
      "Decoding geohashes: 100%|██████████| 100000/100000 [00:00<00:00, 181593.61it/s]\n",
      "Decoding geohashes: 100%|██████████| 100000/100000 [00:00<00:00, 175471.57it/s]\n"
     ]
    },
    {
     "name": "stdout",
     "output_type": "stream",
     "text": [
      "Processing batch 454/663\n"
     ]
    },
    {
     "name": "stderr",
     "output_type": "stream",
     "text": [
      "Decoding geohashes: 100%|██████████| 100000/100000 [00:00<00:00, 149979.87it/s]\n",
      "Decoding geohashes: 100%|██████████| 100000/100000 [00:00<00:00, 157004.24it/s]\n"
     ]
    },
    {
     "name": "stdout",
     "output_type": "stream",
     "text": [
      "Processing batch 455/663\n"
     ]
    },
    {
     "name": "stderr",
     "output_type": "stream",
     "text": [
      "Decoding geohashes: 100%|██████████| 100000/100000 [00:00<00:00, 172182.72it/s]\n",
      "Decoding geohashes: 100%|██████████| 100000/100000 [00:00<00:00, 181018.75it/s]\n"
     ]
    },
    {
     "name": "stdout",
     "output_type": "stream",
     "text": [
      "Processing batch 456/663\n"
     ]
    },
    {
     "name": "stderr",
     "output_type": "stream",
     "text": [
      "Decoding geohashes: 100%|██████████| 100000/100000 [00:00<00:00, 179495.59it/s]\n",
      "Decoding geohashes: 100%|██████████| 100000/100000 [00:00<00:00, 176349.44it/s]\n"
     ]
    },
    {
     "name": "stdout",
     "output_type": "stream",
     "text": [
      "Processing batch 457/663\n"
     ]
    },
    {
     "name": "stderr",
     "output_type": "stream",
     "text": [
      "Decoding geohashes: 100%|██████████| 100000/100000 [00:00<00:00, 175023.01it/s]\n",
      "Decoding geohashes: 100%|██████████| 100000/100000 [00:00<00:00, 166182.92it/s]\n"
     ]
    },
    {
     "name": "stdout",
     "output_type": "stream",
     "text": [
      "Processing batch 458/663\n"
     ]
    },
    {
     "name": "stderr",
     "output_type": "stream",
     "text": [
      "Decoding geohashes: 100%|██████████| 100000/100000 [00:00<00:00, 133363.60it/s]\n",
      "Decoding geohashes: 100%|██████████| 100000/100000 [00:00<00:00, 161193.53it/s]\n"
     ]
    },
    {
     "name": "stdout",
     "output_type": "stream",
     "text": [
      "Processing batch 459/663\n"
     ]
    },
    {
     "name": "stderr",
     "output_type": "stream",
     "text": [
      "Decoding geohashes: 100%|██████████| 100000/100000 [00:00<00:00, 167675.98it/s]\n",
      "Decoding geohashes: 100%|██████████| 100000/100000 [00:00<00:00, 180990.94it/s]\n"
     ]
    },
    {
     "name": "stdout",
     "output_type": "stream",
     "text": [
      "Processing batch 460/663\n"
     ]
    },
    {
     "name": "stderr",
     "output_type": "stream",
     "text": [
      "Decoding geohashes: 100%|██████████| 100000/100000 [00:00<00:00, 173358.32it/s]\n",
      "Decoding geohashes: 100%|██████████| 100000/100000 [00:00<00:00, 172975.97it/s]\n"
     ]
    },
    {
     "name": "stdout",
     "output_type": "stream",
     "text": [
      "Processing batch 461/663\n"
     ]
    },
    {
     "name": "stderr",
     "output_type": "stream",
     "text": [
      "Decoding geohashes: 100%|██████████| 100000/100000 [00:00<00:00, 175351.92it/s]\n",
      "Decoding geohashes: 100%|██████████| 100000/100000 [00:00<00:00, 141606.65it/s]\n"
     ]
    },
    {
     "name": "stdout",
     "output_type": "stream",
     "text": [
      "Processing batch 462/663\n"
     ]
    },
    {
     "name": "stderr",
     "output_type": "stream",
     "text": [
      "Decoding geohashes: 100%|██████████| 100000/100000 [00:00<00:00, 140109.88it/s]\n",
      "Decoding geohashes: 100%|██████████| 100000/100000 [00:00<00:00, 165950.29it/s]\n"
     ]
    },
    {
     "name": "stdout",
     "output_type": "stream",
     "text": [
      "Processing batch 463/663\n"
     ]
    },
    {
     "name": "stderr",
     "output_type": "stream",
     "text": [
      "Decoding geohashes: 100%|██████████| 100000/100000 [00:00<00:00, 160183.38it/s]\n",
      "Decoding geohashes: 100%|██████████| 100000/100000 [00:00<00:00, 173871.43it/s]\n"
     ]
    },
    {
     "name": "stdout",
     "output_type": "stream",
     "text": [
      "Processing batch 464/663\n"
     ]
    },
    {
     "name": "stderr",
     "output_type": "stream",
     "text": [
      "Decoding geohashes: 100%|██████████| 100000/100000 [00:00<00:00, 155579.58it/s]\n",
      "Decoding geohashes: 100%|██████████| 100000/100000 [00:00<00:00, 176604.80it/s]\n"
     ]
    },
    {
     "name": "stdout",
     "output_type": "stream",
     "text": [
      "Processing batch 465/663\n"
     ]
    },
    {
     "name": "stderr",
     "output_type": "stream",
     "text": [
      "Decoding geohashes: 100%|██████████| 100000/100000 [00:00<00:00, 168379.13it/s]\n",
      "Decoding geohashes: 100%|██████████| 100000/100000 [00:00<00:00, 174561.70it/s]\n"
     ]
    },
    {
     "name": "stdout",
     "output_type": "stream",
     "text": [
      "Processing batch 466/663\n"
     ]
    },
    {
     "name": "stderr",
     "output_type": "stream",
     "text": [
      "Decoding geohashes: 100%|██████████| 100000/100000 [00:00<00:00, 175377.80it/s]\n",
      "Decoding geohashes: 100%|██████████| 100000/100000 [00:00<00:00, 175379.64it/s]\n"
     ]
    },
    {
     "name": "stdout",
     "output_type": "stream",
     "text": [
      "Processing batch 467/663\n"
     ]
    },
    {
     "name": "stderr",
     "output_type": "stream",
     "text": [
      "Decoding geohashes: 100%|██████████| 100000/100000 [00:00<00:00, 176076.86it/s]\n",
      "Decoding geohashes: 100%|██████████| 100000/100000 [00:00<00:00, 175538.84it/s]\n"
     ]
    },
    {
     "name": "stdout",
     "output_type": "stream",
     "text": [
      "Processing batch 468/663\n"
     ]
    },
    {
     "name": "stderr",
     "output_type": "stream",
     "text": [
      "Decoding geohashes: 100%|██████████| 100000/100000 [00:00<00:00, 158028.03it/s]\n",
      "Decoding geohashes: 100%|██████████| 100000/100000 [00:00<00:00, 171631.96it/s]\n"
     ]
    },
    {
     "name": "stdout",
     "output_type": "stream",
     "text": [
      "Processing batch 469/663\n"
     ]
    },
    {
     "name": "stderr",
     "output_type": "stream",
     "text": [
      "Decoding geohashes: 100%|██████████| 100000/100000 [00:00<00:00, 169799.77it/s]\n",
      "Decoding geohashes: 100%|██████████| 100000/100000 [00:00<00:00, 180099.46it/s]\n"
     ]
    },
    {
     "name": "stdout",
     "output_type": "stream",
     "text": [
      "Processing batch 470/663\n"
     ]
    },
    {
     "name": "stderr",
     "output_type": "stream",
     "text": [
      "Decoding geohashes: 100%|██████████| 100000/100000 [00:00<00:00, 162659.70it/s]\n",
      "Decoding geohashes: 100%|██████████| 100000/100000 [00:00<00:00, 163809.93it/s]\n"
     ]
    },
    {
     "name": "stdout",
     "output_type": "stream",
     "text": [
      "Processing batch 471/663\n"
     ]
    },
    {
     "name": "stderr",
     "output_type": "stream",
     "text": [
      "Decoding geohashes: 100%|██████████| 100000/100000 [00:00<00:00, 160435.63it/s]\n",
      "Decoding geohashes: 100%|██████████| 100000/100000 [00:00<00:00, 164473.29it/s]\n"
     ]
    },
    {
     "name": "stdout",
     "output_type": "stream",
     "text": [
      "Processing batch 472/663\n"
     ]
    },
    {
     "name": "stderr",
     "output_type": "stream",
     "text": [
      "Decoding geohashes: 100%|██████████| 100000/100000 [00:00<00:00, 160106.03it/s]\n",
      "Decoding geohashes: 100%|██████████| 100000/100000 [00:00<00:00, 143785.76it/s]\n"
     ]
    },
    {
     "name": "stdout",
     "output_type": "stream",
     "text": [
      "Processing batch 473/663\n"
     ]
    },
    {
     "name": "stderr",
     "output_type": "stream",
     "text": [
      "Decoding geohashes: 100%|██████████| 100000/100000 [00:00<00:00, 167170.55it/s]\n",
      "Decoding geohashes: 100%|██████████| 100000/100000 [00:00<00:00, 174856.80it/s]\n"
     ]
    },
    {
     "name": "stdout",
     "output_type": "stream",
     "text": [
      "Processing batch 474/663\n"
     ]
    },
    {
     "name": "stderr",
     "output_type": "stream",
     "text": [
      "Decoding geohashes: 100%|██████████| 100000/100000 [00:00<00:00, 172439.26it/s]\n",
      "Decoding geohashes: 100%|██████████| 100000/100000 [00:00<00:00, 177931.78it/s]\n"
     ]
    },
    {
     "name": "stdout",
     "output_type": "stream",
     "text": [
      "Processing batch 475/663\n"
     ]
    },
    {
     "name": "stderr",
     "output_type": "stream",
     "text": [
      "Decoding geohashes: 100%|██████████| 100000/100000 [00:00<00:00, 169153.40it/s]\n",
      "Decoding geohashes: 100%|██████████| 100000/100000 [00:00<00:00, 151009.83it/s]\n"
     ]
    },
    {
     "name": "stdout",
     "output_type": "stream",
     "text": [
      "Processing batch 476/663\n"
     ]
    },
    {
     "name": "stderr",
     "output_type": "stream",
     "text": [
      "Decoding geohashes: 100%|██████████| 100000/100000 [00:00<00:00, 170881.24it/s]\n",
      "Decoding geohashes: 100%|██████████| 100000/100000 [00:00<00:00, 152829.97it/s]\n"
     ]
    },
    {
     "name": "stdout",
     "output_type": "stream",
     "text": [
      "Processing batch 477/663\n"
     ]
    },
    {
     "name": "stderr",
     "output_type": "stream",
     "text": [
      "Decoding geohashes: 100%|██████████| 100000/100000 [00:00<00:00, 142967.77it/s]\n",
      "Decoding geohashes: 100%|██████████| 100000/100000 [00:00<00:00, 177127.54it/s]\n"
     ]
    },
    {
     "name": "stdout",
     "output_type": "stream",
     "text": [
      "Processing batch 478/663\n"
     ]
    },
    {
     "name": "stderr",
     "output_type": "stream",
     "text": [
      "Decoding geohashes: 100%|██████████| 100000/100000 [00:00<00:00, 170133.68it/s]\n",
      "Decoding geohashes: 100%|██████████| 100000/100000 [00:00<00:00, 178215.97it/s]\n"
     ]
    },
    {
     "name": "stdout",
     "output_type": "stream",
     "text": [
      "Processing batch 479/663\n"
     ]
    },
    {
     "name": "stderr",
     "output_type": "stream",
     "text": [
      "Decoding geohashes: 100%|██████████| 100000/100000 [00:00<00:00, 167305.98it/s]\n",
      "Decoding geohashes: 100%|██████████| 100000/100000 [00:00<00:00, 157034.52it/s]\n"
     ]
    },
    {
     "name": "stdout",
     "output_type": "stream",
     "text": [
      "Processing batch 480/663\n"
     ]
    },
    {
     "name": "stderr",
     "output_type": "stream",
     "text": [
      "Decoding geohashes: 100%|██████████| 100000/100000 [00:00<00:00, 176547.41it/s]\n",
      "Decoding geohashes: 100%|██████████| 100000/100000 [00:00<00:00, 151150.83it/s]\n"
     ]
    },
    {
     "name": "stdout",
     "output_type": "stream",
     "text": [
      "Processing batch 481/663\n"
     ]
    },
    {
     "name": "stderr",
     "output_type": "stream",
     "text": [
      "Decoding geohashes: 100%|██████████| 100000/100000 [00:00<00:00, 148361.49it/s]\n",
      "Decoding geohashes: 100%|██████████| 100000/100000 [00:00<00:00, 151394.92it/s]\n"
     ]
    },
    {
     "name": "stdout",
     "output_type": "stream",
     "text": [
      "Processing batch 482/663\n"
     ]
    },
    {
     "name": "stderr",
     "output_type": "stream",
     "text": [
      "Decoding geohashes: 100%|██████████| 100000/100000 [00:00<00:00, 166339.77it/s]\n",
      "Decoding geohashes: 100%|██████████| 100000/100000 [00:00<00:00, 159707.93it/s]\n"
     ]
    },
    {
     "name": "stdout",
     "output_type": "stream",
     "text": [
      "Processing batch 483/663\n"
     ]
    },
    {
     "name": "stderr",
     "output_type": "stream",
     "text": [
      "Decoding geohashes: 100%|██████████| 100000/100000 [00:00<00:00, 119605.12it/s]\n",
      "Decoding geohashes: 100%|██████████| 100000/100000 [00:00<00:00, 155306.23it/s]\n"
     ]
    },
    {
     "name": "stdout",
     "output_type": "stream",
     "text": [
      "Processing batch 484/663\n"
     ]
    },
    {
     "name": "stderr",
     "output_type": "stream",
     "text": [
      "Decoding geohashes: 100%|██████████| 100000/100000 [00:00<00:00, 149831.30it/s]\n",
      "Decoding geohashes: 100%|██████████| 100000/100000 [00:00<00:00, 163276.19it/s]\n"
     ]
    },
    {
     "name": "stdout",
     "output_type": "stream",
     "text": [
      "Processing batch 485/663\n"
     ]
    },
    {
     "name": "stderr",
     "output_type": "stream",
     "text": [
      "Decoding geohashes: 100%|██████████| 100000/100000 [00:00<00:00, 147835.79it/s]\n",
      "Decoding geohashes: 100%|██████████| 100000/100000 [00:00<00:00, 167781.29it/s]\n"
     ]
    },
    {
     "name": "stdout",
     "output_type": "stream",
     "text": [
      "Processing batch 486/663\n"
     ]
    },
    {
     "name": "stderr",
     "output_type": "stream",
     "text": [
      "Decoding geohashes: 100%|██████████| 100000/100000 [00:00<00:00, 162389.28it/s]\n",
      "Decoding geohashes: 100%|██████████| 100000/100000 [00:00<00:00, 179973.19it/s]\n"
     ]
    },
    {
     "name": "stdout",
     "output_type": "stream",
     "text": [
      "Processing batch 487/663\n"
     ]
    },
    {
     "name": "stderr",
     "output_type": "stream",
     "text": [
      "Decoding geohashes: 100%|██████████| 100000/100000 [00:00<00:00, 170208.94it/s]\n",
      "Decoding geohashes: 100%|██████████| 100000/100000 [00:00<00:00, 174425.59it/s]\n"
     ]
    },
    {
     "name": "stdout",
     "output_type": "stream",
     "text": [
      "Processing batch 488/663\n"
     ]
    },
    {
     "name": "stderr",
     "output_type": "stream",
     "text": [
      "Decoding geohashes: 100%|██████████| 100000/100000 [00:00<00:00, 168850.10it/s]\n",
      "Decoding geohashes: 100%|██████████| 100000/100000 [00:00<00:00, 175353.75it/s]\n"
     ]
    },
    {
     "name": "stdout",
     "output_type": "stream",
     "text": [
      "Processing batch 489/663\n"
     ]
    },
    {
     "name": "stderr",
     "output_type": "stream",
     "text": [
      "Decoding geohashes: 100%|██████████| 100000/100000 [00:00<00:00, 175692.59it/s]\n",
      "Decoding geohashes: 100%|██████████| 100000/100000 [00:00<00:00, 180844.23it/s]\n"
     ]
    },
    {
     "name": "stdout",
     "output_type": "stream",
     "text": [
      "Processing batch 490/663\n"
     ]
    },
    {
     "name": "stderr",
     "output_type": "stream",
     "text": [
      "Decoding geohashes: 100%|██████████| 100000/100000 [00:00<00:00, 172973.83it/s]\n",
      "Decoding geohashes: 100%|██████████| 100000/100000 [00:00<00:00, 181663.77it/s]\n"
     ]
    },
    {
     "name": "stdout",
     "output_type": "stream",
     "text": [
      "Processing batch 491/663\n"
     ]
    },
    {
     "name": "stderr",
     "output_type": "stream",
     "text": [
      "Decoding geohashes: 100%|██████████| 100000/100000 [00:00<00:00, 172327.39it/s]\n",
      "Decoding geohashes: 100%|██████████| 100000/100000 [00:00<00:00, 159813.57it/s]\n"
     ]
    },
    {
     "name": "stdout",
     "output_type": "stream",
     "text": [
      "Processing batch 492/663\n"
     ]
    },
    {
     "name": "stderr",
     "output_type": "stream",
     "text": [
      "Decoding geohashes: 100%|██████████| 100000/100000 [00:00<00:00, 174673.22it/s]\n",
      "Decoding geohashes: 100%|██████████| 100000/100000 [00:00<00:00, 179297.09it/s]\n"
     ]
    },
    {
     "name": "stdout",
     "output_type": "stream",
     "text": [
      "Processing batch 493/663\n"
     ]
    },
    {
     "name": "stderr",
     "output_type": "stream",
     "text": [
      "Decoding geohashes: 100%|██████████| 100000/100000 [00:00<00:00, 173822.36it/s]\n",
      "Decoding geohashes: 100%|██████████| 100000/100000 [00:00<00:00, 178106.32it/s]\n"
     ]
    },
    {
     "name": "stdout",
     "output_type": "stream",
     "text": [
      "Processing batch 494/663\n"
     ]
    },
    {
     "name": "stderr",
     "output_type": "stream",
     "text": [
      "Decoding geohashes: 100%|██████████| 100000/100000 [00:00<00:00, 166451.60it/s]\n",
      "Decoding geohashes: 100%|██████████| 100000/100000 [00:00<00:00, 176005.49it/s]\n"
     ]
    },
    {
     "name": "stdout",
     "output_type": "stream",
     "text": [
      "Processing batch 495/663\n"
     ]
    },
    {
     "name": "stderr",
     "output_type": "stream",
     "text": [
      "Decoding geohashes: 100%|██████████| 100000/100000 [00:00<00:00, 174261.95it/s]\n",
      "Decoding geohashes: 100%|██████████| 100000/100000 [00:00<00:00, 163309.50it/s]\n"
     ]
    },
    {
     "name": "stdout",
     "output_type": "stream",
     "text": [
      "Processing batch 496/663\n"
     ]
    },
    {
     "name": "stderr",
     "output_type": "stream",
     "text": [
      "Decoding geohashes: 100%|██████████| 100000/100000 [00:00<00:00, 166418.18it/s]\n",
      "Decoding geohashes: 100%|██████████| 100000/100000 [00:00<00:00, 133333.04it/s]\n"
     ]
    },
    {
     "name": "stdout",
     "output_type": "stream",
     "text": [
      "Processing batch 497/663\n"
     ]
    },
    {
     "name": "stderr",
     "output_type": "stream",
     "text": [
      "Decoding geohashes: 100%|██████████| 100000/100000 [00:00<00:00, 137735.11it/s]\n",
      "Decoding geohashes: 100%|██████████| 100000/100000 [00:00<00:00, 129199.10it/s]\n"
     ]
    },
    {
     "name": "stdout",
     "output_type": "stream",
     "text": [
      "Processing batch 498/663\n"
     ]
    },
    {
     "name": "stderr",
     "output_type": "stream",
     "text": [
      "Decoding geohashes: 100%|██████████| 100000/100000 [00:00<00:00, 146789.23it/s]\n",
      "Decoding geohashes: 100%|██████████| 100000/100000 [00:00<00:00, 146181.30it/s]\n"
     ]
    },
    {
     "name": "stdout",
     "output_type": "stream",
     "text": [
      "Processing batch 499/663\n"
     ]
    },
    {
     "name": "stderr",
     "output_type": "stream",
     "text": [
      "Decoding geohashes: 100%|██████████| 100000/100000 [00:00<00:00, 133990.22it/s]\n",
      "Decoding geohashes: 100%|██████████| 100000/100000 [00:00<00:00, 168114.98it/s]\n"
     ]
    },
    {
     "name": "stdout",
     "output_type": "stream",
     "text": [
      "Processing batch 500/663\n"
     ]
    },
    {
     "name": "stderr",
     "output_type": "stream",
     "text": [
      "Decoding geohashes: 100%|██████████| 100000/100000 [00:00<00:00, 176342.10it/s]\n",
      "Decoding geohashes: 100%|██████████| 100000/100000 [00:00<00:00, 179152.73it/s]\n"
     ]
    },
    {
     "name": "stdout",
     "output_type": "stream",
     "text": [
      "Processing batch 501/663\n"
     ]
    },
    {
     "name": "stderr",
     "output_type": "stream",
     "text": [
      "Decoding geohashes: 100%|██████████| 100000/100000 [00:00<00:00, 179697.61it/s]\n",
      "Decoding geohashes: 100%|██████████| 100000/100000 [00:00<00:00, 182440.13it/s]\n"
     ]
    },
    {
     "name": "stdout",
     "output_type": "stream",
     "text": [
      "Processing batch 502/663\n"
     ]
    },
    {
     "name": "stderr",
     "output_type": "stream",
     "text": [
      "Decoding geohashes: 100%|██████████| 100000/100000 [00:00<00:00, 175481.92it/s]\n",
      "Decoding geohashes: 100%|██████████| 100000/100000 [00:00<00:00, 166998.89it/s]\n"
     ]
    },
    {
     "name": "stdout",
     "output_type": "stream",
     "text": [
      "Processing batch 503/663\n"
     ]
    },
    {
     "name": "stderr",
     "output_type": "stream",
     "text": [
      "Decoding geohashes: 100%|██████████| 100000/100000 [00:00<00:00, 171560.07it/s]\n",
      "Decoding geohashes: 100%|██████████| 100000/100000 [00:00<00:00, 157859.17it/s]\n"
     ]
    },
    {
     "name": "stdout",
     "output_type": "stream",
     "text": [
      "Processing batch 504/663\n"
     ]
    },
    {
     "name": "stderr",
     "output_type": "stream",
     "text": [
      "Decoding geohashes: 100%|██████████| 100000/100000 [00:00<00:00, 163176.08it/s]\n",
      "Decoding geohashes: 100%|██████████| 100000/100000 [00:00<00:00, 172498.27it/s]\n"
     ]
    },
    {
     "name": "stdout",
     "output_type": "stream",
     "text": [
      "Processing batch 505/663\n"
     ]
    },
    {
     "name": "stderr",
     "output_type": "stream",
     "text": [
      "Decoding geohashes: 100%|██████████| 100000/100000 [00:00<00:00, 157539.88it/s]\n",
      "Decoding geohashes: 100%|██████████| 100000/100000 [00:00<00:00, 179024.26it/s]\n"
     ]
    },
    {
     "name": "stdout",
     "output_type": "stream",
     "text": [
      "Processing batch 506/663\n"
     ]
    },
    {
     "name": "stderr",
     "output_type": "stream",
     "text": [
      "Decoding geohashes: 100%|██████████| 100000/100000 [00:00<00:00, 131831.85it/s]\n",
      "Decoding geohashes: 100%|██████████| 100000/100000 [00:00<00:00, 167099.28it/s]\n"
     ]
    },
    {
     "name": "stdout",
     "output_type": "stream",
     "text": [
      "Processing batch 507/663\n"
     ]
    },
    {
     "name": "stderr",
     "output_type": "stream",
     "text": [
      "Decoding geohashes: 100%|██████████| 100000/100000 [00:00<00:00, 170692.92it/s]\n",
      "Decoding geohashes: 100%|██████████| 100000/100000 [00:00<00:00, 172956.85it/s]\n"
     ]
    },
    {
     "name": "stdout",
     "output_type": "stream",
     "text": [
      "Processing batch 508/663\n"
     ]
    },
    {
     "name": "stderr",
     "output_type": "stream",
     "text": [
      "Decoding geohashes: 100%|██████████| 100000/100000 [00:00<00:00, 176484.49it/s]\n",
      "Decoding geohashes: 100%|██████████| 100000/100000 [00:00<00:00, 172024.75it/s]\n"
     ]
    },
    {
     "name": "stdout",
     "output_type": "stream",
     "text": [
      "Processing batch 509/663\n"
     ]
    },
    {
     "name": "stderr",
     "output_type": "stream",
     "text": [
      "Decoding geohashes: 100%|██████████| 100000/100000 [00:00<00:00, 162472.31it/s]\n",
      "Decoding geohashes: 100%|██████████| 100000/100000 [00:00<00:00, 168213.35it/s]\n"
     ]
    },
    {
     "name": "stdout",
     "output_type": "stream",
     "text": [
      "Processing batch 510/663\n"
     ]
    },
    {
     "name": "stderr",
     "output_type": "stream",
     "text": [
      "Decoding geohashes: 100%|██████████| 100000/100000 [00:00<00:00, 156260.86it/s]\n",
      "Decoding geohashes: 100%|██████████| 100000/100000 [00:00<00:00, 167464.83it/s]\n"
     ]
    },
    {
     "name": "stdout",
     "output_type": "stream",
     "text": [
      "Processing batch 511/663\n"
     ]
    },
    {
     "name": "stderr",
     "output_type": "stream",
     "text": [
      "Decoding geohashes: 100%|██████████| 100000/100000 [00:00<00:00, 176377.85it/s]\n",
      "Decoding geohashes: 100%|██████████| 100000/100000 [00:00<00:00, 171532.92it/s]\n"
     ]
    },
    {
     "name": "stdout",
     "output_type": "stream",
     "text": [
      "Processing batch 512/663\n"
     ]
    },
    {
     "name": "stderr",
     "output_type": "stream",
     "text": [
      "Decoding geohashes: 100%|██████████| 100000/100000 [00:00<00:00, 160615.89it/s]\n",
      "Decoding geohashes: 100%|██████████| 100000/100000 [00:00<00:00, 178660.37it/s]\n"
     ]
    },
    {
     "name": "stdout",
     "output_type": "stream",
     "text": [
      "Processing batch 513/663\n"
     ]
    },
    {
     "name": "stderr",
     "output_type": "stream",
     "text": [
      "Decoding geohashes: 100%|██████████| 100000/100000 [00:00<00:00, 176225.63it/s]\n",
      "Decoding geohashes: 100%|██████████| 100000/100000 [00:00<00:00, 178384.69it/s]\n"
     ]
    },
    {
     "name": "stdout",
     "output_type": "stream",
     "text": [
      "Processing batch 514/663\n"
     ]
    },
    {
     "name": "stderr",
     "output_type": "stream",
     "text": [
      "Decoding geohashes: 100%|██████████| 100000/100000 [00:00<00:00, 174903.17it/s]\n",
      "Decoding geohashes: 100%|██████████| 100000/100000 [00:00<00:00, 181536.63it/s]\n"
     ]
    },
    {
     "name": "stdout",
     "output_type": "stream",
     "text": [
      "Processing batch 515/663\n"
     ]
    },
    {
     "name": "stderr",
     "output_type": "stream",
     "text": [
      "Decoding geohashes: 100%|██████████| 100000/100000 [00:00<00:00, 176958.35it/s]\n",
      "Decoding geohashes: 100%|██████████| 100000/100000 [00:00<00:00, 179024.11it/s]\n"
     ]
    },
    {
     "name": "stdout",
     "output_type": "stream",
     "text": [
      "Processing batch 516/663\n"
     ]
    },
    {
     "name": "stderr",
     "output_type": "stream",
     "text": [
      "Decoding geohashes: 100%|██████████| 100000/100000 [00:00<00:00, 175446.10it/s]\n",
      "Decoding geohashes: 100%|██████████| 100000/100000 [00:00<00:00, 181187.34it/s]\n"
     ]
    },
    {
     "name": "stdout",
     "output_type": "stream",
     "text": [
      "Processing batch 517/663\n"
     ]
    },
    {
     "name": "stderr",
     "output_type": "stream",
     "text": [
      "Decoding geohashes: 100%|██████████| 100000/100000 [00:00<00:00, 178233.54it/s]\n",
      "Decoding geohashes: 100%|██████████| 100000/100000 [00:00<00:00, 177899.18it/s]\n"
     ]
    },
    {
     "name": "stdout",
     "output_type": "stream",
     "text": [
      "Processing batch 518/663\n"
     ]
    },
    {
     "name": "stderr",
     "output_type": "stream",
     "text": [
      "Decoding geohashes: 100%|██████████| 100000/100000 [00:00<00:00, 176977.76it/s]\n",
      "Decoding geohashes: 100%|██████████| 100000/100000 [00:00<00:00, 176714.48it/s]\n"
     ]
    },
    {
     "name": "stdout",
     "output_type": "stream",
     "text": [
      "Processing batch 519/663\n"
     ]
    },
    {
     "name": "stderr",
     "output_type": "stream",
     "text": [
      "Decoding geohashes: 100%|██████████| 100000/100000 [00:00<00:00, 177109.14it/s]\n",
      "Decoding geohashes: 100%|██████████| 100000/100000 [00:00<00:00, 173395.23it/s]\n"
     ]
    },
    {
     "name": "stdout",
     "output_type": "stream",
     "text": [
      "Processing batch 520/663\n"
     ]
    },
    {
     "name": "stderr",
     "output_type": "stream",
     "text": [
      "Decoding geohashes: 100%|██████████| 100000/100000 [00:00<00:00, 169213.93it/s]\n",
      "Decoding geohashes: 100%|██████████| 100000/100000 [00:00<00:00, 172142.16it/s]\n"
     ]
    },
    {
     "name": "stdout",
     "output_type": "stream",
     "text": [
      "Processing batch 521/663\n"
     ]
    },
    {
     "name": "stderr",
     "output_type": "stream",
     "text": [
      "Decoding geohashes: 100%|██████████| 100000/100000 [00:00<00:00, 165456.30it/s]\n",
      "Decoding geohashes: 100%|██████████| 100000/100000 [00:00<00:00, 176170.86it/s]\n"
     ]
    },
    {
     "name": "stdout",
     "output_type": "stream",
     "text": [
      "Processing batch 522/663\n"
     ]
    },
    {
     "name": "stderr",
     "output_type": "stream",
     "text": [
      "Decoding geohashes: 100%|██████████| 100000/100000 [00:00<00:00, 173779.51it/s]\n",
      "Decoding geohashes: 100%|██████████| 100000/100000 [00:00<00:00, 173918.08it/s]\n"
     ]
    },
    {
     "name": "stdout",
     "output_type": "stream",
     "text": [
      "Processing batch 523/663\n"
     ]
    },
    {
     "name": "stderr",
     "output_type": "stream",
     "text": [
      "Decoding geohashes: 100%|██████████| 100000/100000 [00:00<00:00, 151848.20it/s]\n",
      "Decoding geohashes: 100%|██████████| 100000/100000 [00:00<00:00, 157273.11it/s]\n"
     ]
    },
    {
     "name": "stdout",
     "output_type": "stream",
     "text": [
      "Processing batch 524/663\n"
     ]
    },
    {
     "name": "stderr",
     "output_type": "stream",
     "text": [
      "Decoding geohashes: 100%|██████████| 100000/100000 [00:00<00:00, 141769.91it/s]\n",
      "Decoding geohashes: 100%|██████████| 100000/100000 [00:00<00:00, 162735.43it/s]\n"
     ]
    },
    {
     "name": "stdout",
     "output_type": "stream",
     "text": [
      "Processing batch 525/663\n"
     ]
    },
    {
     "name": "stderr",
     "output_type": "stream",
     "text": [
      "Decoding geohashes: 100%|██████████| 100000/100000 [00:02<00:00, 33559.17it/s]\n",
      "Decoding geohashes: 100%|██████████| 100000/100000 [00:00<00:00, 119346.64it/s]\n"
     ]
    },
    {
     "name": "stdout",
     "output_type": "stream",
     "text": [
      "Processing batch 526/663\n"
     ]
    },
    {
     "name": "stderr",
     "output_type": "stream",
     "text": [
      "Decoding geohashes: 100%|██████████| 100000/100000 [00:00<00:00, 129328.05it/s]\n",
      "Decoding geohashes: 100%|██████████| 100000/100000 [00:00<00:00, 142308.74it/s]\n"
     ]
    },
    {
     "name": "stdout",
     "output_type": "stream",
     "text": [
      "Processing batch 527/663\n"
     ]
    },
    {
     "name": "stderr",
     "output_type": "stream",
     "text": [
      "Decoding geohashes: 100%|██████████| 100000/100000 [00:00<00:00, 137752.03it/s]\n",
      "Decoding geohashes: 100%|██████████| 100000/100000 [00:00<00:00, 137699.29it/s]\n"
     ]
    },
    {
     "name": "stdout",
     "output_type": "stream",
     "text": [
      "Processing batch 528/663\n"
     ]
    },
    {
     "name": "stderr",
     "output_type": "stream",
     "text": [
      "Decoding geohashes: 100%|██████████| 100000/100000 [00:00<00:00, 136354.90it/s]\n",
      "Decoding geohashes: 100%|██████████| 100000/100000 [00:00<00:00, 132717.53it/s]\n"
     ]
    },
    {
     "name": "stdout",
     "output_type": "stream",
     "text": [
      "Processing batch 529/663\n"
     ]
    },
    {
     "name": "stderr",
     "output_type": "stream",
     "text": [
      "Decoding geohashes: 100%|██████████| 100000/100000 [00:00<00:00, 126205.86it/s]\n",
      "Decoding geohashes: 100%|██████████| 100000/100000 [00:00<00:00, 123311.80it/s]\n"
     ]
    },
    {
     "name": "stdout",
     "output_type": "stream",
     "text": [
      "Processing batch 530/663\n"
     ]
    },
    {
     "name": "stderr",
     "output_type": "stream",
     "text": [
      "Decoding geohashes: 100%|██████████| 100000/100000 [00:00<00:00, 119928.81it/s]\n",
      "Decoding geohashes: 100%|██████████| 100000/100000 [00:00<00:00, 142839.96it/s]\n"
     ]
    },
    {
     "name": "stdout",
     "output_type": "stream",
     "text": [
      "Processing batch 531/663\n"
     ]
    },
    {
     "name": "stderr",
     "output_type": "stream",
     "text": [
      "Decoding geohashes: 100%|██████████| 100000/100000 [00:00<00:00, 129623.90it/s]\n",
      "Decoding geohashes: 100%|██████████| 100000/100000 [00:00<00:00, 136799.14it/s]\n"
     ]
    },
    {
     "name": "stdout",
     "output_type": "stream",
     "text": [
      "Processing batch 532/663\n"
     ]
    },
    {
     "name": "stderr",
     "output_type": "stream",
     "text": [
      "Decoding geohashes: 100%|██████████| 100000/100000 [00:00<00:00, 130400.36it/s]\n",
      "Decoding geohashes: 100%|██████████| 100000/100000 [00:00<00:00, 127528.19it/s]\n"
     ]
    },
    {
     "name": "stdout",
     "output_type": "stream",
     "text": [
      "Processing batch 533/663\n"
     ]
    },
    {
     "name": "stderr",
     "output_type": "stream",
     "text": [
      "Decoding geohashes: 100%|██████████| 100000/100000 [00:00<00:00, 137378.85it/s]\n",
      "Decoding geohashes: 100%|██████████| 100000/100000 [00:00<00:00, 129077.27it/s]\n"
     ]
    },
    {
     "name": "stdout",
     "output_type": "stream",
     "text": [
      "Processing batch 534/663\n"
     ]
    },
    {
     "name": "stderr",
     "output_type": "stream",
     "text": [
      "Decoding geohashes: 100%|██████████| 100000/100000 [00:00<00:00, 129364.23it/s]\n",
      "Decoding geohashes: 100%|██████████| 100000/100000 [00:00<00:00, 129419.20it/s]\n"
     ]
    },
    {
     "name": "stdout",
     "output_type": "stream",
     "text": [
      "Processing batch 535/663\n"
     ]
    },
    {
     "name": "stderr",
     "output_type": "stream",
     "text": [
      "Decoding geohashes: 100%|██████████| 100000/100000 [00:00<00:00, 126203.05it/s]\n",
      "Decoding geohashes: 100%|██████████| 100000/100000 [00:00<00:00, 145219.06it/s]\n"
     ]
    },
    {
     "name": "stdout",
     "output_type": "stream",
     "text": [
      "Processing batch 536/663\n"
     ]
    },
    {
     "name": "stderr",
     "output_type": "stream",
     "text": [
      "Decoding geohashes: 100%|██████████| 100000/100000 [00:00<00:00, 133440.10it/s]\n",
      "Decoding geohashes: 100%|██████████| 100000/100000 [00:00<00:00, 135839.10it/s]\n"
     ]
    },
    {
     "name": "stdout",
     "output_type": "stream",
     "text": [
      "Processing batch 537/663\n"
     ]
    },
    {
     "name": "stderr",
     "output_type": "stream",
     "text": [
      "Decoding geohashes: 100%|██████████| 100000/100000 [00:00<00:00, 130300.62it/s]\n",
      "Decoding geohashes: 100%|██████████| 100000/100000 [00:00<00:00, 136003.66it/s]\n"
     ]
    },
    {
     "name": "stdout",
     "output_type": "stream",
     "text": [
      "Processing batch 538/663\n"
     ]
    },
    {
     "name": "stderr",
     "output_type": "stream",
     "text": [
      "Decoding geohashes: 100%|██████████| 100000/100000 [00:00<00:00, 139728.16it/s]\n",
      "Decoding geohashes: 100%|██████████| 100000/100000 [00:00<00:00, 138504.09it/s]\n"
     ]
    },
    {
     "name": "stdout",
     "output_type": "stream",
     "text": [
      "Processing batch 539/663\n"
     ]
    },
    {
     "name": "stderr",
     "output_type": "stream",
     "text": [
      "Decoding geohashes: 100%|██████████| 100000/100000 [00:00<00:00, 137208.48it/s]\n",
      "Decoding geohashes: 100%|██████████| 100000/100000 [00:00<00:00, 142567.34it/s]\n"
     ]
    },
    {
     "name": "stdout",
     "output_type": "stream",
     "text": [
      "Processing batch 540/663\n"
     ]
    },
    {
     "name": "stderr",
     "output_type": "stream",
     "text": [
      "Decoding geohashes: 100%|██████████| 100000/100000 [00:00<00:00, 137911.28it/s]\n",
      "Decoding geohashes: 100%|██████████| 100000/100000 [00:00<00:00, 139263.85it/s]\n"
     ]
    },
    {
     "name": "stdout",
     "output_type": "stream",
     "text": [
      "Processing batch 541/663\n"
     ]
    },
    {
     "name": "stderr",
     "output_type": "stream",
     "text": [
      "Decoding geohashes: 100%|██████████| 100000/100000 [00:00<00:00, 139107.41it/s]\n",
      "Decoding geohashes: 100%|██████████| 100000/100000 [00:00<00:00, 143844.44it/s]\n"
     ]
    },
    {
     "name": "stdout",
     "output_type": "stream",
     "text": [
      "Processing batch 542/663\n"
     ]
    },
    {
     "name": "stderr",
     "output_type": "stream",
     "text": [
      "Decoding geohashes: 100%|██████████| 100000/100000 [00:00<00:00, 138095.95it/s]\n",
      "Decoding geohashes: 100%|██████████| 100000/100000 [00:00<00:00, 126878.85it/s]\n"
     ]
    },
    {
     "name": "stdout",
     "output_type": "stream",
     "text": [
      "Processing batch 543/663\n"
     ]
    },
    {
     "name": "stderr",
     "output_type": "stream",
     "text": [
      "Decoding geohashes: 100%|██████████| 100000/100000 [00:00<00:00, 115412.54it/s]\n",
      "Decoding geohashes: 100%|██████████| 100000/100000 [00:00<00:00, 114362.18it/s]\n"
     ]
    },
    {
     "name": "stdout",
     "output_type": "stream",
     "text": [
      "Processing batch 544/663\n"
     ]
    },
    {
     "name": "stderr",
     "output_type": "stream",
     "text": [
      "Decoding geohashes: 100%|██████████| 100000/100000 [00:00<00:00, 104972.62it/s]\n",
      "Decoding geohashes: 100%|██████████| 100000/100000 [00:00<00:00, 100979.99it/s]\n"
     ]
    },
    {
     "name": "stdout",
     "output_type": "stream",
     "text": [
      "Processing batch 545/663\n"
     ]
    },
    {
     "name": "stderr",
     "output_type": "stream",
     "text": [
      "Decoding geohashes: 100%|██████████| 100000/100000 [00:01<00:00, 95923.63it/s]\n",
      "Decoding geohashes: 100%|██████████| 100000/100000 [00:00<00:00, 116901.66it/s]\n"
     ]
    },
    {
     "name": "stdout",
     "output_type": "stream",
     "text": [
      "Processing batch 546/663\n"
     ]
    },
    {
     "name": "stderr",
     "output_type": "stream",
     "text": [
      "Decoding geohashes: 100%|██████████| 100000/100000 [00:00<00:00, 107942.63it/s]\n",
      "Decoding geohashes: 100%|██████████| 100000/100000 [00:00<00:00, 111781.22it/s]\n"
     ]
    },
    {
     "name": "stdout",
     "output_type": "stream",
     "text": [
      "Processing batch 547/663\n"
     ]
    },
    {
     "name": "stderr",
     "output_type": "stream",
     "text": [
      "Decoding geohashes: 100%|██████████| 100000/100000 [00:00<00:00, 132561.03it/s]\n",
      "Decoding geohashes: 100%|██████████| 100000/100000 [00:00<00:00, 139322.87it/s]\n"
     ]
    },
    {
     "name": "stdout",
     "output_type": "stream",
     "text": [
      "Processing batch 548/663\n"
     ]
    },
    {
     "name": "stderr",
     "output_type": "stream",
     "text": [
      "Decoding geohashes: 100%|██████████| 100000/100000 [00:00<00:00, 126892.59it/s]\n",
      "Decoding geohashes: 100%|██████████| 100000/100000 [00:00<00:00, 107985.12it/s]\n"
     ]
    },
    {
     "name": "stdout",
     "output_type": "stream",
     "text": [
      "Processing batch 549/663\n"
     ]
    },
    {
     "name": "stderr",
     "output_type": "stream",
     "text": [
      "Decoding geohashes: 100%|██████████| 100000/100000 [00:00<00:00, 139723.46it/s]\n",
      "Decoding geohashes: 100%|██████████| 100000/100000 [00:00<00:00, 146637.12it/s]\n"
     ]
    },
    {
     "name": "stdout",
     "output_type": "stream",
     "text": [
      "Processing batch 550/663\n"
     ]
    },
    {
     "name": "stderr",
     "output_type": "stream",
     "text": [
      "Decoding geohashes: 100%|██████████| 100000/100000 [00:00<00:00, 134262.24it/s]\n",
      "Decoding geohashes: 100%|██████████| 100000/100000 [00:00<00:00, 116374.58it/s]\n"
     ]
    },
    {
     "name": "stdout",
     "output_type": "stream",
     "text": [
      "Processing batch 551/663\n"
     ]
    },
    {
     "name": "stderr",
     "output_type": "stream",
     "text": [
      "Decoding geohashes: 100%|██████████| 100000/100000 [00:00<00:00, 138897.94it/s]\n",
      "Decoding geohashes: 100%|██████████| 100000/100000 [00:00<00:00, 136632.87it/s]\n"
     ]
    },
    {
     "name": "stdout",
     "output_type": "stream",
     "text": [
      "Processing batch 552/663\n"
     ]
    },
    {
     "name": "stderr",
     "output_type": "stream",
     "text": [
      "Decoding geohashes: 100%|██████████| 100000/100000 [00:00<00:00, 127693.90it/s]\n",
      "Decoding geohashes: 100%|██████████| 100000/100000 [00:00<00:00, 130793.78it/s]\n"
     ]
    },
    {
     "name": "stdout",
     "output_type": "stream",
     "text": [
      "Processing batch 553/663\n"
     ]
    },
    {
     "name": "stderr",
     "output_type": "stream",
     "text": [
      "Decoding geohashes: 100%|██████████| 100000/100000 [00:00<00:00, 133509.30it/s]\n",
      "Decoding geohashes: 100%|██████████| 100000/100000 [00:00<00:00, 121127.33it/s]\n"
     ]
    },
    {
     "name": "stdout",
     "output_type": "stream",
     "text": [
      "Processing batch 554/663\n"
     ]
    },
    {
     "name": "stderr",
     "output_type": "stream",
     "text": [
      "Decoding geohashes: 100%|██████████| 100000/100000 [00:00<00:00, 132637.75it/s]\n",
      "Decoding geohashes: 100%|██████████| 100000/100000 [00:00<00:00, 136843.59it/s]\n"
     ]
    },
    {
     "name": "stdout",
     "output_type": "stream",
     "text": [
      "Processing batch 555/663\n"
     ]
    },
    {
     "name": "stderr",
     "output_type": "stream",
     "text": [
      "Decoding geohashes: 100%|██████████| 100000/100000 [00:00<00:00, 128372.80it/s]\n",
      "Decoding geohashes: 100%|██████████| 100000/100000 [00:00<00:00, 128961.98it/s]\n"
     ]
    },
    {
     "name": "stdout",
     "output_type": "stream",
     "text": [
      "Processing batch 556/663\n"
     ]
    },
    {
     "name": "stderr",
     "output_type": "stream",
     "text": [
      "Decoding geohashes: 100%|██████████| 100000/100000 [00:00<00:00, 142130.51it/s]\n",
      "Decoding geohashes: 100%|██████████| 100000/100000 [00:00<00:00, 127510.24it/s]\n"
     ]
    },
    {
     "name": "stdout",
     "output_type": "stream",
     "text": [
      "Processing batch 557/663\n"
     ]
    },
    {
     "name": "stderr",
     "output_type": "stream",
     "text": [
      "Decoding geohashes: 100%|██████████| 100000/100000 [00:00<00:00, 136879.10it/s]\n",
      "Decoding geohashes: 100%|██████████| 100000/100000 [00:00<00:00, 129363.55it/s]\n"
     ]
    },
    {
     "name": "stdout",
     "output_type": "stream",
     "text": [
      "Processing batch 558/663\n"
     ]
    },
    {
     "name": "stderr",
     "output_type": "stream",
     "text": [
      "Decoding geohashes: 100%|██████████| 100000/100000 [00:00<00:00, 131156.51it/s]\n",
      "Decoding geohashes: 100%|██████████| 100000/100000 [00:00<00:00, 137444.21it/s]\n"
     ]
    },
    {
     "name": "stdout",
     "output_type": "stream",
     "text": [
      "Processing batch 559/663\n"
     ]
    },
    {
     "name": "stderr",
     "output_type": "stream",
     "text": [
      "Decoding geohashes: 100%|██████████| 100000/100000 [00:00<00:00, 131024.14it/s]\n",
      "Decoding geohashes: 100%|██████████| 100000/100000 [00:00<00:00, 134009.96it/s]\n"
     ]
    },
    {
     "name": "stdout",
     "output_type": "stream",
     "text": [
      "Processing batch 560/663\n"
     ]
    },
    {
     "name": "stderr",
     "output_type": "stream",
     "text": [
      "Decoding geohashes: 100%|██████████| 100000/100000 [00:00<00:00, 123526.83it/s]\n",
      "Decoding geohashes: 100%|██████████| 100000/100000 [00:00<00:00, 138415.32it/s]\n"
     ]
    },
    {
     "name": "stdout",
     "output_type": "stream",
     "text": [
      "Processing batch 561/663\n"
     ]
    },
    {
     "name": "stderr",
     "output_type": "stream",
     "text": [
      "Decoding geohashes: 100%|██████████| 100000/100000 [00:00<00:00, 127541.88it/s]\n",
      "Decoding geohashes: 100%|██████████| 100000/100000 [00:00<00:00, 133278.97it/s]\n"
     ]
    },
    {
     "name": "stdout",
     "output_type": "stream",
     "text": [
      "Processing batch 562/663\n"
     ]
    },
    {
     "name": "stderr",
     "output_type": "stream",
     "text": [
      "Decoding geohashes: 100%|██████████| 100000/100000 [00:00<00:00, 134823.59it/s]\n",
      "Decoding geohashes: 100%|██████████| 100000/100000 [00:00<00:00, 122097.21it/s]\n"
     ]
    },
    {
     "name": "stdout",
     "output_type": "stream",
     "text": [
      "Processing batch 563/663\n"
     ]
    },
    {
     "name": "stderr",
     "output_type": "stream",
     "text": [
      "Decoding geohashes: 100%|██████████| 100000/100000 [00:00<00:00, 134744.24it/s]\n",
      "Decoding geohashes: 100%|██████████| 100000/100000 [00:00<00:00, 126524.24it/s]\n"
     ]
    },
    {
     "name": "stdout",
     "output_type": "stream",
     "text": [
      "Processing batch 564/663\n"
     ]
    },
    {
     "name": "stderr",
     "output_type": "stream",
     "text": [
      "Decoding geohashes: 100%|██████████| 100000/100000 [00:00<00:00, 122167.48it/s]\n",
      "Decoding geohashes: 100%|██████████| 100000/100000 [00:00<00:00, 109490.50it/s]\n"
     ]
    },
    {
     "name": "stdout",
     "output_type": "stream",
     "text": [
      "Processing batch 565/663\n"
     ]
    },
    {
     "name": "stderr",
     "output_type": "stream",
     "text": [
      "Decoding geohashes: 100%|██████████| 100000/100000 [00:00<00:00, 113720.89it/s]\n",
      "Decoding geohashes: 100%|██████████| 100000/100000 [00:00<00:00, 129515.19it/s]\n"
     ]
    },
    {
     "name": "stdout",
     "output_type": "stream",
     "text": [
      "Processing batch 566/663\n"
     ]
    },
    {
     "name": "stderr",
     "output_type": "stream",
     "text": [
      "Decoding geohashes: 100%|██████████| 100000/100000 [00:00<00:00, 122656.82it/s]\n",
      "Decoding geohashes: 100%|██████████| 100000/100000 [00:00<00:00, 136283.30it/s]\n"
     ]
    },
    {
     "name": "stdout",
     "output_type": "stream",
     "text": [
      "Processing batch 567/663\n"
     ]
    },
    {
     "name": "stderr",
     "output_type": "stream",
     "text": [
      "Decoding geohashes: 100%|██████████| 100000/100000 [00:00<00:00, 140664.29it/s]\n",
      "Decoding geohashes: 100%|██████████| 100000/100000 [00:00<00:00, 125694.17it/s]\n"
     ]
    },
    {
     "name": "stdout",
     "output_type": "stream",
     "text": [
      "Processing batch 568/663\n"
     ]
    },
    {
     "name": "stderr",
     "output_type": "stream",
     "text": [
      "Decoding geohashes: 100%|██████████| 100000/100000 [00:00<00:00, 119264.79it/s]\n",
      "Decoding geohashes: 100%|██████████| 100000/100000 [00:00<00:00, 144222.48it/s]\n"
     ]
    },
    {
     "name": "stdout",
     "output_type": "stream",
     "text": [
      "Processing batch 569/663\n"
     ]
    },
    {
     "name": "stderr",
     "output_type": "stream",
     "text": [
      "Decoding geohashes: 100%|██████████| 100000/100000 [00:00<00:00, 129595.22it/s]\n",
      "Decoding geohashes: 100%|██████████| 100000/100000 [00:00<00:00, 133925.49it/s]\n"
     ]
    },
    {
     "name": "stdout",
     "output_type": "stream",
     "text": [
      "Processing batch 570/663\n"
     ]
    },
    {
     "name": "stderr",
     "output_type": "stream",
     "text": [
      "Decoding geohashes: 100%|██████████| 100000/100000 [00:00<00:00, 126231.19it/s]\n",
      "Decoding geohashes: 100%|██████████| 100000/100000 [00:00<00:00, 125682.31it/s]\n"
     ]
    },
    {
     "name": "stdout",
     "output_type": "stream",
     "text": [
      "Processing batch 571/663\n"
     ]
    },
    {
     "name": "stderr",
     "output_type": "stream",
     "text": [
      "Decoding geohashes: 100%|██████████| 100000/100000 [00:00<00:00, 135324.75it/s]\n",
      "Decoding geohashes: 100%|██████████| 100000/100000 [00:00<00:00, 137124.24it/s]\n"
     ]
    },
    {
     "name": "stdout",
     "output_type": "stream",
     "text": [
      "Processing batch 572/663\n"
     ]
    },
    {
     "name": "stderr",
     "output_type": "stream",
     "text": [
      "Decoding geohashes: 100%|██████████| 100000/100000 [00:00<00:00, 133333.38it/s]\n",
      "Decoding geohashes: 100%|██████████| 100000/100000 [00:00<00:00, 131075.24it/s]\n"
     ]
    },
    {
     "name": "stdout",
     "output_type": "stream",
     "text": [
      "Processing batch 573/663\n"
     ]
    },
    {
     "name": "stderr",
     "output_type": "stream",
     "text": [
      "Decoding geohashes: 100%|██████████| 100000/100000 [00:00<00:00, 126117.89it/s]\n",
      "Decoding geohashes: 100%|██████████| 100000/100000 [00:01<00:00, 94080.34it/s]\n"
     ]
    },
    {
     "name": "stdout",
     "output_type": "stream",
     "text": [
      "Processing batch 574/663\n"
     ]
    },
    {
     "name": "stderr",
     "output_type": "stream",
     "text": [
      "Decoding geohashes: 100%|██████████| 100000/100000 [00:01<00:00, 77242.68it/s]\n",
      "Decoding geohashes: 100%|██████████| 100000/100000 [00:01<00:00, 87886.42it/s]\n"
     ]
    },
    {
     "name": "stdout",
     "output_type": "stream",
     "text": [
      "Processing batch 575/663\n"
     ]
    },
    {
     "name": "stderr",
     "output_type": "stream",
     "text": [
      "Decoding geohashes: 100%|██████████| 100000/100000 [00:00<00:00, 105718.79it/s]\n",
      "Decoding geohashes: 100%|██████████| 100000/100000 [00:00<00:00, 112051.17it/s]\n"
     ]
    },
    {
     "name": "stdout",
     "output_type": "stream",
     "text": [
      "Processing batch 576/663\n"
     ]
    },
    {
     "name": "stderr",
     "output_type": "stream",
     "text": [
      "Decoding geohashes: 100%|██████████| 100000/100000 [00:00<00:00, 109895.83it/s]\n",
      "Decoding geohashes: 100%|██████████| 100000/100000 [00:00<00:00, 122959.34it/s]\n"
     ]
    },
    {
     "name": "stdout",
     "output_type": "stream",
     "text": [
      "Processing batch 577/663\n"
     ]
    },
    {
     "name": "stderr",
     "output_type": "stream",
     "text": [
      "Decoding geohashes: 100%|██████████| 100000/100000 [00:00<00:00, 131986.09it/s]\n",
      "Decoding geohashes: 100%|██████████| 100000/100000 [00:00<00:00, 131865.46it/s]\n"
     ]
    },
    {
     "name": "stdout",
     "output_type": "stream",
     "text": [
      "Processing batch 578/663\n"
     ]
    },
    {
     "name": "stderr",
     "output_type": "stream",
     "text": [
      "Decoding geohashes: 100%|██████████| 100000/100000 [00:00<00:00, 126205.67it/s]\n",
      "Decoding geohashes: 100%|██████████| 100000/100000 [00:00<00:00, 133202.53it/s]\n"
     ]
    },
    {
     "name": "stdout",
     "output_type": "stream",
     "text": [
      "Processing batch 579/663\n"
     ]
    },
    {
     "name": "stderr",
     "output_type": "stream",
     "text": [
      "Decoding geohashes: 100%|██████████| 100000/100000 [00:00<00:00, 128830.11it/s]\n",
      "Decoding geohashes: 100%|██████████| 100000/100000 [00:00<00:00, 123919.56it/s]\n"
     ]
    },
    {
     "name": "stdout",
     "output_type": "stream",
     "text": [
      "Processing batch 580/663\n"
     ]
    },
    {
     "name": "stderr",
     "output_type": "stream",
     "text": [
      "Decoding geohashes: 100%|██████████| 100000/100000 [00:00<00:00, 127898.83it/s]\n",
      "Decoding geohashes: 100%|██████████| 100000/100000 [00:00<00:00, 131210.71it/s]\n"
     ]
    },
    {
     "name": "stdout",
     "output_type": "stream",
     "text": [
      "Processing batch 581/663\n"
     ]
    },
    {
     "name": "stderr",
     "output_type": "stream",
     "text": [
      "Decoding geohashes: 100%|██████████| 100000/100000 [00:00<00:00, 126421.54it/s]\n",
      "Decoding geohashes: 100%|██████████| 100000/100000 [00:00<00:00, 117375.82it/s]\n"
     ]
    },
    {
     "name": "stdout",
     "output_type": "stream",
     "text": [
      "Processing batch 582/663\n"
     ]
    },
    {
     "name": "stderr",
     "output_type": "stream",
     "text": [
      "Decoding geohashes: 100%|██████████| 100000/100000 [00:00<00:00, 115440.56it/s]\n",
      "Decoding geohashes: 100%|██████████| 100000/100000 [00:00<00:00, 121528.38it/s]\n"
     ]
    },
    {
     "name": "stdout",
     "output_type": "stream",
     "text": [
      "Processing batch 583/663\n"
     ]
    },
    {
     "name": "stderr",
     "output_type": "stream",
     "text": [
      "Decoding geohashes: 100%|██████████| 100000/100000 [00:00<00:00, 117260.31it/s]\n",
      "Decoding geohashes: 100%|██████████| 100000/100000 [00:00<00:00, 134734.68it/s]\n"
     ]
    },
    {
     "name": "stdout",
     "output_type": "stream",
     "text": [
      "Processing batch 584/663\n"
     ]
    },
    {
     "name": "stderr",
     "output_type": "stream",
     "text": [
      "Decoding geohashes: 100%|██████████| 100000/100000 [00:00<00:00, 121151.51it/s]\n",
      "Decoding geohashes: 100%|██████████| 100000/100000 [00:00<00:00, 134296.37it/s]\n"
     ]
    },
    {
     "name": "stdout",
     "output_type": "stream",
     "text": [
      "Processing batch 585/663\n"
     ]
    },
    {
     "name": "stderr",
     "output_type": "stream",
     "text": [
      "Decoding geohashes: 100%|██████████| 100000/100000 [00:00<00:00, 134263.14it/s]\n",
      "Decoding geohashes: 100%|██████████| 100000/100000 [00:00<00:00, 129400.83it/s]\n"
     ]
    },
    {
     "name": "stdout",
     "output_type": "stream",
     "text": [
      "Processing batch 586/663\n"
     ]
    },
    {
     "name": "stderr",
     "output_type": "stream",
     "text": [
      "Decoding geohashes: 100%|██████████| 100000/100000 [00:00<00:00, 140561.01it/s]\n",
      "Decoding geohashes: 100%|██████████| 100000/100000 [00:00<00:00, 133232.87it/s]\n"
     ]
    },
    {
     "name": "stdout",
     "output_type": "stream",
     "text": [
      "Processing batch 587/663\n"
     ]
    },
    {
     "name": "stderr",
     "output_type": "stream",
     "text": [
      "Decoding geohashes: 100%|██████████| 100000/100000 [00:00<00:00, 140420.17it/s]\n",
      "Decoding geohashes: 100%|██████████| 100000/100000 [00:00<00:00, 124676.71it/s]\n"
     ]
    },
    {
     "name": "stdout",
     "output_type": "stream",
     "text": [
      "Processing batch 588/663\n"
     ]
    },
    {
     "name": "stderr",
     "output_type": "stream",
     "text": [
      "Decoding geohashes: 100%|██████████| 100000/100000 [00:00<00:00, 145483.96it/s]\n",
      "Decoding geohashes: 100%|██████████| 100000/100000 [00:00<00:00, 139102.66it/s]\n"
     ]
    },
    {
     "name": "stdout",
     "output_type": "stream",
     "text": [
      "Processing batch 589/663\n"
     ]
    },
    {
     "name": "stderr",
     "output_type": "stream",
     "text": [
      "Decoding geohashes: 100%|██████████| 100000/100000 [00:00<00:00, 132644.29it/s]\n",
      "Decoding geohashes: 100%|██████████| 100000/100000 [00:00<00:00, 139246.74it/s]\n"
     ]
    },
    {
     "name": "stdout",
     "output_type": "stream",
     "text": [
      "Processing batch 590/663\n"
     ]
    },
    {
     "name": "stderr",
     "output_type": "stream",
     "text": [
      "Decoding geohashes: 100%|██████████| 100000/100000 [00:00<00:00, 137410.40it/s]\n",
      "Decoding geohashes: 100%|██████████| 100000/100000 [00:00<00:00, 142303.29it/s]\n"
     ]
    },
    {
     "name": "stdout",
     "output_type": "stream",
     "text": [
      "Processing batch 591/663\n"
     ]
    },
    {
     "name": "stderr",
     "output_type": "stream",
     "text": [
      "Decoding geohashes: 100%|██████████| 100000/100000 [00:00<00:00, 133423.21it/s]\n",
      "Decoding geohashes: 100%|██████████| 100000/100000 [00:00<00:00, 145006.79it/s]\n"
     ]
    },
    {
     "name": "stdout",
     "output_type": "stream",
     "text": [
      "Processing batch 592/663\n"
     ]
    },
    {
     "name": "stderr",
     "output_type": "stream",
     "text": [
      "Decoding geohashes: 100%|██████████| 100000/100000 [00:00<00:00, 130507.64it/s]\n",
      "Decoding geohashes: 100%|██████████| 100000/100000 [00:00<00:00, 135579.99it/s]\n"
     ]
    },
    {
     "name": "stdout",
     "output_type": "stream",
     "text": [
      "Processing batch 593/663\n"
     ]
    },
    {
     "name": "stderr",
     "output_type": "stream",
     "text": [
      "Decoding geohashes: 100%|██████████| 100000/100000 [00:00<00:00, 133224.87it/s]\n",
      "Decoding geohashes: 100%|██████████| 100000/100000 [00:00<00:00, 127016.14it/s]\n"
     ]
    },
    {
     "name": "stdout",
     "output_type": "stream",
     "text": [
      "Processing batch 594/663\n"
     ]
    },
    {
     "name": "stderr",
     "output_type": "stream",
     "text": [
      "Decoding geohashes: 100%|██████████| 100000/100000 [00:00<00:00, 129057.33it/s]\n",
      "Decoding geohashes: 100%|██████████| 100000/100000 [00:00<00:00, 132470.22it/s]\n"
     ]
    },
    {
     "name": "stdout",
     "output_type": "stream",
     "text": [
      "Processing batch 595/663\n"
     ]
    },
    {
     "name": "stderr",
     "output_type": "stream",
     "text": [
      "Decoding geohashes: 100%|██████████| 100000/100000 [00:00<00:00, 127139.88it/s]\n",
      "Decoding geohashes: 100%|██████████| 100000/100000 [00:00<00:00, 139183.25it/s]\n"
     ]
    },
    {
     "name": "stdout",
     "output_type": "stream",
     "text": [
      "Processing batch 596/663\n"
     ]
    },
    {
     "name": "stderr",
     "output_type": "stream",
     "text": [
      "Decoding geohashes: 100%|██████████| 100000/100000 [00:00<00:00, 139077.70it/s]\n",
      "Decoding geohashes: 100%|██████████| 100000/100000 [00:00<00:00, 136823.06it/s]\n"
     ]
    },
    {
     "name": "stdout",
     "output_type": "stream",
     "text": [
      "Processing batch 597/663\n"
     ]
    },
    {
     "name": "stderr",
     "output_type": "stream",
     "text": [
      "Decoding geohashes: 100%|██████████| 100000/100000 [00:00<00:00, 135487.71it/s]\n",
      "Decoding geohashes: 100%|██████████| 100000/100000 [00:00<00:00, 143905.15it/s]\n"
     ]
    },
    {
     "name": "stdout",
     "output_type": "stream",
     "text": [
      "Processing batch 598/663\n"
     ]
    },
    {
     "name": "stderr",
     "output_type": "stream",
     "text": [
      "Decoding geohashes: 100%|██████████| 100000/100000 [00:00<00:00, 132923.29it/s]\n",
      "Decoding geohashes: 100%|██████████| 100000/100000 [00:00<00:00, 133126.35it/s]\n"
     ]
    },
    {
     "name": "stdout",
     "output_type": "stream",
     "text": [
      "Processing batch 599/663\n"
     ]
    },
    {
     "name": "stderr",
     "output_type": "stream",
     "text": [
      "Decoding geohashes: 100%|██████████| 100000/100000 [00:00<00:00, 136619.92it/s]\n",
      "Decoding geohashes: 100%|██████████| 100000/100000 [00:00<00:00, 133608.52it/s]\n"
     ]
    },
    {
     "name": "stdout",
     "output_type": "stream",
     "text": [
      "Processing batch 600/663\n"
     ]
    },
    {
     "name": "stderr",
     "output_type": "stream",
     "text": [
      "Decoding geohashes: 100%|██████████| 100000/100000 [00:00<00:00, 119949.19it/s]\n",
      "Decoding geohashes: 100%|██████████| 100000/100000 [00:00<00:00, 130437.99it/s]\n"
     ]
    },
    {
     "name": "stdout",
     "output_type": "stream",
     "text": [
      "Processing batch 601/663\n"
     ]
    },
    {
     "name": "stderr",
     "output_type": "stream",
     "text": [
      "Decoding geohashes: 100%|██████████| 100000/100000 [00:00<00:00, 125240.12it/s]\n",
      "Decoding geohashes: 100%|██████████| 100000/100000 [00:00<00:00, 126635.75it/s]\n"
     ]
    },
    {
     "name": "stdout",
     "output_type": "stream",
     "text": [
      "Processing batch 602/663\n"
     ]
    },
    {
     "name": "stderr",
     "output_type": "stream",
     "text": [
      "Decoding geohashes: 100%|██████████| 100000/100000 [00:00<00:00, 123659.50it/s]\n",
      "Decoding geohashes: 100%|██████████| 100000/100000 [00:00<00:00, 118162.82it/s]\n"
     ]
    },
    {
     "name": "stdout",
     "output_type": "stream",
     "text": [
      "Processing batch 603/663\n"
     ]
    },
    {
     "name": "stderr",
     "output_type": "stream",
     "text": [
      "Decoding geohashes: 100%|██████████| 100000/100000 [00:00<00:00, 121234.64it/s]\n",
      "Decoding geohashes: 100%|██████████| 100000/100000 [00:00<00:00, 124133.41it/s]\n"
     ]
    },
    {
     "name": "stdout",
     "output_type": "stream",
     "text": [
      "Processing batch 604/663\n"
     ]
    },
    {
     "name": "stderr",
     "output_type": "stream",
     "text": [
      "Decoding geohashes: 100%|██████████| 100000/100000 [00:00<00:00, 136314.48it/s]\n",
      "Decoding geohashes: 100%|██████████| 100000/100000 [00:00<00:00, 117318.36it/s]\n"
     ]
    },
    {
     "name": "stdout",
     "output_type": "stream",
     "text": [
      "Processing batch 605/663\n"
     ]
    },
    {
     "name": "stderr",
     "output_type": "stream",
     "text": [
      "Decoding geohashes: 100%|██████████| 100000/100000 [00:00<00:00, 110830.94it/s]\n",
      "Decoding geohashes: 100%|██████████| 100000/100000 [00:00<00:00, 112357.31it/s]\n"
     ]
    },
    {
     "name": "stdout",
     "output_type": "stream",
     "text": [
      "Processing batch 606/663\n"
     ]
    },
    {
     "name": "stderr",
     "output_type": "stream",
     "text": [
      "Decoding geohashes: 100%|██████████| 100000/100000 [00:00<00:00, 124848.01it/s]\n",
      "Decoding geohashes: 100%|██████████| 100000/100000 [00:00<00:00, 130446.91it/s]\n"
     ]
    },
    {
     "name": "stdout",
     "output_type": "stream",
     "text": [
      "Processing batch 607/663\n"
     ]
    },
    {
     "name": "stderr",
     "output_type": "stream",
     "text": [
      "Decoding geohashes: 100%|██████████| 100000/100000 [00:00<00:00, 128676.21it/s]\n",
      "Decoding geohashes: 100%|██████████| 100000/100000 [00:00<00:00, 132863.58it/s]\n"
     ]
    },
    {
     "name": "stdout",
     "output_type": "stream",
     "text": [
      "Processing batch 608/663\n"
     ]
    },
    {
     "name": "stderr",
     "output_type": "stream",
     "text": [
      "Decoding geohashes: 100%|██████████| 100000/100000 [00:00<00:00, 130428.78it/s]\n",
      "Decoding geohashes: 100%|██████████| 100000/100000 [00:00<00:00, 122486.32it/s]\n"
     ]
    },
    {
     "name": "stdout",
     "output_type": "stream",
     "text": [
      "Processing batch 609/663\n"
     ]
    },
    {
     "name": "stderr",
     "output_type": "stream",
     "text": [
      "Decoding geohashes: 100%|██████████| 100000/100000 [00:00<00:00, 126067.10it/s]\n",
      "Decoding geohashes: 100%|██████████| 100000/100000 [00:00<00:00, 129557.95it/s]\n"
     ]
    },
    {
     "name": "stdout",
     "output_type": "stream",
     "text": [
      "Processing batch 610/663\n"
     ]
    },
    {
     "name": "stderr",
     "output_type": "stream",
     "text": [
      "Decoding geohashes: 100%|██████████| 100000/100000 [00:00<00:00, 131403.51it/s]\n",
      "Decoding geohashes: 100%|██████████| 100000/100000 [00:00<00:00, 117929.13it/s]\n"
     ]
    },
    {
     "name": "stdout",
     "output_type": "stream",
     "text": [
      "Processing batch 611/663\n"
     ]
    },
    {
     "name": "stderr",
     "output_type": "stream",
     "text": [
      "Decoding geohashes: 100%|██████████| 100000/100000 [00:00<00:00, 117651.53it/s]\n",
      "Decoding geohashes: 100%|██████████| 100000/100000 [00:00<00:00, 126701.59it/s]\n"
     ]
    },
    {
     "name": "stdout",
     "output_type": "stream",
     "text": [
      "Processing batch 612/663\n"
     ]
    },
    {
     "name": "stderr",
     "output_type": "stream",
     "text": [
      "Decoding geohashes: 100%|██████████| 100000/100000 [00:00<00:00, 119903.96it/s]\n",
      "Decoding geohashes: 100%|██████████| 100000/100000 [00:00<00:00, 117693.65it/s]\n"
     ]
    },
    {
     "name": "stdout",
     "output_type": "stream",
     "text": [
      "Processing batch 613/663\n"
     ]
    },
    {
     "name": "stderr",
     "output_type": "stream",
     "text": [
      "Decoding geohashes: 100%|██████████| 100000/100000 [00:00<00:00, 103686.26it/s]\n",
      "Decoding geohashes: 100%|██████████| 100000/100000 [00:00<00:00, 128354.49it/s]\n"
     ]
    },
    {
     "name": "stdout",
     "output_type": "stream",
     "text": [
      "Processing batch 614/663\n"
     ]
    },
    {
     "name": "stderr",
     "output_type": "stream",
     "text": [
      "Decoding geohashes: 100%|██████████| 100000/100000 [00:00<00:00, 142483.21it/s]\n",
      "Decoding geohashes: 100%|██████████| 100000/100000 [00:00<00:00, 131114.41it/s]\n"
     ]
    },
    {
     "name": "stdout",
     "output_type": "stream",
     "text": [
      "Processing batch 615/663\n"
     ]
    },
    {
     "name": "stderr",
     "output_type": "stream",
     "text": [
      "Decoding geohashes: 100%|██████████| 100000/100000 [00:00<00:00, 123550.11it/s]\n",
      "Decoding geohashes: 100%|██████████| 100000/100000 [00:00<00:00, 130872.13it/s]\n"
     ]
    },
    {
     "name": "stdout",
     "output_type": "stream",
     "text": [
      "Processing batch 616/663\n"
     ]
    },
    {
     "name": "stderr",
     "output_type": "stream",
     "text": [
      "Decoding geohashes: 100%|██████████| 100000/100000 [00:00<00:00, 138653.07it/s]\n",
      "Decoding geohashes: 100%|██████████| 100000/100000 [00:00<00:00, 144499.98it/s]\n"
     ]
    },
    {
     "name": "stdout",
     "output_type": "stream",
     "text": [
      "Processing batch 617/663\n"
     ]
    },
    {
     "name": "stderr",
     "output_type": "stream",
     "text": [
      "Decoding geohashes: 100%|██████████| 100000/100000 [00:00<00:00, 141150.74it/s]\n",
      "Decoding geohashes: 100%|██████████| 100000/100000 [00:00<00:00, 146571.63it/s]\n"
     ]
    },
    {
     "name": "stdout",
     "output_type": "stream",
     "text": [
      "Processing batch 618/663\n"
     ]
    },
    {
     "name": "stderr",
     "output_type": "stream",
     "text": [
      "Decoding geohashes: 100%|██████████| 100000/100000 [00:00<00:00, 140093.22it/s]\n",
      "Decoding geohashes: 100%|██████████| 100000/100000 [00:00<00:00, 144399.04it/s]\n"
     ]
    },
    {
     "name": "stdout",
     "output_type": "stream",
     "text": [
      "Processing batch 619/663\n"
     ]
    },
    {
     "name": "stderr",
     "output_type": "stream",
     "text": [
      "Decoding geohashes: 100%|██████████| 100000/100000 [00:00<00:00, 133965.36it/s]\n",
      "Decoding geohashes: 100%|██████████| 100000/100000 [00:00<00:00, 126820.50it/s]\n"
     ]
    },
    {
     "name": "stdout",
     "output_type": "stream",
     "text": [
      "Processing batch 620/663\n"
     ]
    },
    {
     "name": "stderr",
     "output_type": "stream",
     "text": [
      "Decoding geohashes: 100%|██████████| 100000/100000 [00:00<00:00, 117658.13it/s]\n",
      "Decoding geohashes: 100%|██████████| 100000/100000 [00:00<00:00, 144155.51it/s]\n"
     ]
    },
    {
     "name": "stdout",
     "output_type": "stream",
     "text": [
      "Processing batch 621/663\n"
     ]
    },
    {
     "name": "stderr",
     "output_type": "stream",
     "text": [
      "Decoding geohashes: 100%|██████████| 100000/100000 [00:00<00:00, 143501.67it/s]\n",
      "Decoding geohashes: 100%|██████████| 100000/100000 [00:00<00:00, 146578.95it/s]\n"
     ]
    },
    {
     "name": "stdout",
     "output_type": "stream",
     "text": [
      "Processing batch 622/663\n"
     ]
    },
    {
     "name": "stderr",
     "output_type": "stream",
     "text": [
      "Decoding geohashes: 100%|██████████| 100000/100000 [00:00<00:00, 131931.28it/s]\n",
      "Decoding geohashes: 100%|██████████| 100000/100000 [00:00<00:00, 130900.72it/s]\n"
     ]
    },
    {
     "name": "stdout",
     "output_type": "stream",
     "text": [
      "Processing batch 623/663\n"
     ]
    },
    {
     "name": "stderr",
     "output_type": "stream",
     "text": [
      "Decoding geohashes: 100%|██████████| 100000/100000 [00:00<00:00, 122928.96it/s]\n",
      "Decoding geohashes: 100%|██████████| 100000/100000 [00:00<00:00, 117001.57it/s]\n"
     ]
    },
    {
     "name": "stdout",
     "output_type": "stream",
     "text": [
      "Processing batch 624/663\n"
     ]
    },
    {
     "name": "stderr",
     "output_type": "stream",
     "text": [
      "Decoding geohashes: 100%|██████████| 100000/100000 [00:00<00:00, 117131.78it/s]\n",
      "Decoding geohashes: 100%|██████████| 100000/100000 [00:00<00:00, 132349.34it/s]\n"
     ]
    },
    {
     "name": "stdout",
     "output_type": "stream",
     "text": [
      "Processing batch 625/663\n"
     ]
    },
    {
     "name": "stderr",
     "output_type": "stream",
     "text": [
      "Decoding geohashes: 100%|██████████| 100000/100000 [00:00<00:00, 134346.06it/s]\n",
      "Decoding geohashes: 100%|██████████| 100000/100000 [00:00<00:00, 150042.70it/s]\n"
     ]
    },
    {
     "name": "stdout",
     "output_type": "stream",
     "text": [
      "Processing batch 626/663\n"
     ]
    },
    {
     "name": "stderr",
     "output_type": "stream",
     "text": [
      "Decoding geohashes: 100%|██████████| 100000/100000 [00:00<00:00, 122640.36it/s]\n",
      "Decoding geohashes: 100%|██████████| 100000/100000 [00:00<00:00, 138720.30it/s]\n"
     ]
    },
    {
     "name": "stdout",
     "output_type": "stream",
     "text": [
      "Processing batch 627/663\n"
     ]
    },
    {
     "name": "stderr",
     "output_type": "stream",
     "text": [
      "Decoding geohashes: 100%|██████████| 100000/100000 [00:00<00:00, 124419.89it/s]\n",
      "Decoding geohashes: 100%|██████████| 100000/100000 [00:00<00:00, 123485.99it/s]\n"
     ]
    },
    {
     "name": "stdout",
     "output_type": "stream",
     "text": [
      "Processing batch 628/663\n"
     ]
    },
    {
     "name": "stderr",
     "output_type": "stream",
     "text": [
      "Decoding geohashes: 100%|██████████| 100000/100000 [00:00<00:00, 116324.20it/s]\n",
      "Decoding geohashes: 100%|██████████| 100000/100000 [00:00<00:00, 118941.46it/s]\n"
     ]
    },
    {
     "name": "stdout",
     "output_type": "stream",
     "text": [
      "Processing batch 629/663\n"
     ]
    },
    {
     "name": "stderr",
     "output_type": "stream",
     "text": [
      "Decoding geohashes: 100%|██████████| 100000/100000 [00:00<00:00, 111092.03it/s]\n",
      "Decoding geohashes: 100%|██████████| 100000/100000 [00:00<00:00, 120987.22it/s]\n"
     ]
    },
    {
     "name": "stdout",
     "output_type": "stream",
     "text": [
      "Processing batch 630/663\n"
     ]
    },
    {
     "name": "stderr",
     "output_type": "stream",
     "text": [
      "Decoding geohashes: 100%|██████████| 100000/100000 [00:00<00:00, 117838.28it/s]\n",
      "Decoding geohashes: 100%|██████████| 100000/100000 [00:00<00:00, 125419.39it/s]\n"
     ]
    },
    {
     "name": "stdout",
     "output_type": "stream",
     "text": [
      "Processing batch 631/663\n"
     ]
    },
    {
     "name": "stderr",
     "output_type": "stream",
     "text": [
      "Decoding geohashes: 100%|██████████| 100000/100000 [00:00<00:00, 117969.36it/s]\n",
      "Decoding geohashes: 100%|██████████| 100000/100000 [00:00<00:00, 128715.58it/s]\n"
     ]
    },
    {
     "name": "stdout",
     "output_type": "stream",
     "text": [
      "Processing batch 632/663\n"
     ]
    },
    {
     "name": "stderr",
     "output_type": "stream",
     "text": [
      "Decoding geohashes: 100%|██████████| 100000/100000 [00:00<00:00, 126842.82it/s]\n",
      "Decoding geohashes: 100%|██████████| 100000/100000 [00:00<00:00, 126009.30it/s]\n"
     ]
    },
    {
     "name": "stdout",
     "output_type": "stream",
     "text": [
      "Processing batch 633/663\n"
     ]
    },
    {
     "name": "stderr",
     "output_type": "stream",
     "text": [
      "Decoding geohashes: 100%|██████████| 100000/100000 [00:00<00:00, 123747.83it/s]\n",
      "Decoding geohashes: 100%|██████████| 100000/100000 [00:00<00:00, 131025.77it/s]\n"
     ]
    },
    {
     "name": "stdout",
     "output_type": "stream",
     "text": [
      "Processing batch 634/663\n"
     ]
    },
    {
     "name": "stderr",
     "output_type": "stream",
     "text": [
      "Decoding geohashes: 100%|██████████| 100000/100000 [00:00<00:00, 129902.59it/s]\n",
      "Decoding geohashes: 100%|██████████| 100000/100000 [00:00<00:00, 117379.93it/s]\n"
     ]
    },
    {
     "name": "stdout",
     "output_type": "stream",
     "text": [
      "Processing batch 635/663\n"
     ]
    },
    {
     "name": "stderr",
     "output_type": "stream",
     "text": [
      "Decoding geohashes: 100%|██████████| 100000/100000 [00:00<00:00, 119910.03it/s]\n",
      "Decoding geohashes: 100%|██████████| 100000/100000 [00:00<00:00, 150753.64it/s]\n"
     ]
    },
    {
     "name": "stdout",
     "output_type": "stream",
     "text": [
      "Processing batch 636/663\n"
     ]
    },
    {
     "name": "stderr",
     "output_type": "stream",
     "text": [
      "Decoding geohashes: 100%|██████████| 100000/100000 [00:00<00:00, 142527.66it/s]\n",
      "Decoding geohashes: 100%|██████████| 100000/100000 [00:00<00:00, 138791.82it/s]\n"
     ]
    },
    {
     "name": "stdout",
     "output_type": "stream",
     "text": [
      "Processing batch 637/663\n"
     ]
    },
    {
     "name": "stderr",
     "output_type": "stream",
     "text": [
      "Decoding geohashes: 100%|██████████| 100000/100000 [00:00<00:00, 137773.52it/s]\n",
      "Decoding geohashes: 100%|██████████| 100000/100000 [00:00<00:00, 144997.01it/s]\n"
     ]
    },
    {
     "name": "stdout",
     "output_type": "stream",
     "text": [
      "Processing batch 638/663\n"
     ]
    },
    {
     "name": "stderr",
     "output_type": "stream",
     "text": [
      "Decoding geohashes: 100%|██████████| 100000/100000 [00:00<00:00, 144046.69it/s]\n",
      "Decoding geohashes: 100%|██████████| 100000/100000 [00:00<00:00, 129074.13it/s]\n"
     ]
    },
    {
     "name": "stdout",
     "output_type": "stream",
     "text": [
      "Processing batch 639/663\n"
     ]
    },
    {
     "name": "stderr",
     "output_type": "stream",
     "text": [
      "Decoding geohashes: 100%|██████████| 100000/100000 [00:00<00:00, 148109.86it/s]\n",
      "Decoding geohashes: 100%|██████████| 100000/100000 [00:00<00:00, 127173.54it/s]\n"
     ]
    },
    {
     "name": "stdout",
     "output_type": "stream",
     "text": [
      "Processing batch 640/663\n"
     ]
    },
    {
     "name": "stderr",
     "output_type": "stream",
     "text": [
      "Decoding geohashes: 100%|██████████| 100000/100000 [00:00<00:00, 131365.89it/s]\n",
      "Decoding geohashes: 100%|██████████| 100000/100000 [00:00<00:00, 135995.20it/s]\n"
     ]
    },
    {
     "name": "stdout",
     "output_type": "stream",
     "text": [
      "Processing batch 641/663\n"
     ]
    },
    {
     "name": "stderr",
     "output_type": "stream",
     "text": [
      "Decoding geohashes: 100%|██████████| 100000/100000 [00:00<00:00, 148015.78it/s]\n",
      "Decoding geohashes: 100%|██████████| 100000/100000 [00:00<00:00, 150382.80it/s]\n"
     ]
    },
    {
     "name": "stdout",
     "output_type": "stream",
     "text": [
      "Processing batch 642/663\n"
     ]
    },
    {
     "name": "stderr",
     "output_type": "stream",
     "text": [
      "Decoding geohashes: 100%|██████████| 100000/100000 [00:00<00:00, 145708.76it/s]\n",
      "Decoding geohashes: 100%|██████████| 100000/100000 [00:00<00:00, 116756.45it/s]\n"
     ]
    },
    {
     "name": "stdout",
     "output_type": "stream",
     "text": [
      "Processing batch 643/663\n"
     ]
    },
    {
     "name": "stderr",
     "output_type": "stream",
     "text": [
      "Decoding geohashes: 100%|██████████| 100000/100000 [00:00<00:00, 134080.09it/s]\n",
      "Decoding geohashes: 100%|██████████| 100000/100000 [00:00<00:00, 116148.42it/s]\n"
     ]
    },
    {
     "name": "stdout",
     "output_type": "stream",
     "text": [
      "Processing batch 644/663\n"
     ]
    },
    {
     "name": "stderr",
     "output_type": "stream",
     "text": [
      "Decoding geohashes: 100%|██████████| 100000/100000 [00:00<00:00, 119793.65it/s]\n",
      "Decoding geohashes: 100%|██████████| 100000/100000 [00:00<00:00, 138136.29it/s]\n"
     ]
    },
    {
     "name": "stdout",
     "output_type": "stream",
     "text": [
      "Processing batch 645/663\n"
     ]
    },
    {
     "name": "stderr",
     "output_type": "stream",
     "text": [
      "Decoding geohashes: 100%|██████████| 100000/100000 [00:00<00:00, 146042.80it/s]\n",
      "Decoding geohashes: 100%|██████████| 100000/100000 [00:00<00:00, 125658.48it/s]\n"
     ]
    },
    {
     "name": "stdout",
     "output_type": "stream",
     "text": [
      "Processing batch 646/663\n"
     ]
    },
    {
     "name": "stderr",
     "output_type": "stream",
     "text": [
      "Decoding geohashes: 100%|██████████| 100000/100000 [00:00<00:00, 139224.09it/s]\n",
      "Decoding geohashes: 100%|██████████| 100000/100000 [00:00<00:00, 130221.57it/s]\n"
     ]
    },
    {
     "name": "stdout",
     "output_type": "stream",
     "text": [
      "Processing batch 647/663\n"
     ]
    },
    {
     "name": "stderr",
     "output_type": "stream",
     "text": [
      "Decoding geohashes: 100%|██████████| 100000/100000 [00:00<00:00, 126487.12it/s]\n",
      "Decoding geohashes: 100%|██████████| 100000/100000 [00:00<00:00, 135223.01it/s]\n"
     ]
    },
    {
     "name": "stdout",
     "output_type": "stream",
     "text": [
      "Processing batch 648/663\n"
     ]
    },
    {
     "name": "stderr",
     "output_type": "stream",
     "text": [
      "Decoding geohashes: 100%|██████████| 100000/100000 [00:00<00:00, 120615.61it/s]\n",
      "Decoding geohashes: 100%|██████████| 100000/100000 [00:00<00:00, 129087.28it/s]\n"
     ]
    },
    {
     "name": "stdout",
     "output_type": "stream",
     "text": [
      "Processing batch 649/663\n"
     ]
    },
    {
     "name": "stderr",
     "output_type": "stream",
     "text": [
      "Decoding geohashes: 100%|██████████| 100000/100000 [00:00<00:00, 128435.89it/s]\n",
      "Decoding geohashes: 100%|██████████| 100000/100000 [00:00<00:00, 130178.97it/s]\n"
     ]
    },
    {
     "name": "stdout",
     "output_type": "stream",
     "text": [
      "Processing batch 650/663\n"
     ]
    },
    {
     "name": "stderr",
     "output_type": "stream",
     "text": [
      "Decoding geohashes: 100%|██████████| 100000/100000 [00:00<00:00, 121952.36it/s]\n",
      "Decoding geohashes: 100%|██████████| 100000/100000 [00:00<00:00, 128712.54it/s]\n"
     ]
    },
    {
     "name": "stdout",
     "output_type": "stream",
     "text": [
      "Processing batch 651/663\n"
     ]
    },
    {
     "name": "stderr",
     "output_type": "stream",
     "text": [
      "Decoding geohashes: 100%|██████████| 100000/100000 [00:00<00:00, 121909.33it/s]\n",
      "Decoding geohashes: 100%|██████████| 100000/100000 [00:00<00:00, 125031.35it/s]\n"
     ]
    },
    {
     "name": "stdout",
     "output_type": "stream",
     "text": [
      "Processing batch 652/663\n"
     ]
    },
    {
     "name": "stderr",
     "output_type": "stream",
     "text": [
      "Decoding geohashes: 100%|██████████| 100000/100000 [00:00<00:00, 128553.87it/s]\n",
      "Decoding geohashes: 100%|██████████| 100000/100000 [00:00<00:00, 128007.07it/s]\n"
     ]
    },
    {
     "name": "stdout",
     "output_type": "stream",
     "text": [
      "Processing batch 653/663\n"
     ]
    },
    {
     "name": "stderr",
     "output_type": "stream",
     "text": [
      "Decoding geohashes: 100%|██████████| 100000/100000 [00:00<00:00, 115925.63it/s]\n",
      "Decoding geohashes: 100%|██████████| 100000/100000 [00:00<00:00, 111970.38it/s]\n"
     ]
    },
    {
     "name": "stdout",
     "output_type": "stream",
     "text": [
      "Processing batch 654/663\n"
     ]
    },
    {
     "name": "stderr",
     "output_type": "stream",
     "text": [
      "Decoding geohashes: 100%|██████████| 100000/100000 [00:00<00:00, 116814.27it/s]\n",
      "Decoding geohashes: 100%|██████████| 100000/100000 [00:00<00:00, 127118.11it/s]\n"
     ]
    },
    {
     "name": "stdout",
     "output_type": "stream",
     "text": [
      "Processing batch 655/663\n"
     ]
    },
    {
     "name": "stderr",
     "output_type": "stream",
     "text": [
      "Decoding geohashes: 100%|██████████| 100000/100000 [00:00<00:00, 117013.65it/s]\n",
      "Decoding geohashes: 100%|██████████| 100000/100000 [00:00<00:00, 113957.88it/s]\n"
     ]
    },
    {
     "name": "stdout",
     "output_type": "stream",
     "text": [
      "Processing batch 656/663\n"
     ]
    },
    {
     "name": "stderr",
     "output_type": "stream",
     "text": [
      "Decoding geohashes: 100%|██████████| 100000/100000 [00:00<00:00, 126302.96it/s]\n",
      "Decoding geohashes: 100%|██████████| 100000/100000 [00:00<00:00, 127888.96it/s]\n"
     ]
    },
    {
     "name": "stdout",
     "output_type": "stream",
     "text": [
      "Processing batch 657/663\n"
     ]
    },
    {
     "name": "stderr",
     "output_type": "stream",
     "text": [
      "Decoding geohashes: 100%|██████████| 100000/100000 [00:00<00:00, 118028.85it/s]\n",
      "Decoding geohashes: 100%|██████████| 100000/100000 [00:00<00:00, 126795.66it/s]\n"
     ]
    },
    {
     "name": "stdout",
     "output_type": "stream",
     "text": [
      "Processing batch 658/663\n"
     ]
    },
    {
     "name": "stderr",
     "output_type": "stream",
     "text": [
      "Decoding geohashes: 100%|██████████| 100000/100000 [00:00<00:00, 129336.59it/s]\n",
      "Decoding geohashes: 100%|██████████| 100000/100000 [00:00<00:00, 118056.92it/s]\n"
     ]
    },
    {
     "name": "stdout",
     "output_type": "stream",
     "text": [
      "Processing batch 659/663\n"
     ]
    },
    {
     "name": "stderr",
     "output_type": "stream",
     "text": [
      "Decoding geohashes: 100%|██████████| 100000/100000 [00:00<00:00, 121872.42it/s]\n",
      "Decoding geohashes: 100%|██████████| 100000/100000 [00:00<00:00, 127108.44it/s]\n"
     ]
    },
    {
     "name": "stdout",
     "output_type": "stream",
     "text": [
      "Processing batch 660/663\n"
     ]
    },
    {
     "name": "stderr",
     "output_type": "stream",
     "text": [
      "Decoding geohashes: 100%|██████████| 100000/100000 [00:00<00:00, 123887.42it/s]\n",
      "Decoding geohashes: 100%|██████████| 100000/100000 [00:00<00:00, 122419.40it/s]\n"
     ]
    },
    {
     "name": "stdout",
     "output_type": "stream",
     "text": [
      "Processing batch 661/663\n"
     ]
    },
    {
     "name": "stderr",
     "output_type": "stream",
     "text": [
      "Decoding geohashes: 100%|██████████| 100000/100000 [00:00<00:00, 116939.30it/s]\n",
      "Decoding geohashes: 100%|██████████| 100000/100000 [00:00<00:00, 126935.64it/s]\n"
     ]
    },
    {
     "name": "stdout",
     "output_type": "stream",
     "text": [
      "Processing batch 662/663\n"
     ]
    },
    {
     "name": "stderr",
     "output_type": "stream",
     "text": [
      "Decoding geohashes: 100%|██████████| 100000/100000 [00:00<00:00, 127688.61it/s]\n",
      "Decoding geohashes: 100%|██████████| 100000/100000 [00:00<00:00, 124447.36it/s]\n"
     ]
    },
    {
     "name": "stdout",
     "output_type": "stream",
     "text": [
      "Processing batch 663/663\n"
     ]
    },
    {
     "name": "stderr",
     "output_type": "stream",
     "text": [
      "Decoding geohashes: 100%|██████████| 95724/95724 [00:00<00:00, 114768.73it/s]\n",
      "Decoding geohashes: 100%|██████████| 95724/95724 [00:00<00:00, 120192.09it/s]\n"
     ]
    },
    {
     "name": "stdout",
     "output_type": "stream",
     "text": [
      "Final dataset shape: (66295724, 8)\n",
      "Total dropped rows: 0 (0.0%)\n",
      "Fully processed data saved to geo_data_fully_processed.pkl\n",
      "\n",
      "=== DATA ANALYSIS ===\n",
      "Total events: 66,295,724\n",
      "Unique clients: 72,573\n",
      "Time range: 2021-12-11 19:27:07 to 2022-12-31 20:59:58\n",
      "Duration: 385 days 01:32:51\n",
      "Average events per client: 913.5\n",
      "Min events per client: 1\n",
      "Max events per client: 39487\n",
      "Latitude range: -89.9780 to 22.5000\n",
      "Longitude range: -179.8242 to -16.8750\n",
      "\n",
      "Sample of processed data:\n",
      "                                                  client_id  \\\n",
      "34462137  000032cc38caee45fe031778bcf6af05aa2aabe476acb8...   \n",
      "34462138  000032cc38caee45fe031778bcf6af05aa2aabe476acb8...   \n",
      "34462139  000032cc38caee45fe031778bcf6af05aa2aabe476acb8...   \n",
      "34462140  000032cc38caee45fe031778bcf6af05aa2aabe476acb8...   \n",
      "34462141  000032cc38caee45fe031778bcf6af05aa2aabe476acb8...   \n",
      "34462142  000032cc38caee45fe031778bcf6af05aa2aabe476acb8...   \n",
      "34462143  000032cc38caee45fe031778bcf6af05aa2aabe476acb8...   \n",
      "34462144  000032cc38caee45fe031778bcf6af05aa2aabe476acb8...   \n",
      "34462145  000032cc38caee45fe031778bcf6af05aa2aabe476acb8...   \n",
      "34462146  000032cc38caee45fe031778bcf6af05aa2aabe476acb8...   \n",
      "\n",
      "                  event_time  geohash_6   latitude   longitude  fold  \n",
      "34462137 2022-01-07 17:03:02       1018 -89.912109 -132.714844     2  \n",
      "34462138 2022-01-07 19:04:38       1018 -89.912109 -132.714844     2  \n",
      "34462139 2022-01-09 04:15:00        106 -87.890625 -131.484375     2  \n",
      "34462140 2022-01-09 22:09:30       1018 -89.912109 -132.714844     2  \n",
      "34462141 2022-01-09 23:46:11       1018 -89.912109 -132.714844     2  \n",
      "34462142 2022-01-10 11:29:14        106 -87.890625 -131.484375     2  \n",
      "34462143 2022-01-11 20:25:03       1018 -89.912109 -132.714844     2  \n",
      "34462144 2022-01-12 22:07:11       1018 -89.912109 -132.714844     2  \n",
      "34462145 2022-01-13 04:35:51        106 -87.890625 -131.484375     2  \n",
      "34462146 2022-01-14 22:04:39       1018 -89.912109 -132.714844     2  \n",
      "\n",
      "Step 3 completed successfully! Ready for feature engineering in Step 4.\n"
     ]
    }
   ],
   "source": [
    "import pandas as pd\n",
    "import numpy as np\n",
    "import pygeohash as gh\n",
    "from tqdm import tqdm\n",
    "import os\n",
    "\n",
    "# Decode geohashes to latitude and longitude coordinates in batches\n",
    "def decode_geohashes_batch(geo_df_exploded, batch_size=100000, output_file=\"geo_data_fully_processed.pkl\"):\n",
    "    print(\"STEP 3: Decoding geohashes and preparing data...\")\n",
    "    \n",
    "    # Function to decode a geohash integer into (lat, lon)\n",
    "    def decode_geohash_int(geohash_int):\n",
    "        try:\n",
    "            # Convert integer to string and decode\n",
    "            return gh.decode(str(geohash_int))\n",
    "        except:\n",
    "            return (np.nan, np.nan)\n",
    "    \n",
    "    # Process in batches to manage memory\n",
    "    total_rows = len(geo_df_exploded)\n",
    "    num_batches = (total_rows + batch_size - 1) // batch_size\n",
    "    print(f\"Processing {total_rows} rows in {num_batches} batches of size {batch_size}\")\n",
    "    \n",
    "    processed_batches = []\n",
    "    total_dropped = 0\n",
    "    \n",
    "    for batch_num in range(num_batches):\n",
    "        print(f\"Processing batch {batch_num+1}/{num_batches}\")\n",
    "        \n",
    "        # Get the current batch\n",
    "        start_idx = batch_num * batch_size\n",
    "        end_idx = min((batch_num + 1) * batch_size, total_rows)\n",
    "        batch_df = geo_df_exploded.iloc[start_idx:end_idx].copy()\n",
    "        \n",
    "        # Decode geohashes with progress bar\n",
    "        tqdm.pandas(desc=\"Decoding geohashes\")\n",
    "        batch_df['latitude'] = batch_df['geohash_6'].progress_apply(lambda x: decode_geohash_int(x)[0])\n",
    "        batch_df['longitude'] = batch_df['geohash_6'].progress_apply(lambda x: decode_geohash_int(x)[1])\n",
    "        \n",
    "        # Drop rows with invalid coordinates\n",
    "        initial_count = len(batch_df)\n",
    "        batch_df = batch_df.dropna(subset=['latitude', 'longitude'])\n",
    "        dropped_count = initial_count - len(batch_df)\n",
    "        total_dropped += dropped_count\n",
    "        \n",
    "        if dropped_count > 0:\n",
    "            print(f\"  Dropped {dropped_count} rows with invalid coordinates ({dropped_count/initial_count*100:.1f}%)\")\n",
    "        \n",
    "        processed_batches.append(batch_df)\n",
    "        \n",
    "        # Clear memory\n",
    "        del batch_df\n",
    "    \n",
    "    # Combine all processed batches\n",
    "    geo_df_processed = pd.concat(processed_batches, ignore_index=True)\n",
    "    \n",
    "    # Sort the data by client and time\n",
    "    geo_df_processed = geo_df_processed.sort_values(['client_id', 'event_time'])\n",
    "    print(f\"Final dataset shape: {geo_df_processed.shape}\")\n",
    "    print(f\"Total dropped rows: {total_dropped} ({total_dropped/total_rows*100:.1f}%)\")\n",
    "    \n",
    "    # Save the fully processed data\n",
    "    geo_df_processed.to_pickle(output_file)\n",
    "    print(f\"Fully processed data saved to {output_file}\")\n",
    "    \n",
    "    return geo_df_processed\n",
    "\n",
    "# Perform basic analysis on the processed data\n",
    "def analyze_processed_data(geo_df_processed):\n",
    "    print(\"\\n=== DATA ANALYSIS ===\")\n",
    "    \n",
    "    # Basic statistics\n",
    "    print(f\"Total events: {len(geo_df_processed):,}\")\n",
    "    print(f\"Unique clients: {geo_df_processed['client_id'].nunique():,}\")\n",
    "    \n",
    "    # Time range\n",
    "    min_time = geo_df_processed['event_time'].min()\n",
    "    max_time = geo_df_processed['event_time'].max()\n",
    "    print(f\"Time range: {min_time} to {max_time}\")\n",
    "    print(f\"Duration: {max_time - min_time}\")\n",
    "    \n",
    "    # Events per client\n",
    "    events_per_client = geo_df_processed.groupby('client_id').size()\n",
    "    print(f\"Average events per client: {events_per_client.mean():.1f}\")\n",
    "    print(f\"Min events per client: {events_per_client.min()}\")\n",
    "    print(f\"Max events per client: {events_per_client.max()}\")\n",
    "    \n",
    "    # Coordinate range\n",
    "    print(f\"Latitude range: {geo_df_processed['latitude'].min():.4f} to {geo_df_processed['latitude'].max():.4f}\")\n",
    "    print(f\"Longitude range: {geo_df_processed['longitude'].min():.4f} to {geo_df_processed['longitude'].max():.4f}\")\n",
    "    \n",
    "    return events_per_client\n",
    "\n",
    "# Execute Step 3\n",
    "try:\n",
    "    # Load the preprocessed data from Step 2\n",
    "    geo_df_exploded = pd.read_pickle(\"geo_data_preprocessed.pkl\")\n",
    "    print(f\"Loaded preprocessed data with {len(geo_df_exploded):,} rows\")\n",
    "    \n",
    "    # Decode geohashes and process data\n",
    "    geo_df_processed = decode_geohashes_batch(geo_df_exploded, batch_size=100000)\n",
    "    \n",
    "    # Analyze the processed data\n",
    "    events_per_client = analyze_processed_data(geo_df_processed)\n",
    "    \n",
    "    # Display sample of the final processed data\n",
    "    print(\"\\nSample of processed data:\")\n",
    "    print(geo_df_processed[['client_id', 'event_time', 'geohash_6', 'latitude', 'longitude', 'fold']].head(10))\n",
    "    \n",
    "    print(\"\\nStep 3 completed successfully! Ready for feature engineering in Step 4.\")\n",
    "\n",
    "except FileNotFoundError:\n",
    "    print(\"Preprocessed data file not found. Please run Step 2 first.\")\n",
    "except Exception as e:\n",
    "    print(f\"Error in Step 3: {e}\")"
   ]
  },
  {
   "cell_type": "code",
   "execution_count": 19,
   "id": "7a8ae790-377c-4c91-a112-3425cc2ad9d7",
   "metadata": {},
   "outputs": [
    {
     "name": "stdout",
     "output_type": "stream",
     "text": [
      "=== STEP 3 RESULTS INSPECTION ===\n",
      "Loaded processed data with 66,295,724 rows\n",
      "\n",
      "1. BASIC DATASET INFO:\n",
      "Shape: (66295724, 8)\n",
      "\n",
      "Columns and data types:\n",
      "client_id             object\n",
      "event_time    datetime64[ns]\n",
      "geohash_4              int32\n",
      "geohash_5              int32\n",
      "geohash_6              int32\n",
      "fold                   int64\n",
      "latitude             float64\n",
      "longitude            float64\n",
      "dtype: object\n",
      "\n",
      "2. MISSING VALUES CHECK:\n",
      "client_id     0\n",
      "event_time    0\n",
      "geohash_4     0\n",
      "geohash_5     0\n",
      "geohash_6     0\n",
      "fold          0\n",
      "latitude      0\n",
      "longitude     0\n",
      "dtype: int64\n",
      "\n",
      "3. COORDINATE RANGES:\n",
      "Latitude range: [-89.978027, 22.500000]\n",
      "Longitude range: [-179.824219, -16.875000]\n",
      "\n",
      "4. SAMPLE OF DECODED COORDINATES:\n",
      "          geohash_6   latitude   longitude\n",
      "18828958       7250 -44.912109  -29.355469\n",
      "1215691        3504 -27.685547 -134.824219\n",
      "42985155        770 -27.421875  -33.046875\n",
      "8693538       10001 -89.978027 -134.934082\n",
      "61031690       1906 -83.935547 -111.972656\n",
      "7239260         405 -89.296875  -85.078125\n",
      "22256661      10001 -89.978027 -134.934082\n",
      "53305683      10001 -89.978027 -134.934082\n",
      "4689705         126 -87.890625 -120.234375\n",
      "16481054       2731 -26.455078 -167.167969\n",
      "\n",
      "5. COORDINATE DISTRIBUTION:\n"
     ]
    },
    {
     "ename": "KeyboardInterrupt",
     "evalue": "",
     "output_type": "error",
     "traceback": [
      "\u001b[31m---------------------------------------------------------------------------\u001b[39m",
      "\u001b[31mKeyboardInterrupt\u001b[39m                         Traceback (most recent call last)",
      "\u001b[36mCell\u001b[39m\u001b[36m \u001b[39m\u001b[32mIn[19]\u001b[39m\u001b[32m, line 95\u001b[39m\n\u001b[32m     92\u001b[39m         \u001b[38;5;28;01mreturn\u001b[39;00m \u001b[38;5;28;01mNone\u001b[39;00m\n\u001b[32m     94\u001b[39m \u001b[38;5;66;03m# Execute the inspection\u001b[39;00m\n\u001b[32m---> \u001b[39m\u001b[32m95\u001b[39m processed_data = \u001b[43minspect_step3_results\u001b[49m\u001b[43m(\u001b[49m\u001b[43m)\u001b[49m\n\u001b[32m     97\u001b[39m \u001b[38;5;28;01mif\u001b[39;00m processed_data \u001b[38;5;129;01mis\u001b[39;00m \u001b[38;5;129;01mnot\u001b[39;00m \u001b[38;5;28;01mNone\u001b[39;00m:\n\u001b[32m     98\u001b[39m     \u001b[38;5;28mprint\u001b[39m(\u001b[33m\"\u001b[39m\u001b[38;5;130;01m\\n\u001b[39;00m\u001b[33m=== INSPECTION COMPLETE ===\u001b[39m\u001b[33m\"\u001b[39m)\n",
      "\u001b[36mCell\u001b[39m\u001b[36m \u001b[39m\u001b[32mIn[19]\u001b[39m\u001b[32m, line 48\u001b[39m, in \u001b[36minspect_step3_results\u001b[39m\u001b[34m(file_path, sample_size)\u001b[39m\n\u001b[32m     45\u001b[39m axes[\u001b[32m0\u001b[39m].set_title(\u001b[33m'\u001b[39m\u001b[33mLatitude Distribution\u001b[39m\u001b[33m'\u001b[39m)\n\u001b[32m     47\u001b[39m \u001b[38;5;66;03m# Longitude distribution\u001b[39;00m\n\u001b[32m---> \u001b[39m\u001b[32m48\u001b[39m \u001b[43msns\u001b[49m\u001b[43m.\u001b[49m\u001b[43mhistplot\u001b[49m\u001b[43m(\u001b[49m\u001b[43mgeo_df_processed\u001b[49m\u001b[43m[\u001b[49m\u001b[33;43m'\u001b[39;49m\u001b[33;43mlongitude\u001b[39;49m\u001b[33;43m'\u001b[39;49m\u001b[43m]\u001b[49m\u001b[43m.\u001b[49m\u001b[43mdropna\u001b[49m\u001b[43m(\u001b[49m\u001b[43m)\u001b[49m\u001b[43m,\u001b[49m\u001b[43m \u001b[49m\u001b[43max\u001b[49m\u001b[43m=\u001b[49m\u001b[43maxes\u001b[49m\u001b[43m[\u001b[49m\u001b[32;43m1\u001b[39;49m\u001b[43m]\u001b[49m\u001b[43m,\u001b[49m\u001b[43m \u001b[49m\u001b[43mkde\u001b[49m\u001b[43m=\u001b[49m\u001b[38;5;28;43;01mTrue\u001b[39;49;00m\u001b[43m)\u001b[49m\n\u001b[32m     49\u001b[39m axes[\u001b[32m1\u001b[39m].set_title(\u001b[33m'\u001b[39m\u001b[33mLongitude Distribution\u001b[39m\u001b[33m'\u001b[39m)\n\u001b[32m     51\u001b[39m plt.tight_layout()\n",
      "\u001b[36mFile \u001b[39m\u001b[32m~\\.conda\\envs\\TAP-BehaviorAnalysis-\\Lib\\site-packages\\seaborn\\distributions.py:1416\u001b[39m, in \u001b[36mhistplot\u001b[39m\u001b[34m(data, x, y, hue, weights, stat, bins, binwidth, binrange, discrete, cumulative, common_bins, common_norm, multiple, element, fill, shrink, kde, kde_kws, line_kws, thresh, pthresh, pmax, cbar, cbar_ax, cbar_kws, palette, hue_order, hue_norm, color, log_scale, legend, ax, **kwargs)\u001b[39m\n\u001b[32m   1405\u001b[39m estimate_kws = \u001b[38;5;28mdict\u001b[39m(\n\u001b[32m   1406\u001b[39m     stat=stat,\n\u001b[32m   1407\u001b[39m     bins=bins,\n\u001b[32m   (...)\u001b[39m\u001b[32m   1411\u001b[39m     cumulative=cumulative,\n\u001b[32m   1412\u001b[39m )\n\u001b[32m   1414\u001b[39m \u001b[38;5;28;01mif\u001b[39;00m p.univariate:\n\u001b[32m-> \u001b[39m\u001b[32m1416\u001b[39m     \u001b[43mp\u001b[49m\u001b[43m.\u001b[49m\u001b[43mplot_univariate_histogram\u001b[49m\u001b[43m(\u001b[49m\n\u001b[32m   1417\u001b[39m \u001b[43m        \u001b[49m\u001b[43mmultiple\u001b[49m\u001b[43m=\u001b[49m\u001b[43mmultiple\u001b[49m\u001b[43m,\u001b[49m\n\u001b[32m   1418\u001b[39m \u001b[43m        \u001b[49m\u001b[43melement\u001b[49m\u001b[43m=\u001b[49m\u001b[43melement\u001b[49m\u001b[43m,\u001b[49m\n\u001b[32m   1419\u001b[39m \u001b[43m        \u001b[49m\u001b[43mfill\u001b[49m\u001b[43m=\u001b[49m\u001b[43mfill\u001b[49m\u001b[43m,\u001b[49m\n\u001b[32m   1420\u001b[39m \u001b[43m        \u001b[49m\u001b[43mshrink\u001b[49m\u001b[43m=\u001b[49m\u001b[43mshrink\u001b[49m\u001b[43m,\u001b[49m\n\u001b[32m   1421\u001b[39m \u001b[43m        \u001b[49m\u001b[43mcommon_norm\u001b[49m\u001b[43m=\u001b[49m\u001b[43mcommon_norm\u001b[49m\u001b[43m,\u001b[49m\n\u001b[32m   1422\u001b[39m \u001b[43m        \u001b[49m\u001b[43mcommon_bins\u001b[49m\u001b[43m=\u001b[49m\u001b[43mcommon_bins\u001b[49m\u001b[43m,\u001b[49m\n\u001b[32m   1423\u001b[39m \u001b[43m        \u001b[49m\u001b[43mkde\u001b[49m\u001b[43m=\u001b[49m\u001b[43mkde\u001b[49m\u001b[43m,\u001b[49m\n\u001b[32m   1424\u001b[39m \u001b[43m        \u001b[49m\u001b[43mkde_kws\u001b[49m\u001b[43m=\u001b[49m\u001b[43mkde_kws\u001b[49m\u001b[43m,\u001b[49m\n\u001b[32m   1425\u001b[39m \u001b[43m        \u001b[49m\u001b[43mcolor\u001b[49m\u001b[43m=\u001b[49m\u001b[43mcolor\u001b[49m\u001b[43m,\u001b[49m\n\u001b[32m   1426\u001b[39m \u001b[43m        \u001b[49m\u001b[43mlegend\u001b[49m\u001b[43m=\u001b[49m\u001b[43mlegend\u001b[49m\u001b[43m,\u001b[49m\n\u001b[32m   1427\u001b[39m \u001b[43m        \u001b[49m\u001b[43mestimate_kws\u001b[49m\u001b[43m=\u001b[49m\u001b[43mestimate_kws\u001b[49m\u001b[43m,\u001b[49m\n\u001b[32m   1428\u001b[39m \u001b[43m        \u001b[49m\u001b[43mline_kws\u001b[49m\u001b[43m=\u001b[49m\u001b[43mline_kws\u001b[49m\u001b[43m,\u001b[49m\n\u001b[32m   1429\u001b[39m \u001b[43m        \u001b[49m\u001b[43m*\u001b[49m\u001b[43m*\u001b[49m\u001b[43mkwargs\u001b[49m\u001b[43m,\u001b[49m\n\u001b[32m   1430\u001b[39m \u001b[43m    \u001b[49m\u001b[43m)\u001b[49m\n\u001b[32m   1432\u001b[39m \u001b[38;5;28;01melse\u001b[39;00m:\n\u001b[32m   1434\u001b[39m     p.plot_bivariate_histogram(\n\u001b[32m   1435\u001b[39m         common_bins=common_bins,\n\u001b[32m   1436\u001b[39m         common_norm=common_norm,\n\u001b[32m   (...)\u001b[39m\u001b[32m   1446\u001b[39m         **kwargs,\n\u001b[32m   1447\u001b[39m     )\n",
      "\u001b[36mFile \u001b[39m\u001b[32m~\\.conda\\envs\\TAP-BehaviorAnalysis-\\Lib\\site-packages\\seaborn\\distributions.py:427\u001b[39m, in \u001b[36m_DistributionPlotter.plot_univariate_histogram\u001b[39m\u001b[34m(self, multiple, element, fill, common_norm, common_bins, shrink, kde, kde_kws, color, legend, line_kws, estimate_kws, **plot_kws)\u001b[39m\n\u001b[32m    424\u001b[39m histograms = {}\n\u001b[32m    426\u001b[39m \u001b[38;5;66;03m# Do pre-compute housekeeping related to multiple groups\u001b[39;00m\n\u001b[32m--> \u001b[39m\u001b[32m427\u001b[39m all_data = \u001b[38;5;28;43mself\u001b[39;49m\u001b[43m.\u001b[49m\u001b[43mcomp_data\u001b[49m.dropna()\n\u001b[32m    428\u001b[39m all_weights = all_data.get(\u001b[33m\"\u001b[39m\u001b[33mweights\u001b[39m\u001b[33m\"\u001b[39m, \u001b[38;5;28;01mNone\u001b[39;00m)\n\u001b[32m    430\u001b[39m multiple_histograms = \u001b[38;5;28mset\u001b[39m(\u001b[38;5;28mself\u001b[39m.variables) - {\u001b[33m\"\u001b[39m\u001b[33mx\u001b[39m\u001b[33m\"\u001b[39m, \u001b[33m\"\u001b[39m\u001b[33my\u001b[39m\u001b[33m\"\u001b[39m}\n",
      "\u001b[36mFile \u001b[39m\u001b[32m~\\.conda\\envs\\TAP-BehaviorAnalysis-\\Lib\\site-packages\\seaborn\\_base.py:994\u001b[39m, in \u001b[36mVectorPlotter.comp_data\u001b[39m\u001b[34m(self)\u001b[39m\n\u001b[32m    992\u001b[39m \u001b[38;5;28;01mfor\u001b[39;00m converter, orig \u001b[38;5;129;01min\u001b[39;00m grouped:\n\u001b[32m    993\u001b[39m     orig = orig.mask(orig.isin([np.inf, -np.inf]), np.nan)\n\u001b[32m--> \u001b[39m\u001b[32m994\u001b[39m     orig = \u001b[43morig\u001b[49m\u001b[43m.\u001b[49m\u001b[43mdropna\u001b[49m\u001b[43m(\u001b[49m\u001b[43m)\u001b[49m\n\u001b[32m    995\u001b[39m     \u001b[38;5;28;01mif\u001b[39;00m var \u001b[38;5;129;01min\u001b[39;00m \u001b[38;5;28mself\u001b[39m.var_levels:\n\u001b[32m    996\u001b[39m         \u001b[38;5;66;03m# TODO this should happen in some centralized location\u001b[39;00m\n\u001b[32m    997\u001b[39m         \u001b[38;5;66;03m# it is similar to GH2419, but more complicated because\u001b[39;00m\n\u001b[32m    998\u001b[39m         \u001b[38;5;66;03m# supporting `order` in categorical plots is tricky\u001b[39;00m\n\u001b[32m    999\u001b[39m         orig = orig[orig.isin(\u001b[38;5;28mself\u001b[39m.var_levels[var])]\n",
      "\u001b[36mFile \u001b[39m\u001b[32m~\\.conda\\envs\\TAP-BehaviorAnalysis-\\Lib\\site-packages\\pandas\\core\\series.py:5911\u001b[39m, in \u001b[36mSeries.dropna\u001b[39m\u001b[34m(self, axis, inplace, how, ignore_index)\u001b[39m\n\u001b[32m   5908\u001b[39m \u001b[38;5;28mself\u001b[39m._get_axis_number(axis \u001b[38;5;129;01mor\u001b[39;00m \u001b[32m0\u001b[39m)\n\u001b[32m   5910\u001b[39m \u001b[38;5;28;01mif\u001b[39;00m \u001b[38;5;28mself\u001b[39m._can_hold_na:\n\u001b[32m-> \u001b[39m\u001b[32m5911\u001b[39m     result = \u001b[43mremove_na_arraylike\u001b[49m\u001b[43m(\u001b[49m\u001b[38;5;28;43mself\u001b[39;49m\u001b[43m)\u001b[49m\n\u001b[32m   5912\u001b[39m \u001b[38;5;28;01melse\u001b[39;00m:\n\u001b[32m   5913\u001b[39m     \u001b[38;5;28;01mif\u001b[39;00m \u001b[38;5;129;01mnot\u001b[39;00m inplace:\n",
      "\u001b[36mFile \u001b[39m\u001b[32m~\\.conda\\envs\\TAP-BehaviorAnalysis-\\Lib\\site-packages\\pandas\\core\\dtypes\\missing.py:725\u001b[39m, in \u001b[36mremove_na_arraylike\u001b[39m\u001b[34m(arr)\u001b[39m\n\u001b[32m    723\u001b[39m     \u001b[38;5;28;01mreturn\u001b[39;00m arr[notna(arr)]\n\u001b[32m    724\u001b[39m \u001b[38;5;28;01melse\u001b[39;00m:\n\u001b[32m--> \u001b[39m\u001b[32m725\u001b[39m     \u001b[38;5;28;01mreturn\u001b[39;00m \u001b[43marr\u001b[49m\u001b[43m[\u001b[49m\u001b[43mnotna\u001b[49m\u001b[43m(\u001b[49m\u001b[43mnp\u001b[49m\u001b[43m.\u001b[49m\u001b[43masarray\u001b[49m\u001b[43m(\u001b[49m\u001b[43marr\u001b[49m\u001b[43m)\u001b[49m\u001b[43m)\u001b[49m\u001b[43m]\u001b[49m\n",
      "\u001b[36mFile \u001b[39m\u001b[32m~\\.conda\\envs\\TAP-BehaviorAnalysis-\\Lib\\site-packages\\pandas\\core\\series.py:1160\u001b[39m, in \u001b[36mSeries.__getitem__\u001b[39m\u001b[34m(self, key)\u001b[39m\n\u001b[32m   1158\u001b[39m     key = check_bool_indexer(\u001b[38;5;28mself\u001b[39m.index, key)\n\u001b[32m   1159\u001b[39m     key = np.asarray(key, dtype=\u001b[38;5;28mbool\u001b[39m)\n\u001b[32m-> \u001b[39m\u001b[32m1160\u001b[39m     \u001b[38;5;28;01mreturn\u001b[39;00m \u001b[38;5;28;43mself\u001b[39;49m\u001b[43m.\u001b[49m\u001b[43m_get_rows_with_mask\u001b[49m\u001b[43m(\u001b[49m\u001b[43mkey\u001b[49m\u001b[43m)\u001b[49m\n\u001b[32m   1162\u001b[39m \u001b[38;5;28;01mreturn\u001b[39;00m \u001b[38;5;28mself\u001b[39m._get_with(key)\n",
      "\u001b[36mFile \u001b[39m\u001b[32m~\\.conda\\envs\\TAP-BehaviorAnalysis-\\Lib\\site-packages\\pandas\\core\\series.py:1226\u001b[39m, in \u001b[36mSeries._get_rows_with_mask\u001b[39m\u001b[34m(self, indexer)\u001b[39m\n\u001b[32m   1225\u001b[39m \u001b[38;5;28;01mdef\u001b[39;00m\u001b[38;5;250m \u001b[39m\u001b[34m_get_rows_with_mask\u001b[39m(\u001b[38;5;28mself\u001b[39m, indexer: npt.NDArray[np.bool_]) -> Series:\n\u001b[32m-> \u001b[39m\u001b[32m1226\u001b[39m     new_mgr = \u001b[38;5;28;43mself\u001b[39;49m\u001b[43m.\u001b[49m\u001b[43m_mgr\u001b[49m\u001b[43m.\u001b[49m\u001b[43mget_rows_with_mask\u001b[49m\u001b[43m(\u001b[49m\u001b[43mindexer\u001b[49m\u001b[43m)\u001b[49m\n\u001b[32m   1227\u001b[39m     \u001b[38;5;28;01mreturn\u001b[39;00m \u001b[38;5;28mself\u001b[39m._constructor_from_mgr(new_mgr, axes=new_mgr.axes).__finalize__(\u001b[38;5;28mself\u001b[39m)\n",
      "\u001b[36mFile \u001b[39m\u001b[32m~\\.conda\\envs\\TAP-BehaviorAnalysis-\\Lib\\site-packages\\pandas\\core\\internals\\managers.py:1971\u001b[39m, in \u001b[36mSingleBlockManager.get_rows_with_mask\u001b[39m\u001b[34m(self, indexer)\u001b[39m\n\u001b[32m   1968\u001b[39m bp = BlockPlacement(\u001b[38;5;28mslice\u001b[39m(\u001b[32m0\u001b[39m, \u001b[38;5;28mlen\u001b[39m(array)))\n\u001b[32m   1969\u001b[39m block = \u001b[38;5;28mtype\u001b[39m(blk)(array, placement=bp, ndim=\u001b[32m1\u001b[39m, refs=refs)\n\u001b[32m-> \u001b[39m\u001b[32m1971\u001b[39m new_idx = \u001b[38;5;28;43mself\u001b[39;49m\u001b[43m.\u001b[49m\u001b[43mindex\u001b[49m\u001b[43m[\u001b[49m\u001b[43mindexer\u001b[49m\u001b[43m]\u001b[49m\n\u001b[32m   1972\u001b[39m \u001b[38;5;28;01mreturn\u001b[39;00m \u001b[38;5;28mtype\u001b[39m(\u001b[38;5;28mself\u001b[39m)(block, new_idx)\n",
      "\u001b[36mFile \u001b[39m\u001b[32m~\\.conda\\envs\\TAP-BehaviorAnalysis-\\Lib\\site-packages\\pandas\\core\\indexes\\base.py:5428\u001b[39m, in \u001b[36mIndex.__getitem__\u001b[39m\u001b[34m(self, key)\u001b[39m\n\u001b[32m   5419\u001b[39m         \u001b[38;5;28;01mif\u001b[39;00m \u001b[38;5;28mlen\u001b[39m(key) == \u001b[32m0\u001b[39m \u001b[38;5;129;01mand\u001b[39;00m \u001b[38;5;28mlen\u001b[39m(key) != \u001b[38;5;28mlen\u001b[39m(\u001b[38;5;28mself\u001b[39m):\n\u001b[32m   5420\u001b[39m             warnings.warn(\n\u001b[32m   5421\u001b[39m                 \u001b[33m\"\u001b[39m\u001b[33mUsing a boolean indexer with length 0 on an Index with \u001b[39m\u001b[33m\"\u001b[39m\n\u001b[32m   5422\u001b[39m                 \u001b[33m\"\u001b[39m\u001b[33mlength greater than 0 is deprecated and will raise in a \u001b[39m\u001b[33m\"\u001b[39m\n\u001b[32m   (...)\u001b[39m\u001b[32m   5425\u001b[39m                 stacklevel=find_stack_level(),\n\u001b[32m   5426\u001b[39m             )\n\u001b[32m-> \u001b[39m\u001b[32m5428\u001b[39m result = \u001b[43mgetitem\u001b[49m\u001b[43m(\u001b[49m\u001b[43mkey\u001b[49m\u001b[43m)\u001b[49m\n\u001b[32m   5429\u001b[39m \u001b[38;5;66;03m# Because we ruled out integer above, we always get an arraylike here\u001b[39;00m\n\u001b[32m   5430\u001b[39m \u001b[38;5;28;01mif\u001b[39;00m result.ndim > \u001b[32m1\u001b[39m:\n",
      "\u001b[31mKeyboardInterrupt\u001b[39m: "
     ]
    },
    {
     "data": {
      "image/png": "[encoded data removed]",
      "text/plain": [
       "<Figure size 1200x500 with 2 Axes>"
      ]
     },
     "metadata": {},
     "output_type": "display_data"
    }
   ],
   "source": [
    "# Step 3 Results Inspection\n",
    "import pandas as pd\n",
    "import numpy as np\n",
    "import matplotlib.pyplot as plt\n",
    "import seaborn as sns\n",
    "\n",
    "def inspect_step3_results(file_path=\"geo_data_fully_processed.pkl\", sample_size=10000):\n",
    "    \"\"\"\n",
    "    Comprehensive inspection of Step 3 results\n",
    "    \"\"\"\n",
    "    print(\"=== STEP 3 RESULTS INSPECTION ===\")\n",
    "    \n",
    "    try:\n",
    "        # Load the processed data\n",
    "        geo_df_processed = pd.read_pickle(file_path)\n",
    "        print(f\"Loaded processed data with {len(geo_df_processed):,} rows\")\n",
    "        \n",
    "        # 1. Basic Information\n",
    "        print(\"\\n1. BASIC DATASET INFO:\")\n",
    "        print(f\"Shape: {geo_df_processed.shape}\")\n",
    "        print(\"\\nColumns and data types:\")\n",
    "        print(geo_df_processed.dtypes)\n",
    "        \n",
    "        # 2. Check for missing values\n",
    "        print(\"\\n2. MISSING VALUES CHECK:\")\n",
    "        missing_values = geo_df_processed.isnull().sum()\n",
    "        print(missing_values)\n",
    "        \n",
    "        # 3. Verify coordinate ranges\n",
    "        print(\"\\n3. COORDINATE RANGES:\")\n",
    "        print(f\"Latitude range: [{geo_df_processed['latitude'].min():.6f}, {geo_df_processed['latitude'].max():.6f}]\")\n",
    "        print(f\"Longitude range: [{geo_df_processed['longitude'].min():.6f}, {geo_df_processed['longitude'].max():.6f}]\")\n",
    "        \n",
    "        # 4. Sample of decoded coordinates\n",
    "        print(\"\\n4. SAMPLE OF DECODED COORDINATES:\")\n",
    "        sample_df = geo_df_processed.sample(min(sample_size, len(geo_df_processed)))\n",
    "        print(sample_df[['geohash_6', 'latitude', 'longitude']].head(10))\n",
    "        \n",
    "        # 5. Check coordinate distribution\n",
    "        print(\"\\n5. COORDINATE DISTRIBUTION:\")\n",
    "        fig, axes = plt.subplots(1, 2, figsize=(12, 5))\n",
    "        \n",
    "        # Latitude distribution\n",
    "        sns.histplot(geo_df_processed['latitude'].dropna(), ax=axes[0], kde=True)\n",
    "        axes[0].set_title('Latitude Distribution')\n",
    "        \n",
    "        # Longitude distribution\n",
    "        sns.histplot(geo_df_processed['longitude'].dropna(), ax=axes[1], kde=True)\n",
    "        axes[1].set_title('Longitude Distribution')\n",
    "        \n",
    "        plt.tight_layout()\n",
    "        plt.savefig('coordinate_distribution.png')\n",
    "        print(\"Coordinate distribution plots saved as 'coordinate_distribution.png'\")\n",
    "        \n",
    "        # 6. Check for impossible coordinates\n",
    "        print(\"\\n6. IMPOSSIBLE COORDINATE CHECK:\")\n",
    "        # Check for coordinates that are clearly invalid\n",
    "        invalid_lat = ((geo_df_processed['latitude'] < -90) | (geo_df_processed['latitude'] > 90)).sum()\n",
    "        invalid_lon = ((geo_df_processed['longitude'] < -180) | (geo_df_processed['longitude'] > 180)).sum()\n",
    "        print(f\"Invalid latitudes (outside [-90, 90]): {invalid_lat}\")\n",
    "        print(f\"Invalid longitudes (outside [-180, 180]): {invalid_lon}\")\n",
    "        \n",
    "        # 7. Check for coordinates that are exactly 0,0 (often indicates decoding errors)\n",
    "        zero_coords = ((geo_df_processed['latitude'] == 0) & (geo_df_processed['longitude'] == 0)).sum()\n",
    "        print(f\"Coordinates at (0, 0): {zero_coords}\")\n",
    "        \n",
    "        # 8. Check client distribution\n",
    "        print(\"\\n7. CLIENT DISTRIBUTION:\")\n",
    "        client_counts = geo_df_processed['client_id'].value_counts()\n",
    "        print(f\"Total clients: {len(client_counts):,}\")\n",
    "        print(f\"Average events per client: {client_counts.mean():.1f}\")\n",
    "        print(f\"Min events per client: {client_counts.min()}\")\n",
    "        print(f\"Max events per client: {client_counts.max()}\")\n",
    "        \n",
    "        # 9. Time range check\n",
    "        print(\"\\n8. TIME RANGE:\")\n",
    "        print(f\"Earliest event: {geo_df_processed['event_time'].min()}\")\n",
    "        print(f\"Latest event: {geo_df_processed['event_time'].max()}\")\n",
    "        \n",
    "        # 10. Fold distribution\n",
    "        print(\"\\n9. FOLD DISTRIBUTION:\")\n",
    "        fold_counts = geo_df_processed['fold'].value_counts().sort_index()\n",
    "        print(fold_counts)\n",
    "        \n",
    "        return geo_df_processed\n",
    "        \n",
    "    except FileNotFoundError:\n",
    "        print(f\"File {file_path} not found. Please run Step 3 first.\")\n",
    "        return None\n",
    "    except Exception as e:\n",
    "        print(f\"Error during inspection: {e}\")\n",
    "        return None\n",
    "\n",
    "# Execute the inspection\n",
    "processed_data = inspect_step3_results()\n",
    "\n",
    "if processed_data is not None:\n",
    "    print(\"\\n=== INSPECTION COMPLETE ===\")\n",
    "    print(\"Based on this inspection, we can determine if Step 3 was successful\")\n",
    "    print(\"and whether we can proceed to Step 4 (Feature Engineering).\")\n",
    "    \n",
    "    # Check if there are any critical issues that need to be addressed\n",
    "    missing_coords = processed_data[['latitude', 'longitude']].isnull().sum().sum()\n",
    "    if missing_coords > 0:\n",
    "        print(f\"\\nWARNING: Found {missing_coords} missing coordinates. This might affect feature engineering.\")\n",
    "    \n",
    "    invalid_coords = ((processed_data['latitude'] < -90) | (processed_data['latitude'] > 90) | \n",
    "                     (processed_data['longitude'] < -180) | (processed_data['longitude'] > 180)).sum()\n",
    "    if invalid_coords > 0:\n",
    "        print(f\"WARNING: Found {invalid_coords} invalid coordinates outside valid ranges.\")\n",
    "    \n",
    "    if missing_coords == 0 and invalid_coords == 0:\n",
    "        print(\"\\n✓ Step 3 completed successfully. Data is ready for Step 4 (Feature Engineering).\")\n",
    "    else:\n",
    "        print(\"\\n⚠ Step 3 completed with some issues. We may need to clean the data before Step 4.\")"
   ]
  },
  {
   "cell_type": "code",
   "execution_count": null,
   "id": "ba58d7a6-dfe9-4ab9-b690-f49a3e4e611e",
   "metadata": {},
   "outputs": [],
   "source": []
  }
 ],
 "metadata": {
  "kernelspec": {
   "display_name": "Python 3 (ipykernel)",
   "language": "python",
   "name": "python3"
  },
  "language_info": {
   "codemirror_mode": {
    "name": "ipython",
    "version": 3
   },
   "file_extension": ".py",
   "mimetype": "text/x-python",
   "name": "python",
   "nbconvert_exporter": "python",
   "pygments_lexer": "ipython3",
   "version": "3.12.9"
  }
 },
 "nbformat": 4,
 "nbformat_minor": 5
}
